{
 "cells": [
  {
   "cell_type": "markdown",
   "id": "bf60c504",
   "metadata": {
    "execution": {
     "iopub.execute_input": "2022-11-21T14:57:11.804284Z",
     "iopub.status.busy": "2022-11-21T14:57:11.803848Z",
     "iopub.status.idle": "2022-11-21T14:57:11.814434Z",
     "shell.execute_reply": "2022-11-21T14:57:11.812439Z",
     "shell.execute_reply.started": "2022-11-21T14:57:11.804233Z"
    },
    "papermill": {
     "duration": 0.015388,
     "end_time": "2022-11-26T15:14:29.361943",
     "exception": false,
     "start_time": "2022-11-26T15:14:29.346555",
     "status": "completed"
    },
    "tags": []
   },
   "source": [
    "<h1 style=\"color:black; font-size:300%\">DATA CLEANING WITH PYTHON</h1> \n",
    "\n",
    "<h2 style= \"color:black; font-size:392%\"> NUMBER OF <b style=\"color:red\">CANCER</b> SURGERIES PERFORMED IN CALIFORNIA HOSPITALS    FROM 2013 TO 2020 </h2>\n",
    "\n",
    "\n",
    "<h3 style=\"color:black; font-size:300%\">BACKGROUND</h3> \n",
    "\n",
    "\n",
    "<b style=\"font-size:200%\"> The dataset used for this ANALYSIS was obtained from <a href=\"\n",
    "https://data.chhs.ca.gov/dataset/number-of-cancer-surgeries-volume-performed-in-california-hospitals\">data.chhs.ca.gov</a> </b>\n",
    "\n",
    "\n",
    "\n",
    "\n",
    "\n",
    "\n",
    "\n",
    "\n",
    "Citation:  \tHCAI Patient Discharge Data and Ambulatory Surgery Data (for breast cancer only), 2013 - 2019\n",
    "\n",
    "\n"
   ]
  },
  {
   "cell_type": "markdown",
   "id": "a2892f06",
   "metadata": {
    "execution": {
     "iopub.execute_input": "2022-11-21T14:57:45.278912Z",
     "iopub.status.busy": "2022-11-21T14:57:45.277818Z",
     "iopub.status.idle": "2022-11-21T14:57:45.287589Z",
     "shell.execute_reply": "2022-11-21T14:57:45.285609Z",
     "shell.execute_reply.started": "2022-11-21T14:57:45.278862Z"
    },
    "papermill": {
     "duration": 0.015002,
     "end_time": "2022-11-26T15:14:29.390672",
     "exception": false,
     "start_time": "2022-11-26T15:14:29.375670",
     "status": "completed"
    },
    "tags": []
   },
   "source": [
    "<div style=\"color:white;\n",
    "           display:fill;\n",
    "           border-radius:5px;\n",
    "           background-color:#5642C5;\n",
    "           font-size:210%;\n",
    "           font-family:Verdana;\n",
    "           letter-spacing:0.5px\">\n",
    "\n",
    "<p style=\"padding: 40px;\n",
    "              color:white;\">\n",
    "IMPORT RELEVANT LIBRARIES\n",
    "</p>\n",
    "</div>"
   ]
  },
  {
   "cell_type": "code",
   "execution_count": 1,
   "id": "039792ca",
   "metadata": {
    "execution": {
     "iopub.execute_input": "2022-11-26T15:14:29.421151Z",
     "iopub.status.busy": "2022-11-26T15:14:29.420185Z",
     "iopub.status.idle": "2022-11-26T15:14:31.448828Z",
     "shell.execute_reply": "2022-11-26T15:14:31.447637Z"
    },
    "papermill": {
     "duration": 2.047091,
     "end_time": "2022-11-26T15:14:31.451718",
     "exception": false,
     "start_time": "2022-11-26T15:14:29.404627",
     "status": "completed"
    },
    "tags": []
   },
   "outputs": [
    {
     "data": {
      "text/html": [
       "        <script type=\"text/javascript\">\n",
       "        window.PlotlyConfig = {MathJaxConfig: 'local'};\n",
       "        if (window.MathJax && window.MathJax.Hub && window.MathJax.Hub.Config) {window.MathJax.Hub.Config({SVG: {font: \"STIX-Web\"}});}\n",
       "        if (typeof require !== 'undefined') {\n",
       "        require.undef(\"plotly\");\n",
       "        requirejs.config({\n",
       "            paths: {\n",
       "                'plotly': ['https://cdn.plot.ly/plotly-2.14.0.min']\n",
       "            }\n",
       "        });\n",
       "        require(['plotly'], function(Plotly) {\n",
       "            window._Plotly = Plotly;\n",
       "        });\n",
       "        }\n",
       "        </script>\n",
       "        "
      ]
     },
     "metadata": {},
     "output_type": "display_data"
    }
   ],
   "source": [
    "import numpy as np\n",
    "import pandas as pd\n",
    "import matplotlib.pyplot as plt\n",
    "import seaborn as sns\n",
    "import plotly.express as px\n",
    "from plotly.offline import init_notebook_mode, iplot\n",
    "init_notebook_mode(connected=True)\n",
    "import warnings\n",
    "warnings.filterwarnings(\"ignore\")\n"
   ]
  },
  {
   "cell_type": "markdown",
   "id": "cd216413",
   "metadata": {
    "papermill": {
     "duration": 0.015464,
     "end_time": "2022-11-26T15:14:31.481023",
     "exception": false,
     "start_time": "2022-11-26T15:14:31.465559",
     "status": "completed"
    },
    "tags": []
   },
   "source": [
    "<div style=\"color:white;\n",
    "           display:fill;\n",
    "           border-radius:5px;\n",
    "           background-color:#5642C5;\n",
    "           font-size:210%;\n",
    "           font-family:Verdana;\n",
    "           letter-spacing:0.5px\">\n",
    "\n",
    "<p style=\"padding: 20px;\n",
    "              color:white;\">\n",
    "READ DATASET\n",
    "</p>"
   ]
  },
  {
   "cell_type": "code",
   "execution_count": 2,
   "id": "3e899c0d",
   "metadata": {
    "execution": {
     "iopub.execute_input": "2022-11-26T15:14:31.516706Z",
     "iopub.status.busy": "2022-11-26T15:14:31.515902Z",
     "iopub.status.idle": "2022-11-26T15:14:31.619836Z",
     "shell.execute_reply": "2022-11-26T15:14:31.618619Z"
    },
    "papermill": {
     "duration": 0.125606,
     "end_time": "2022-11-26T15:14:31.622503",
     "exception": false,
     "start_time": "2022-11-26T15:14:31.496897",
     "status": "completed"
    },
    "tags": []
   },
   "outputs": [
    {
     "data": {
      "text/html": [
       "<div>\n",
       "<style scoped>\n",
       "    .dataframe tbody tr th:only-of-type {\n",
       "        vertical-align: middle;\n",
       "    }\n",
       "\n",
       "    .dataframe tbody tr th {\n",
       "        vertical-align: top;\n",
       "    }\n",
       "\n",
       "    .dataframe thead th {\n",
       "        text-align: right;\n",
       "    }\n",
       "</style>\n",
       "<table border=\"1\" class=\"dataframe\">\n",
       "  <thead>\n",
       "    <tr style=\"text-align: right;\">\n",
       "      <th></th>\n",
       "      <th>Year</th>\n",
       "      <th>County</th>\n",
       "      <th>Hospital</th>\n",
       "      <th>OSHPDID</th>\n",
       "      <th>Surgery</th>\n",
       "      <th># of Cases (ICD 9)</th>\n",
       "      <th># of Cases (ICD 10)</th>\n",
       "      <th>LONGITUDE</th>\n",
       "      <th>LATITUDE</th>\n",
       "    </tr>\n",
       "  </thead>\n",
       "  <tbody>\n",
       "    <tr>\n",
       "      <th>0</th>\n",
       "      <td>2013</td>\n",
       "      <td>NaN</td>\n",
       "      <td>Statewide</td>\n",
       "      <td>NaN</td>\n",
       "      <td>Colon</td>\n",
       "      <td>7128.0</td>\n",
       "      <td>NaN</td>\n",
       "      <td>NaN</td>\n",
       "      <td>NaN</td>\n",
       "    </tr>\n",
       "    <tr>\n",
       "      <th>1</th>\n",
       "      <td>2013</td>\n",
       "      <td>NaN</td>\n",
       "      <td>Statewide</td>\n",
       "      <td>NaN</td>\n",
       "      <td>Bladder</td>\n",
       "      <td>892.0</td>\n",
       "      <td>NaN</td>\n",
       "      <td>NaN</td>\n",
       "      <td>NaN</td>\n",
       "    </tr>\n",
       "    <tr>\n",
       "      <th>2</th>\n",
       "      <td>2013</td>\n",
       "      <td>NaN</td>\n",
       "      <td>Statewide</td>\n",
       "      <td>NaN</td>\n",
       "      <td>Rectum</td>\n",
       "      <td>2128.0</td>\n",
       "      <td>NaN</td>\n",
       "      <td>NaN</td>\n",
       "      <td>NaN</td>\n",
       "    </tr>\n",
       "    <tr>\n",
       "      <th>3</th>\n",
       "      <td>2013</td>\n",
       "      <td>NaN</td>\n",
       "      <td>Statewide</td>\n",
       "      <td>NaN</td>\n",
       "      <td>Breast</td>\n",
       "      <td>25829.0</td>\n",
       "      <td>NaN</td>\n",
       "      <td>NaN</td>\n",
       "      <td>NaN</td>\n",
       "    </tr>\n",
       "    <tr>\n",
       "      <th>4</th>\n",
       "      <td>2013</td>\n",
       "      <td>NaN</td>\n",
       "      <td>Statewide</td>\n",
       "      <td>NaN</td>\n",
       "      <td>Brain</td>\n",
       "      <td>2719.0</td>\n",
       "      <td>NaN</td>\n",
       "      <td>NaN</td>\n",
       "      <td>NaN</td>\n",
       "    </tr>\n",
       "    <tr>\n",
       "      <th>...</th>\n",
       "      <td>...</td>\n",
       "      <td>...</td>\n",
       "      <td>...</td>\n",
       "      <td>...</td>\n",
       "      <td>...</td>\n",
       "      <td>...</td>\n",
       "      <td>...</td>\n",
       "      <td>...</td>\n",
       "      <td>...</td>\n",
       "    </tr>\n",
       "    <tr>\n",
       "      <th>15694</th>\n",
       "      <td>2020</td>\n",
       "      <td>Yuba</td>\n",
       "      <td>Adventist Health and Rideout</td>\n",
       "      <td>106580996.0</td>\n",
       "      <td>Rectum</td>\n",
       "      <td>NaN</td>\n",
       "      <td>6.0</td>\n",
       "      <td>-121.593602</td>\n",
       "      <td>39.138805</td>\n",
       "    </tr>\n",
       "    <tr>\n",
       "      <th>15695</th>\n",
       "      <td>2020</td>\n",
       "      <td>Yuba</td>\n",
       "      <td>Adventist Health and Rideout</td>\n",
       "      <td>106580996.0</td>\n",
       "      <td>Prostate</td>\n",
       "      <td>NaN</td>\n",
       "      <td>5.0</td>\n",
       "      <td>-121.593602</td>\n",
       "      <td>39.138805</td>\n",
       "    </tr>\n",
       "    <tr>\n",
       "      <th>15696</th>\n",
       "      <td>2020</td>\n",
       "      <td>Yuba</td>\n",
       "      <td>Adventist Health and Rideout</td>\n",
       "      <td>106580996.0</td>\n",
       "      <td>Lung</td>\n",
       "      <td>NaN</td>\n",
       "      <td>8.0</td>\n",
       "      <td>-121.593602</td>\n",
       "      <td>39.138805</td>\n",
       "    </tr>\n",
       "    <tr>\n",
       "      <th>15697</th>\n",
       "      <td>2020</td>\n",
       "      <td>Yuba</td>\n",
       "      <td>Adventist Health and Rideout</td>\n",
       "      <td>106580996.0</td>\n",
       "      <td>Colon</td>\n",
       "      <td>NaN</td>\n",
       "      <td>20.0</td>\n",
       "      <td>-121.593602</td>\n",
       "      <td>39.138805</td>\n",
       "    </tr>\n",
       "    <tr>\n",
       "      <th>15698</th>\n",
       "      <td>2020</td>\n",
       "      <td>Yuba</td>\n",
       "      <td>Adventist Health and Rideout</td>\n",
       "      <td>106580996.0</td>\n",
       "      <td>Breast</td>\n",
       "      <td>NaN</td>\n",
       "      <td>25.0</td>\n",
       "      <td>-121.593602</td>\n",
       "      <td>39.138805</td>\n",
       "    </tr>\n",
       "  </tbody>\n",
       "</table>\n",
       "<p>15699 rows × 9 columns</p>\n",
       "</div>"
      ],
      "text/plain": [
       "       Year County                      Hospital      OSHPDID   Surgery  \\\n",
       "0      2013    NaN                     Statewide          NaN     Colon   \n",
       "1      2013    NaN                     Statewide          NaN   Bladder   \n",
       "2      2013    NaN                     Statewide          NaN    Rectum   \n",
       "3      2013    NaN                     Statewide          NaN    Breast   \n",
       "4      2013    NaN                     Statewide          NaN     Brain   \n",
       "...     ...    ...                           ...          ...       ...   \n",
       "15694  2020   Yuba  Adventist Health and Rideout  106580996.0    Rectum   \n",
       "15695  2020   Yuba  Adventist Health and Rideout  106580996.0  Prostate   \n",
       "15696  2020   Yuba  Adventist Health and Rideout  106580996.0      Lung   \n",
       "15697  2020   Yuba  Adventist Health and Rideout  106580996.0     Colon   \n",
       "15698  2020   Yuba  Adventist Health and Rideout  106580996.0    Breast   \n",
       "\n",
       "       # of Cases (ICD 9)  # of Cases (ICD 10)   LONGITUDE   LATITUDE  \n",
       "0                  7128.0                  NaN         NaN        NaN  \n",
       "1                   892.0                  NaN         NaN        NaN  \n",
       "2                  2128.0                  NaN         NaN        NaN  \n",
       "3                 25829.0                  NaN         NaN        NaN  \n",
       "4                  2719.0                  NaN         NaN        NaN  \n",
       "...                   ...                  ...         ...        ...  \n",
       "15694                 NaN                  6.0 -121.593602  39.138805  \n",
       "15695                 NaN                  5.0 -121.593602  39.138805  \n",
       "15696                 NaN                  8.0 -121.593602  39.138805  \n",
       "15697                 NaN                 20.0 -121.593602  39.138805  \n",
       "15698                 NaN                 25.0 -121.593602  39.138805  \n",
       "\n",
       "[15699 rows x 9 columns]"
      ]
     },
     "execution_count": 2,
     "metadata": {},
     "output_type": "execute_result"
    }
   ],
   "source": [
    "data=pd.read_csv(\"../input/cancer-analysis/ca-oshpd-cancer-surgeries-gachospitals-20132020.csv\", encoding=\"unicode_escape\")\n",
    "data"
   ]
  },
  {
   "cell_type": "markdown",
   "id": "826e8587",
   "metadata": {
    "papermill": {
     "duration": 0.013821,
     "end_time": "2022-11-26T15:14:31.650653",
     "exception": false,
     "start_time": "2022-11-26T15:14:31.636832",
     "status": "completed"
    },
    "tags": []
   },
   "source": [
    " <h1 style=\"color:blue\"; font-size:100%\">INSPECT DATA:</h1> \n",
    "    \n",
    " <h2 style=\"color:blue; font-size:150%\">Dataset Dimension, Size, Numerical Summary and Dataset Column Type:</h2>"
   ]
  },
  {
   "cell_type": "code",
   "execution_count": 3,
   "id": "d58c9841",
   "metadata": {
    "execution": {
     "iopub.execute_input": "2022-11-26T15:14:31.680867Z",
     "iopub.status.busy": "2022-11-26T15:14:31.680477Z",
     "iopub.status.idle": "2022-11-26T15:14:31.686269Z",
     "shell.execute_reply": "2022-11-26T15:14:31.685059Z"
    },
    "papermill": {
     "duration": 0.024997,
     "end_time": "2022-11-26T15:14:31.689911",
     "exception": false,
     "start_time": "2022-11-26T15:14:31.664914",
     "status": "completed"
    },
    "tags": []
   },
   "outputs": [
    {
     "name": "stdout",
     "output_type": "stream",
     "text": [
      "This is the shape of the data:  (15699, 9)\n"
     ]
    }
   ],
   "source": [
    "print(\"This is the shape of the data: \", data.shape)\n"
   ]
  },
  {
   "cell_type": "code",
   "execution_count": 4,
   "id": "a7c34540",
   "metadata": {
    "execution": {
     "iopub.execute_input": "2022-11-26T15:14:31.721215Z",
     "iopub.status.busy": "2022-11-26T15:14:31.720830Z",
     "iopub.status.idle": "2022-11-26T15:14:31.745014Z",
     "shell.execute_reply": "2022-11-26T15:14:31.743450Z"
    },
    "papermill": {
     "duration": 0.042138,
     "end_time": "2022-11-26T15:14:31.747246",
     "exception": false,
     "start_time": "2022-11-26T15:14:31.705108",
     "status": "completed"
    },
    "tags": []
   },
   "outputs": [
    {
     "name": "stdout",
     "output_type": "stream",
     "text": [
      "<class 'pandas.core.frame.DataFrame'>\n",
      "RangeIndex: 15699 entries, 0 to 15698\n",
      "Data columns (total 9 columns):\n",
      " #   Column               Non-Null Count  Dtype  \n",
      "---  ------               --------------  -----  \n",
      " 0   Year                 15699 non-null  int64  \n",
      " 1   County               15611 non-null  object \n",
      " 2   Hospital             15699 non-null  object \n",
      " 3   OSHPDID              15611 non-null  float64\n",
      " 4   Surgery              15699 non-null  object \n",
      " 5   # of Cases (ICD 9)   5729 non-null   float64\n",
      " 6   # of Cases (ICD 10)  9970 non-null   float64\n",
      " 7   LONGITUDE            15604 non-null  float64\n",
      " 8   LATITUDE             15604 non-null  float64\n",
      "dtypes: float64(5), int64(1), object(3)\n",
      "memory usage: 1.1+ MB\n"
     ]
    }
   ],
   "source": [
    "# Dataset column type\n",
    "data.info()"
   ]
  },
  {
   "cell_type": "markdown",
   "id": "3aaf8d8c",
   "metadata": {
    "papermill": {
     "duration": 0.013961,
     "end_time": "2022-11-26T15:14:31.775568",
     "exception": false,
     "start_time": "2022-11-26T15:14:31.761607",
     "status": "completed"
    },
    "tags": []
   },
   "source": [
    " <h1 style=\"color:red\"; font-size:100%\">DATA CLEANING AND MANIPULATION:</h1>"
   ]
  },
  {
   "cell_type": "code",
   "execution_count": 5,
   "id": "b5b46c78",
   "metadata": {
    "execution": {
     "iopub.execute_input": "2022-11-26T15:14:31.806060Z",
     "iopub.status.busy": "2022-11-26T15:14:31.805182Z",
     "iopub.status.idle": "2022-11-26T15:14:31.812784Z",
     "shell.execute_reply": "2022-11-26T15:14:31.811245Z"
    },
    "papermill": {
     "duration": 0.025814,
     "end_time": "2022-11-26T15:14:31.815525",
     "exception": false,
     "start_time": "2022-11-26T15:14:31.789711",
     "status": "completed"
    },
    "tags": []
   },
   "outputs": [
    {
     "data": {
      "text/plain": [
       "Index(['Year', 'County', 'Hospital', 'OSHPDID', 'Surgery',\n",
       "       '# of Cases (ICD 9)', '# of Cases (ICD 10)', 'LONGITUDE', 'LATITUDE'],\n",
       "      dtype='object')"
      ]
     },
     "execution_count": 5,
     "metadata": {},
     "output_type": "execute_result"
    }
   ],
   "source": [
    "# check for names of columns\n",
    "data.columns"
   ]
  },
  {
   "cell_type": "markdown",
   "id": "e10feb1e",
   "metadata": {
    "papermill": {
     "duration": 0.01751,
     "end_time": "2022-11-26T15:14:31.848338",
     "exception": false,
     "start_time": "2022-11-26T15:14:31.830828",
     "status": "completed"
    },
    "tags": []
   },
   "source": [
    "<div style=\"color:white;\n",
    "           display:fill;\n",
    "           border-radius:5px;\n",
    "           background-color:red;\n",
    "           font-size:110%;\n",
    "           font-family:Verdana;\n",
    "           letter-spacing:0.5px\">\n",
    "\n",
    "<p style=\"padding: 20px;\n",
    "              color:white;\">\n",
    "INSIGHT:Some of the columns have have to be renamed to avoid ambiquity during analysis\n",
    "</p>"
   ]
  },
  {
   "cell_type": "code",
   "execution_count": 6,
   "id": "fed017f6",
   "metadata": {
    "execution": {
     "iopub.execute_input": "2022-11-26T15:14:31.880188Z",
     "iopub.status.busy": "2022-11-26T15:14:31.879511Z",
     "iopub.status.idle": "2022-11-26T15:14:31.905748Z",
     "shell.execute_reply": "2022-11-26T15:14:31.904564Z"
    },
    "papermill": {
     "duration": 0.044452,
     "end_time": "2022-11-26T15:14:31.907968",
     "exception": false,
     "start_time": "2022-11-26T15:14:31.863516",
     "status": "completed"
    },
    "tags": []
   },
   "outputs": [
    {
     "data": {
      "text/html": [
       "<div>\n",
       "<style scoped>\n",
       "    .dataframe tbody tr th:only-of-type {\n",
       "        vertical-align: middle;\n",
       "    }\n",
       "\n",
       "    .dataframe tbody tr th {\n",
       "        vertical-align: top;\n",
       "    }\n",
       "\n",
       "    .dataframe thead th {\n",
       "        text-align: right;\n",
       "    }\n",
       "</style>\n",
       "<table border=\"1\" class=\"dataframe\">\n",
       "  <thead>\n",
       "    <tr style=\"text-align: right;\">\n",
       "      <th></th>\n",
       "      <th>Year</th>\n",
       "      <th>County</th>\n",
       "      <th>Hospital</th>\n",
       "      <th>OSHPD_ID</th>\n",
       "      <th>Surgery</th>\n",
       "      <th>No_of_cases1</th>\n",
       "      <th>No_of_cases2</th>\n",
       "      <th>LONGITUDE</th>\n",
       "      <th>LATITUDE</th>\n",
       "    </tr>\n",
       "  </thead>\n",
       "  <tbody>\n",
       "    <tr>\n",
       "      <th>0</th>\n",
       "      <td>2013</td>\n",
       "      <td>NaN</td>\n",
       "      <td>Statewide</td>\n",
       "      <td>NaN</td>\n",
       "      <td>Colon</td>\n",
       "      <td>7128.0</td>\n",
       "      <td>NaN</td>\n",
       "      <td>NaN</td>\n",
       "      <td>NaN</td>\n",
       "    </tr>\n",
       "    <tr>\n",
       "      <th>1</th>\n",
       "      <td>2013</td>\n",
       "      <td>NaN</td>\n",
       "      <td>Statewide</td>\n",
       "      <td>NaN</td>\n",
       "      <td>Bladder</td>\n",
       "      <td>892.0</td>\n",
       "      <td>NaN</td>\n",
       "      <td>NaN</td>\n",
       "      <td>NaN</td>\n",
       "    </tr>\n",
       "    <tr>\n",
       "      <th>2</th>\n",
       "      <td>2013</td>\n",
       "      <td>NaN</td>\n",
       "      <td>Statewide</td>\n",
       "      <td>NaN</td>\n",
       "      <td>Rectum</td>\n",
       "      <td>2128.0</td>\n",
       "      <td>NaN</td>\n",
       "      <td>NaN</td>\n",
       "      <td>NaN</td>\n",
       "    </tr>\n",
       "    <tr>\n",
       "      <th>3</th>\n",
       "      <td>2013</td>\n",
       "      <td>NaN</td>\n",
       "      <td>Statewide</td>\n",
       "      <td>NaN</td>\n",
       "      <td>Breast</td>\n",
       "      <td>25829.0</td>\n",
       "      <td>NaN</td>\n",
       "      <td>NaN</td>\n",
       "      <td>NaN</td>\n",
       "    </tr>\n",
       "    <tr>\n",
       "      <th>4</th>\n",
       "      <td>2013</td>\n",
       "      <td>NaN</td>\n",
       "      <td>Statewide</td>\n",
       "      <td>NaN</td>\n",
       "      <td>Brain</td>\n",
       "      <td>2719.0</td>\n",
       "      <td>NaN</td>\n",
       "      <td>NaN</td>\n",
       "      <td>NaN</td>\n",
       "    </tr>\n",
       "    <tr>\n",
       "      <th>...</th>\n",
       "      <td>...</td>\n",
       "      <td>...</td>\n",
       "      <td>...</td>\n",
       "      <td>...</td>\n",
       "      <td>...</td>\n",
       "      <td>...</td>\n",
       "      <td>...</td>\n",
       "      <td>...</td>\n",
       "      <td>...</td>\n",
       "    </tr>\n",
       "    <tr>\n",
       "      <th>15694</th>\n",
       "      <td>2020</td>\n",
       "      <td>Yuba</td>\n",
       "      <td>Adventist Health and Rideout</td>\n",
       "      <td>106580996.0</td>\n",
       "      <td>Rectum</td>\n",
       "      <td>NaN</td>\n",
       "      <td>6.0</td>\n",
       "      <td>-121.593602</td>\n",
       "      <td>39.138805</td>\n",
       "    </tr>\n",
       "    <tr>\n",
       "      <th>15695</th>\n",
       "      <td>2020</td>\n",
       "      <td>Yuba</td>\n",
       "      <td>Adventist Health and Rideout</td>\n",
       "      <td>106580996.0</td>\n",
       "      <td>Prostate</td>\n",
       "      <td>NaN</td>\n",
       "      <td>5.0</td>\n",
       "      <td>-121.593602</td>\n",
       "      <td>39.138805</td>\n",
       "    </tr>\n",
       "    <tr>\n",
       "      <th>15696</th>\n",
       "      <td>2020</td>\n",
       "      <td>Yuba</td>\n",
       "      <td>Adventist Health and Rideout</td>\n",
       "      <td>106580996.0</td>\n",
       "      <td>Lung</td>\n",
       "      <td>NaN</td>\n",
       "      <td>8.0</td>\n",
       "      <td>-121.593602</td>\n",
       "      <td>39.138805</td>\n",
       "    </tr>\n",
       "    <tr>\n",
       "      <th>15697</th>\n",
       "      <td>2020</td>\n",
       "      <td>Yuba</td>\n",
       "      <td>Adventist Health and Rideout</td>\n",
       "      <td>106580996.0</td>\n",
       "      <td>Colon</td>\n",
       "      <td>NaN</td>\n",
       "      <td>20.0</td>\n",
       "      <td>-121.593602</td>\n",
       "      <td>39.138805</td>\n",
       "    </tr>\n",
       "    <tr>\n",
       "      <th>15698</th>\n",
       "      <td>2020</td>\n",
       "      <td>Yuba</td>\n",
       "      <td>Adventist Health and Rideout</td>\n",
       "      <td>106580996.0</td>\n",
       "      <td>Breast</td>\n",
       "      <td>NaN</td>\n",
       "      <td>25.0</td>\n",
       "      <td>-121.593602</td>\n",
       "      <td>39.138805</td>\n",
       "    </tr>\n",
       "  </tbody>\n",
       "</table>\n",
       "<p>15699 rows × 9 columns</p>\n",
       "</div>"
      ],
      "text/plain": [
       "       Year County                      Hospital     OSHPD_ID   Surgery  \\\n",
       "0      2013    NaN                     Statewide          NaN     Colon   \n",
       "1      2013    NaN                     Statewide          NaN   Bladder   \n",
       "2      2013    NaN                     Statewide          NaN    Rectum   \n",
       "3      2013    NaN                     Statewide          NaN    Breast   \n",
       "4      2013    NaN                     Statewide          NaN     Brain   \n",
       "...     ...    ...                           ...          ...       ...   \n",
       "15694  2020   Yuba  Adventist Health and Rideout  106580996.0    Rectum   \n",
       "15695  2020   Yuba  Adventist Health and Rideout  106580996.0  Prostate   \n",
       "15696  2020   Yuba  Adventist Health and Rideout  106580996.0      Lung   \n",
       "15697  2020   Yuba  Adventist Health and Rideout  106580996.0     Colon   \n",
       "15698  2020   Yuba  Adventist Health and Rideout  106580996.0    Breast   \n",
       "\n",
       "       No_of_cases1  No_of_cases2   LONGITUDE   LATITUDE  \n",
       "0            7128.0           NaN         NaN        NaN  \n",
       "1             892.0           NaN         NaN        NaN  \n",
       "2            2128.0           NaN         NaN        NaN  \n",
       "3           25829.0           NaN         NaN        NaN  \n",
       "4            2719.0           NaN         NaN        NaN  \n",
       "...             ...           ...         ...        ...  \n",
       "15694           NaN           6.0 -121.593602  39.138805  \n",
       "15695           NaN           5.0 -121.593602  39.138805  \n",
       "15696           NaN           8.0 -121.593602  39.138805  \n",
       "15697           NaN          20.0 -121.593602  39.138805  \n",
       "15698           NaN          25.0 -121.593602  39.138805  \n",
       "\n",
       "[15699 rows x 9 columns]"
      ]
     },
     "execution_count": 6,
     "metadata": {},
     "output_type": "execute_result"
    }
   ],
   "source": [
    "data=data.rename(columns={\"OSHPDID\":\"OSHPD_ID\", \"# of Cases (ICD 9)\":\"No_of_cases1\", \"# of Cases (ICD 10)\":\"No_of_cases2\"})\n",
    "data"
   ]
  },
  {
   "cell_type": "code",
   "execution_count": 7,
   "id": "a5449ef2",
   "metadata": {
    "execution": {
     "iopub.execute_input": "2022-11-26T15:14:31.939843Z",
     "iopub.status.busy": "2022-11-26T15:14:31.939183Z",
     "iopub.status.idle": "2022-11-26T15:14:31.947433Z",
     "shell.execute_reply": "2022-11-26T15:14:31.946346Z"
    },
    "papermill": {
     "duration": 0.026652,
     "end_time": "2022-11-26T15:14:31.949550",
     "exception": false,
     "start_time": "2022-11-26T15:14:31.922898",
     "status": "completed"
    },
    "tags": []
   },
   "outputs": [
    {
     "data": {
      "text/plain": [
       "Year              int64\n",
       "County           object\n",
       "Hospital         object\n",
       "OSHPD_ID        float64\n",
       "Surgery          object\n",
       "No_of_cases1    float64\n",
       "No_of_cases2    float64\n",
       "LONGITUDE       float64\n",
       "LATITUDE        float64\n",
       "dtype: object"
      ]
     },
     "execution_count": 7,
     "metadata": {},
     "output_type": "execute_result"
    }
   ],
   "source": [
    "data.dtypes"
   ]
  },
  {
   "cell_type": "markdown",
   "id": "98b58732",
   "metadata": {
    "papermill": {
     "duration": 0.01463,
     "end_time": "2022-11-26T15:14:31.979023",
     "exception": false,
     "start_time": "2022-11-26T15:14:31.964393",
     "status": "completed"
    },
    "tags": []
   },
   "source": [
    "<h1 style=\"color:blue; font-size:150%\">\n",
    "As we can see the string data in the dataframe are in the form of object, we need to convert them back to string to work on them:</h1>\n"
   ]
  },
  {
   "cell_type": "code",
   "execution_count": 8,
   "id": "a6048bea",
   "metadata": {
    "execution": {
     "iopub.execute_input": "2022-11-26T15:14:32.010618Z",
     "iopub.status.busy": "2022-11-26T15:14:32.009996Z",
     "iopub.status.idle": "2022-11-26T15:14:32.027477Z",
     "shell.execute_reply": "2022-11-26T15:14:32.026197Z"
    },
    "papermill": {
     "duration": 0.036192,
     "end_time": "2022-11-26T15:14:32.030014",
     "exception": false,
     "start_time": "2022-11-26T15:14:31.993822",
     "status": "completed"
    },
    "tags": []
   },
   "outputs": [
    {
     "data": {
      "text/plain": [
       "Year              int64\n",
       "County           string\n",
       "Hospital         string\n",
       "OSHPD_ID        float64\n",
       "Surgery          string\n",
       "No_of_cases1    float64\n",
       "No_of_cases2    float64\n",
       "LONGITUDE       float64\n",
       "LATITUDE        float64\n",
       "dtype: object"
      ]
     },
     "execution_count": 8,
     "metadata": {},
     "output_type": "execute_result"
    }
   ],
   "source": [
    "string_col = data.select_dtypes(include=\"object\").columns\n",
    "data[string_col]=data[string_col].astype(\"string\")\n",
    "data.dtypes"
   ]
  },
  {
   "cell_type": "code",
   "execution_count": 9,
   "id": "efcc3e23",
   "metadata": {
    "execution": {
     "iopub.execute_input": "2022-11-26T15:14:32.061986Z",
     "iopub.status.busy": "2022-11-26T15:14:32.061584Z",
     "iopub.status.idle": "2022-11-26T15:14:32.069596Z",
     "shell.execute_reply": "2022-11-26T15:14:32.068516Z"
    },
    "papermill": {
     "duration": 0.026841,
     "end_time": "2022-11-26T15:14:32.072040",
     "exception": false,
     "start_time": "2022-11-26T15:14:32.045199",
     "status": "completed"
    },
    "tags": []
   },
   "outputs": [
    {
     "data": {
      "text/plain": [
       "['County', 'Hospital', 'Surgery']"
      ]
     },
     "execution_count": 9,
     "metadata": {},
     "output_type": "execute_result"
    }
   ],
   "source": [
    "# Getting the categorical columns \n",
    "string_col=data.select_dtypes(\"string\").columns.to_list()\n",
    "string_col"
   ]
  },
  {
   "cell_type": "code",
   "execution_count": 10,
   "id": "0156414f",
   "metadata": {
    "execution": {
     "iopub.execute_input": "2022-11-26T15:14:32.104185Z",
     "iopub.status.busy": "2022-11-26T15:14:32.103799Z",
     "iopub.status.idle": "2022-11-26T15:14:32.142366Z",
     "shell.execute_reply": "2022-11-26T15:14:32.141155Z"
    },
    "papermill": {
     "duration": 0.057705,
     "end_time": "2022-11-26T15:14:32.144922",
     "exception": false,
     "start_time": "2022-11-26T15:14:32.087217",
     "status": "completed"
    },
    "tags": []
   },
   "outputs": [
    {
     "data": {
      "text/html": [
       "<div>\n",
       "<style scoped>\n",
       "    .dataframe tbody tr th:only-of-type {\n",
       "        vertical-align: middle;\n",
       "    }\n",
       "\n",
       "    .dataframe tbody tr th {\n",
       "        vertical-align: top;\n",
       "    }\n",
       "\n",
       "    .dataframe thead th {\n",
       "        text-align: right;\n",
       "    }\n",
       "</style>\n",
       "<table border=\"1\" class=\"dataframe\">\n",
       "  <thead>\n",
       "    <tr style=\"text-align: right;\">\n",
       "      <th></th>\n",
       "      <th>count</th>\n",
       "      <th>mean</th>\n",
       "      <th>std</th>\n",
       "      <th>min</th>\n",
       "      <th>25%</th>\n",
       "      <th>50%</th>\n",
       "      <th>75%</th>\n",
       "      <th>max</th>\n",
       "    </tr>\n",
       "  </thead>\n",
       "  <tbody>\n",
       "    <tr>\n",
       "      <th>Year</th>\n",
       "      <td>15699.0</td>\n",
       "      <td>2.016505e+03</td>\n",
       "      <td>2.279133</td>\n",
       "      <td>2.013000e+03</td>\n",
       "      <td>2.014000e+03</td>\n",
       "      <td>2.017000e+03</td>\n",
       "      <td>2.018000e+03</td>\n",
       "      <td>2.020000e+03</td>\n",
       "    </tr>\n",
       "    <tr>\n",
       "      <th>OSHPD_ID</th>\n",
       "      <td>15611.0</td>\n",
       "      <td>1.062828e+08</td>\n",
       "      <td>134355.051779</td>\n",
       "      <td>1.060107e+08</td>\n",
       "      <td>1.061904e+08</td>\n",
       "      <td>1.063013e+08</td>\n",
       "      <td>1.063713e+08</td>\n",
       "      <td>1.065810e+08</td>\n",
       "    </tr>\n",
       "    <tr>\n",
       "      <th>No_of_cases1</th>\n",
       "      <td>5729.0</td>\n",
       "      <td>4.944877e+01</td>\n",
       "      <td>590.833097</td>\n",
       "      <td>1.000000e+00</td>\n",
       "      <td>2.000000e+00</td>\n",
       "      <td>8.000000e+00</td>\n",
       "      <td>2.400000e+01</td>\n",
       "      <td>2.582900e+04</td>\n",
       "    </tr>\n",
       "    <tr>\n",
       "      <th>No_of_cases2</th>\n",
       "      <td>9970.0</td>\n",
       "      <td>5.629147e+01</td>\n",
       "      <td>685.350441</td>\n",
       "      <td>1.000000e+00</td>\n",
       "      <td>2.000000e+00</td>\n",
       "      <td>8.000000e+00</td>\n",
       "      <td>2.700000e+01</td>\n",
       "      <td>3.041300e+04</td>\n",
       "    </tr>\n",
       "    <tr>\n",
       "      <th>LONGITUDE</th>\n",
       "      <td>15604.0</td>\n",
       "      <td>-1.195453e+02</td>\n",
       "      <td>2.021088</td>\n",
       "      <td>-1.241951e+02</td>\n",
       "      <td>-1.217724e+02</td>\n",
       "      <td>-1.184861e+02</td>\n",
       "      <td>-1.179552e+02</td>\n",
       "      <td>-1.145956e+02</td>\n",
       "    </tr>\n",
       "    <tr>\n",
       "      <th>LATITUDE</th>\n",
       "      <td>15604.0</td>\n",
       "      <td>3.562333e+01</td>\n",
       "      <td>2.134931</td>\n",
       "      <td>3.261909e+01</td>\n",
       "      <td>3.394917e+01</td>\n",
       "      <td>3.424177e+01</td>\n",
       "      <td>3.774799e+01</td>\n",
       "      <td>4.177278e+01</td>\n",
       "    </tr>\n",
       "  </tbody>\n",
       "</table>\n",
       "</div>"
      ],
      "text/plain": [
       "                count          mean            std           min  \\\n",
       "Year          15699.0  2.016505e+03       2.279133  2.013000e+03   \n",
       "OSHPD_ID      15611.0  1.062828e+08  134355.051779  1.060107e+08   \n",
       "No_of_cases1   5729.0  4.944877e+01     590.833097  1.000000e+00   \n",
       "No_of_cases2   9970.0  5.629147e+01     685.350441  1.000000e+00   \n",
       "LONGITUDE     15604.0 -1.195453e+02       2.021088 -1.241951e+02   \n",
       "LATITUDE      15604.0  3.562333e+01       2.134931  3.261909e+01   \n",
       "\n",
       "                       25%           50%           75%           max  \n",
       "Year          2.014000e+03  2.017000e+03  2.018000e+03  2.020000e+03  \n",
       "OSHPD_ID      1.061904e+08  1.063013e+08  1.063713e+08  1.065810e+08  \n",
       "No_of_cases1  2.000000e+00  8.000000e+00  2.400000e+01  2.582900e+04  \n",
       "No_of_cases2  2.000000e+00  8.000000e+00  2.700000e+01  3.041300e+04  \n",
       "LONGITUDE    -1.217724e+02 -1.184861e+02 -1.179552e+02 -1.145956e+02  \n",
       "LATITUDE      3.394917e+01  3.424177e+01  3.774799e+01  4.177278e+01  "
      ]
     },
     "execution_count": 10,
     "metadata": {},
     "output_type": "execute_result"
    }
   ],
   "source": [
    "data.describe().T"
   ]
  },
  {
   "cell_type": "code",
   "execution_count": 11,
   "id": "154d4942",
   "metadata": {
    "execution": {
     "iopub.execute_input": "2022-11-26T15:14:32.177669Z",
     "iopub.status.busy": "2022-11-26T15:14:32.177270Z",
     "iopub.status.idle": "2022-11-26T15:14:32.188936Z",
     "shell.execute_reply": "2022-11-26T15:14:32.188077Z"
    },
    "papermill": {
     "duration": 0.030733,
     "end_time": "2022-11-26T15:14:32.191085",
     "exception": false,
     "start_time": "2022-11-26T15:14:32.160352",
     "status": "completed"
    },
    "tags": []
   },
   "outputs": [
    {
     "data": {
      "text/plain": [
       "Year               0\n",
       "County            88\n",
       "Hospital           0\n",
       "OSHPD_ID          88\n",
       "Surgery            0\n",
       "No_of_cases1    9970\n",
       "No_of_cases2    5729\n",
       "LONGITUDE         95\n",
       "LATITUDE          95\n",
       "dtype: int64"
      ]
     },
     "execution_count": 11,
     "metadata": {},
     "output_type": "execute_result"
    }
   ],
   "source": [
    "#check for null data\n",
    "data.isnull().sum()"
   ]
  },
  {
   "cell_type": "markdown",
   "id": "86897b9b",
   "metadata": {
    "papermill": {
     "duration": 0.015443,
     "end_time": "2022-11-26T15:14:32.223305",
     "exception": false,
     "start_time": "2022-11-26T15:14:32.207862",
     "status": "completed"
    },
    "tags": []
   },
   "source": [
    "<div style=\"color:white;\n",
    "           display:fill;\n",
    "           border-radius:5px;\n",
    "           background-color:red;\n",
    "           font-size:110%;\n",
    "           font-family:Verdana;\n",
    "           letter-spacing:0.5px\">\n",
    "\n",
    "<p style=\"padding: 20px;\n",
    "              color:white;\">\n",
    "INSIGHT:\n",
    "WE CAN SEE THAT THE COLUMNS COUNTRY AND OSPHDID HAVE THE SAME MISSING VALUES(88). SIMILARLY, THE COLUMNS FOR LONGITUDE LATITUDE HAVE SIMILAR TREND(95). LET US SEE IF THERE IS A CORRELATION, then we can fill null data\n",
    "</p>\n"
   ]
  },
  {
   "cell_type": "code",
   "execution_count": 12,
   "id": "cc6f5628",
   "metadata": {
    "execution": {
     "iopub.execute_input": "2022-11-26T15:14:32.257364Z",
     "iopub.status.busy": "2022-11-26T15:14:32.256357Z",
     "iopub.status.idle": "2022-11-26T15:14:33.196705Z",
     "shell.execute_reply": "2022-11-26T15:14:33.195185Z"
    },
    "papermill": {
     "duration": 0.96094,
     "end_time": "2022-11-26T15:14:33.200269",
     "exception": false,
     "start_time": "2022-11-26T15:14:32.239329",
     "status": "completed"
    },
    "tags": []
   },
   "outputs": [
    {
     "data": {
      "application/vnd.plotly.v1+json": {
       "config": {
        "plotlyServerURL": "https://plot.ly"
       },
       "data": [
        {
         "coloraxis": "coloraxis",
         "hovertemplate": "x: %{x}<br>y: %{y}<br>color: %{z}<extra></extra>",
         "name": "0",
         "type": "heatmap",
         "x": [
          "Year",
          "OSHPD_ID",
          "No_of_cases1",
          "No_of_cases2",
          "LONGITUDE",
          "LATITUDE"
         ],
         "xaxis": "x",
         "y": [
          "Year",
          "OSHPD_ID",
          "No_of_cases1",
          "No_of_cases2",
          "LONGITUDE",
          "LATITUDE"
         ],
         "yaxis": "y",
         "z": [
          [
           1.0,
           0.0037057374461456918,
           -0.005879251677636722,
           0.0005310084958416541,
           0.012098922256599174,
           -0.010628224973706054
          ],
          [
           0.0037057374461456918,
           1.0,
           0.018509168731407392,
           0.010847822591821248,
           -0.076570089747446,
           0.05796272831434436
          ],
          [
           -0.005879251677636722,
           0.018509168731407392,
           1.0,
           null,
           0.014841394346127221,
           -0.03099493026593699
          ],
          [
           0.0005310084958416541,
           0.010847822591821248,
           null,
           1.0,
           0.015359838800767436,
           -0.03362630560633898
          ],
          [
           0.012098922256599174,
           -0.076570089747446,
           0.014841394346127221,
           0.015359838800767436,
           1.0,
           -0.9290851904519162
          ],
          [
           -0.010628224973706054,
           0.05796272831434436,
           -0.03099493026593699,
           -0.03362630560633898,
           -0.9290851904519162,
           1.0
          ]
         ]
        }
       ],
       "layout": {
        "coloraxis": {
         "colorscale": [
          [
           0.0,
           "#0d0887"
          ],
          [
           0.1111111111111111,
           "#46039f"
          ],
          [
           0.2222222222222222,
           "#7201a8"
          ],
          [
           0.3333333333333333,
           "#9c179e"
          ],
          [
           0.4444444444444444,
           "#bd3786"
          ],
          [
           0.5555555555555556,
           "#d8576b"
          ],
          [
           0.6666666666666666,
           "#ed7953"
          ],
          [
           0.7777777777777778,
           "#fb9f3a"
          ],
          [
           0.8888888888888888,
           "#fdca26"
          ],
          [
           1.0,
           "#f0f921"
          ]
         ]
        },
        "template": {
         "data": {
          "bar": [
           {
            "error_x": {
             "color": "#2a3f5f"
            },
            "error_y": {
             "color": "#2a3f5f"
            },
            "marker": {
             "line": {
              "color": "#E5ECF6",
              "width": 0.5
             },
             "pattern": {
              "fillmode": "overlay",
              "size": 10,
              "solidity": 0.2
             }
            },
            "type": "bar"
           }
          ],
          "barpolar": [
           {
            "marker": {
             "line": {
              "color": "#E5ECF6",
              "width": 0.5
             },
             "pattern": {
              "fillmode": "overlay",
              "size": 10,
              "solidity": 0.2
             }
            },
            "type": "barpolar"
           }
          ],
          "carpet": [
           {
            "aaxis": {
             "endlinecolor": "#2a3f5f",
             "gridcolor": "white",
             "linecolor": "white",
             "minorgridcolor": "white",
             "startlinecolor": "#2a3f5f"
            },
            "baxis": {
             "endlinecolor": "#2a3f5f",
             "gridcolor": "white",
             "linecolor": "white",
             "minorgridcolor": "white",
             "startlinecolor": "#2a3f5f"
            },
            "type": "carpet"
           }
          ],
          "choropleth": [
           {
            "colorbar": {
             "outlinewidth": 0,
             "ticks": ""
            },
            "type": "choropleth"
           }
          ],
          "contour": [
           {
            "colorbar": {
             "outlinewidth": 0,
             "ticks": ""
            },
            "colorscale": [
             [
              0.0,
              "#0d0887"
             ],
             [
              0.1111111111111111,
              "#46039f"
             ],
             [
              0.2222222222222222,
              "#7201a8"
             ],
             [
              0.3333333333333333,
              "#9c179e"
             ],
             [
              0.4444444444444444,
              "#bd3786"
             ],
             [
              0.5555555555555556,
              "#d8576b"
             ],
             [
              0.6666666666666666,
              "#ed7953"
             ],
             [
              0.7777777777777778,
              "#fb9f3a"
             ],
             [
              0.8888888888888888,
              "#fdca26"
             ],
             [
              1.0,
              "#f0f921"
             ]
            ],
            "type": "contour"
           }
          ],
          "contourcarpet": [
           {
            "colorbar": {
             "outlinewidth": 0,
             "ticks": ""
            },
            "type": "contourcarpet"
           }
          ],
          "heatmap": [
           {
            "colorbar": {
             "outlinewidth": 0,
             "ticks": ""
            },
            "colorscale": [
             [
              0.0,
              "#0d0887"
             ],
             [
              0.1111111111111111,
              "#46039f"
             ],
             [
              0.2222222222222222,
              "#7201a8"
             ],
             [
              0.3333333333333333,
              "#9c179e"
             ],
             [
              0.4444444444444444,
              "#bd3786"
             ],
             [
              0.5555555555555556,
              "#d8576b"
             ],
             [
              0.6666666666666666,
              "#ed7953"
             ],
             [
              0.7777777777777778,
              "#fb9f3a"
             ],
             [
              0.8888888888888888,
              "#fdca26"
             ],
             [
              1.0,
              "#f0f921"
             ]
            ],
            "type": "heatmap"
           }
          ],
          "heatmapgl": [
           {
            "colorbar": {
             "outlinewidth": 0,
             "ticks": ""
            },
            "colorscale": [
             [
              0.0,
              "#0d0887"
             ],
             [
              0.1111111111111111,
              "#46039f"
             ],
             [
              0.2222222222222222,
              "#7201a8"
             ],
             [
              0.3333333333333333,
              "#9c179e"
             ],
             [
              0.4444444444444444,
              "#bd3786"
             ],
             [
              0.5555555555555556,
              "#d8576b"
             ],
             [
              0.6666666666666666,
              "#ed7953"
             ],
             [
              0.7777777777777778,
              "#fb9f3a"
             ],
             [
              0.8888888888888888,
              "#fdca26"
             ],
             [
              1.0,
              "#f0f921"
             ]
            ],
            "type": "heatmapgl"
           }
          ],
          "histogram": [
           {
            "marker": {
             "pattern": {
              "fillmode": "overlay",
              "size": 10,
              "solidity": 0.2
             }
            },
            "type": "histogram"
           }
          ],
          "histogram2d": [
           {
            "colorbar": {
             "outlinewidth": 0,
             "ticks": ""
            },
            "colorscale": [
             [
              0.0,
              "#0d0887"
             ],
             [
              0.1111111111111111,
              "#46039f"
             ],
             [
              0.2222222222222222,
              "#7201a8"
             ],
             [
              0.3333333333333333,
              "#9c179e"
             ],
             [
              0.4444444444444444,
              "#bd3786"
             ],
             [
              0.5555555555555556,
              "#d8576b"
             ],
             [
              0.6666666666666666,
              "#ed7953"
             ],
             [
              0.7777777777777778,
              "#fb9f3a"
             ],
             [
              0.8888888888888888,
              "#fdca26"
             ],
             [
              1.0,
              "#f0f921"
             ]
            ],
            "type": "histogram2d"
           }
          ],
          "histogram2dcontour": [
           {
            "colorbar": {
             "outlinewidth": 0,
             "ticks": ""
            },
            "colorscale": [
             [
              0.0,
              "#0d0887"
             ],
             [
              0.1111111111111111,
              "#46039f"
             ],
             [
              0.2222222222222222,
              "#7201a8"
             ],
             [
              0.3333333333333333,
              "#9c179e"
             ],
             [
              0.4444444444444444,
              "#bd3786"
             ],
             [
              0.5555555555555556,
              "#d8576b"
             ],
             [
              0.6666666666666666,
              "#ed7953"
             ],
             [
              0.7777777777777778,
              "#fb9f3a"
             ],
             [
              0.8888888888888888,
              "#fdca26"
             ],
             [
              1.0,
              "#f0f921"
             ]
            ],
            "type": "histogram2dcontour"
           }
          ],
          "mesh3d": [
           {
            "colorbar": {
             "outlinewidth": 0,
             "ticks": ""
            },
            "type": "mesh3d"
           }
          ],
          "parcoords": [
           {
            "line": {
             "colorbar": {
              "outlinewidth": 0,
              "ticks": ""
             }
            },
            "type": "parcoords"
           }
          ],
          "pie": [
           {
            "automargin": true,
            "type": "pie"
           }
          ],
          "scatter": [
           {
            "fillpattern": {
             "fillmode": "overlay",
             "size": 10,
             "solidity": 0.2
            },
            "type": "scatter"
           }
          ],
          "scatter3d": [
           {
            "line": {
             "colorbar": {
              "outlinewidth": 0,
              "ticks": ""
             }
            },
            "marker": {
             "colorbar": {
              "outlinewidth": 0,
              "ticks": ""
             }
            },
            "type": "scatter3d"
           }
          ],
          "scattercarpet": [
           {
            "marker": {
             "colorbar": {
              "outlinewidth": 0,
              "ticks": ""
             }
            },
            "type": "scattercarpet"
           }
          ],
          "scattergeo": [
           {
            "marker": {
             "colorbar": {
              "outlinewidth": 0,
              "ticks": ""
             }
            },
            "type": "scattergeo"
           }
          ],
          "scattergl": [
           {
            "marker": {
             "colorbar": {
              "outlinewidth": 0,
              "ticks": ""
             }
            },
            "type": "scattergl"
           }
          ],
          "scattermapbox": [
           {
            "marker": {
             "colorbar": {
              "outlinewidth": 0,
              "ticks": ""
             }
            },
            "type": "scattermapbox"
           }
          ],
          "scatterpolar": [
           {
            "marker": {
             "colorbar": {
              "outlinewidth": 0,
              "ticks": ""
             }
            },
            "type": "scatterpolar"
           }
          ],
          "scatterpolargl": [
           {
            "marker": {
             "colorbar": {
              "outlinewidth": 0,
              "ticks": ""
             }
            },
            "type": "scatterpolargl"
           }
          ],
          "scatterternary": [
           {
            "marker": {
             "colorbar": {
              "outlinewidth": 0,
              "ticks": ""
             }
            },
            "type": "scatterternary"
           }
          ],
          "surface": [
           {
            "colorbar": {
             "outlinewidth": 0,
             "ticks": ""
            },
            "colorscale": [
             [
              0.0,
              "#0d0887"
             ],
             [
              0.1111111111111111,
              "#46039f"
             ],
             [
              0.2222222222222222,
              "#7201a8"
             ],
             [
              0.3333333333333333,
              "#9c179e"
             ],
             [
              0.4444444444444444,
              "#bd3786"
             ],
             [
              0.5555555555555556,
              "#d8576b"
             ],
             [
              0.6666666666666666,
              "#ed7953"
             ],
             [
              0.7777777777777778,
              "#fb9f3a"
             ],
             [
              0.8888888888888888,
              "#fdca26"
             ],
             [
              1.0,
              "#f0f921"
             ]
            ],
            "type": "surface"
           }
          ],
          "table": [
           {
            "cells": {
             "fill": {
              "color": "#EBF0F8"
             },
             "line": {
              "color": "white"
             }
            },
            "header": {
             "fill": {
              "color": "#C8D4E3"
             },
             "line": {
              "color": "white"
             }
            },
            "type": "table"
           }
          ]
         },
         "layout": {
          "annotationdefaults": {
           "arrowcolor": "#2a3f5f",
           "arrowhead": 0,
           "arrowwidth": 1
          },
          "autotypenumbers": "strict",
          "coloraxis": {
           "colorbar": {
            "outlinewidth": 0,
            "ticks": ""
           }
          },
          "colorscale": {
           "diverging": [
            [
             0,
             "#8e0152"
            ],
            [
             0.1,
             "#c51b7d"
            ],
            [
             0.2,
             "#de77ae"
            ],
            [
             0.3,
             "#f1b6da"
            ],
            [
             0.4,
             "#fde0ef"
            ],
            [
             0.5,
             "#f7f7f7"
            ],
            [
             0.6,
             "#e6f5d0"
            ],
            [
             0.7,
             "#b8e186"
            ],
            [
             0.8,
             "#7fbc41"
            ],
            [
             0.9,
             "#4d9221"
            ],
            [
             1,
             "#276419"
            ]
           ],
           "sequential": [
            [
             0.0,
             "#0d0887"
            ],
            [
             0.1111111111111111,
             "#46039f"
            ],
            [
             0.2222222222222222,
             "#7201a8"
            ],
            [
             0.3333333333333333,
             "#9c179e"
            ],
            [
             0.4444444444444444,
             "#bd3786"
            ],
            [
             0.5555555555555556,
             "#d8576b"
            ],
            [
             0.6666666666666666,
             "#ed7953"
            ],
            [
             0.7777777777777778,
             "#fb9f3a"
            ],
            [
             0.8888888888888888,
             "#fdca26"
            ],
            [
             1.0,
             "#f0f921"
            ]
           ],
           "sequentialminus": [
            [
             0.0,
             "#0d0887"
            ],
            [
             0.1111111111111111,
             "#46039f"
            ],
            [
             0.2222222222222222,
             "#7201a8"
            ],
            [
             0.3333333333333333,
             "#9c179e"
            ],
            [
             0.4444444444444444,
             "#bd3786"
            ],
            [
             0.5555555555555556,
             "#d8576b"
            ],
            [
             0.6666666666666666,
             "#ed7953"
            ],
            [
             0.7777777777777778,
             "#fb9f3a"
            ],
            [
             0.8888888888888888,
             "#fdca26"
            ],
            [
             1.0,
             "#f0f921"
            ]
           ]
          },
          "colorway": [
           "#636efa",
           "#EF553B",
           "#00cc96",
           "#ab63fa",
           "#FFA15A",
           "#19d3f3",
           "#FF6692",
           "#B6E880",
           "#FF97FF",
           "#FECB52"
          ],
          "font": {
           "color": "#2a3f5f"
          },
          "geo": {
           "bgcolor": "white",
           "lakecolor": "white",
           "landcolor": "#E5ECF6",
           "showlakes": true,
           "showland": true,
           "subunitcolor": "white"
          },
          "hoverlabel": {
           "align": "left"
          },
          "hovermode": "closest",
          "mapbox": {
           "style": "light"
          },
          "paper_bgcolor": "white",
          "plot_bgcolor": "#E5ECF6",
          "polar": {
           "angularaxis": {
            "gridcolor": "white",
            "linecolor": "white",
            "ticks": ""
           },
           "bgcolor": "#E5ECF6",
           "radialaxis": {
            "gridcolor": "white",
            "linecolor": "white",
            "ticks": ""
           }
          },
          "scene": {
           "xaxis": {
            "backgroundcolor": "#E5ECF6",
            "gridcolor": "white",
            "gridwidth": 2,
            "linecolor": "white",
            "showbackground": true,
            "ticks": "",
            "zerolinecolor": "white"
           },
           "yaxis": {
            "backgroundcolor": "#E5ECF6",
            "gridcolor": "white",
            "gridwidth": 2,
            "linecolor": "white",
            "showbackground": true,
            "ticks": "",
            "zerolinecolor": "white"
           },
           "zaxis": {
            "backgroundcolor": "#E5ECF6",
            "gridcolor": "white",
            "gridwidth": 2,
            "linecolor": "white",
            "showbackground": true,
            "ticks": "",
            "zerolinecolor": "white"
           }
          },
          "shapedefaults": {
           "line": {
            "color": "#2a3f5f"
           }
          },
          "ternary": {
           "aaxis": {
            "gridcolor": "white",
            "linecolor": "white",
            "ticks": ""
           },
           "baxis": {
            "gridcolor": "white",
            "linecolor": "white",
            "ticks": ""
           },
           "bgcolor": "#E5ECF6",
           "caxis": {
            "gridcolor": "white",
            "linecolor": "white",
            "ticks": ""
           }
          },
          "title": {
           "x": 0.05
          },
          "xaxis": {
           "automargin": true,
           "gridcolor": "white",
           "linecolor": "white",
           "ticks": "",
           "title": {
            "standoff": 15
           },
           "zerolinecolor": "white",
           "zerolinewidth": 2
          },
          "yaxis": {
           "automargin": true,
           "gridcolor": "white",
           "linecolor": "white",
           "ticks": "",
           "title": {
            "standoff": 15
           },
           "zerolinecolor": "white",
           "zerolinewidth": 2
          }
         }
        },
        "title": {
         "text": "Correlation Plot for the  cancer surgery dataset"
        },
        "xaxis": {
         "anchor": "y",
         "constrain": "domain",
         "domain": [
          0.0,
          1.0
         ],
         "scaleanchor": "y"
        },
        "yaxis": {
         "anchor": "x",
         "autorange": "reversed",
         "constrain": "domain",
         "domain": [
          0.0,
          1.0
         ]
        }
       }
      },
      "text/html": [
       "<div>                            <div id=\"6a705c10-42a9-49a2-bcf1-2b8643787ff0\" class=\"plotly-graph-div\" style=\"height:525px; width:100%;\"></div>            <script type=\"text/javascript\">                require([\"plotly\"], function(Plotly) {                    window.PLOTLYENV=window.PLOTLYENV || {};                                    if (document.getElementById(\"6a705c10-42a9-49a2-bcf1-2b8643787ff0\")) {                    Plotly.newPlot(                        \"6a705c10-42a9-49a2-bcf1-2b8643787ff0\",                        [{\"coloraxis\":\"coloraxis\",\"name\":\"0\",\"x\":[\"Year\",\"OSHPD_ID\",\"No_of_cases1\",\"No_of_cases2\",\"LONGITUDE\",\"LATITUDE\"],\"y\":[\"Year\",\"OSHPD_ID\",\"No_of_cases1\",\"No_of_cases2\",\"LONGITUDE\",\"LATITUDE\"],\"z\":[[1.0,0.0037057374461456918,-0.005879251677636722,0.0005310084958416541,0.012098922256599174,-0.010628224973706054],[0.0037057374461456918,1.0,0.018509168731407392,0.010847822591821248,-0.076570089747446,0.05796272831434436],[-0.005879251677636722,0.018509168731407392,1.0,null,0.014841394346127221,-0.03099493026593699],[0.0005310084958416541,0.010847822591821248,null,1.0,0.015359838800767436,-0.03362630560633898],[0.012098922256599174,-0.076570089747446,0.014841394346127221,0.015359838800767436,1.0,-0.9290851904519162],[-0.010628224973706054,0.05796272831434436,-0.03099493026593699,-0.03362630560633898,-0.9290851904519162,1.0]],\"type\":\"heatmap\",\"xaxis\":\"x\",\"yaxis\":\"y\",\"hovertemplate\":\"x: %{x}<br>y: %{y}<br>color: %{z}<extra></extra>\"}],                        {\"template\":{\"data\":{\"histogram2dcontour\":[{\"type\":\"histogram2dcontour\",\"colorbar\":{\"outlinewidth\":0,\"ticks\":\"\"},\"colorscale\":[[0.0,\"#0d0887\"],[0.1111111111111111,\"#46039f\"],[0.2222222222222222,\"#7201a8\"],[0.3333333333333333,\"#9c179e\"],[0.4444444444444444,\"#bd3786\"],[0.5555555555555556,\"#d8576b\"],[0.6666666666666666,\"#ed7953\"],[0.7777777777777778,\"#fb9f3a\"],[0.8888888888888888,\"#fdca26\"],[1.0,\"#f0f921\"]]}],\"choropleth\":[{\"type\":\"choropleth\",\"colorbar\":{\"outlinewidth\":0,\"ticks\":\"\"}}],\"histogram2d\":[{\"type\":\"histogram2d\",\"colorbar\":{\"outlinewidth\":0,\"ticks\":\"\"},\"colorscale\":[[0.0,\"#0d0887\"],[0.1111111111111111,\"#46039f\"],[0.2222222222222222,\"#7201a8\"],[0.3333333333333333,\"#9c179e\"],[0.4444444444444444,\"#bd3786\"],[0.5555555555555556,\"#d8576b\"],[0.6666666666666666,\"#ed7953\"],[0.7777777777777778,\"#fb9f3a\"],[0.8888888888888888,\"#fdca26\"],[1.0,\"#f0f921\"]]}],\"heatmap\":[{\"type\":\"heatmap\",\"colorbar\":{\"outlinewidth\":0,\"ticks\":\"\"},\"colorscale\":[[0.0,\"#0d0887\"],[0.1111111111111111,\"#46039f\"],[0.2222222222222222,\"#7201a8\"],[0.3333333333333333,\"#9c179e\"],[0.4444444444444444,\"#bd3786\"],[0.5555555555555556,\"#d8576b\"],[0.6666666666666666,\"#ed7953\"],[0.7777777777777778,\"#fb9f3a\"],[0.8888888888888888,\"#fdca26\"],[1.0,\"#f0f921\"]]}],\"heatmapgl\":[{\"type\":\"heatmapgl\",\"colorbar\":{\"outlinewidth\":0,\"ticks\":\"\"},\"colorscale\":[[0.0,\"#0d0887\"],[0.1111111111111111,\"#46039f\"],[0.2222222222222222,\"#7201a8\"],[0.3333333333333333,\"#9c179e\"],[0.4444444444444444,\"#bd3786\"],[0.5555555555555556,\"#d8576b\"],[0.6666666666666666,\"#ed7953\"],[0.7777777777777778,\"#fb9f3a\"],[0.8888888888888888,\"#fdca26\"],[1.0,\"#f0f921\"]]}],\"contourcarpet\":[{\"type\":\"contourcarpet\",\"colorbar\":{\"outlinewidth\":0,\"ticks\":\"\"}}],\"contour\":[{\"type\":\"contour\",\"colorbar\":{\"outlinewidth\":0,\"ticks\":\"\"},\"colorscale\":[[0.0,\"#0d0887\"],[0.1111111111111111,\"#46039f\"],[0.2222222222222222,\"#7201a8\"],[0.3333333333333333,\"#9c179e\"],[0.4444444444444444,\"#bd3786\"],[0.5555555555555556,\"#d8576b\"],[0.6666666666666666,\"#ed7953\"],[0.7777777777777778,\"#fb9f3a\"],[0.8888888888888888,\"#fdca26\"],[1.0,\"#f0f921\"]]}],\"surface\":[{\"type\":\"surface\",\"colorbar\":{\"outlinewidth\":0,\"ticks\":\"\"},\"colorscale\":[[0.0,\"#0d0887\"],[0.1111111111111111,\"#46039f\"],[0.2222222222222222,\"#7201a8\"],[0.3333333333333333,\"#9c179e\"],[0.4444444444444444,\"#bd3786\"],[0.5555555555555556,\"#d8576b\"],[0.6666666666666666,\"#ed7953\"],[0.7777777777777778,\"#fb9f3a\"],[0.8888888888888888,\"#fdca26\"],[1.0,\"#f0f921\"]]}],\"mesh3d\":[{\"type\":\"mesh3d\",\"colorbar\":{\"outlinewidth\":0,\"ticks\":\"\"}}],\"scatter\":[{\"fillpattern\":{\"fillmode\":\"overlay\",\"size\":10,\"solidity\":0.2},\"type\":\"scatter\"}],\"parcoords\":[{\"type\":\"parcoords\",\"line\":{\"colorbar\":{\"outlinewidth\":0,\"ticks\":\"\"}}}],\"scatterpolargl\":[{\"type\":\"scatterpolargl\",\"marker\":{\"colorbar\":{\"outlinewidth\":0,\"ticks\":\"\"}}}],\"bar\":[{\"error_x\":{\"color\":\"#2a3f5f\"},\"error_y\":{\"color\":\"#2a3f5f\"},\"marker\":{\"line\":{\"color\":\"#E5ECF6\",\"width\":0.5},\"pattern\":{\"fillmode\":\"overlay\",\"size\":10,\"solidity\":0.2}},\"type\":\"bar\"}],\"scattergeo\":[{\"type\":\"scattergeo\",\"marker\":{\"colorbar\":{\"outlinewidth\":0,\"ticks\":\"\"}}}],\"scatterpolar\":[{\"type\":\"scatterpolar\",\"marker\":{\"colorbar\":{\"outlinewidth\":0,\"ticks\":\"\"}}}],\"histogram\":[{\"marker\":{\"pattern\":{\"fillmode\":\"overlay\",\"size\":10,\"solidity\":0.2}},\"type\":\"histogram\"}],\"scattergl\":[{\"type\":\"scattergl\",\"marker\":{\"colorbar\":{\"outlinewidth\":0,\"ticks\":\"\"}}}],\"scatter3d\":[{\"type\":\"scatter3d\",\"line\":{\"colorbar\":{\"outlinewidth\":0,\"ticks\":\"\"}},\"marker\":{\"colorbar\":{\"outlinewidth\":0,\"ticks\":\"\"}}}],\"scattermapbox\":[{\"type\":\"scattermapbox\",\"marker\":{\"colorbar\":{\"outlinewidth\":0,\"ticks\":\"\"}}}],\"scatterternary\":[{\"type\":\"scatterternary\",\"marker\":{\"colorbar\":{\"outlinewidth\":0,\"ticks\":\"\"}}}],\"scattercarpet\":[{\"type\":\"scattercarpet\",\"marker\":{\"colorbar\":{\"outlinewidth\":0,\"ticks\":\"\"}}}],\"carpet\":[{\"aaxis\":{\"endlinecolor\":\"#2a3f5f\",\"gridcolor\":\"white\",\"linecolor\":\"white\",\"minorgridcolor\":\"white\",\"startlinecolor\":\"#2a3f5f\"},\"baxis\":{\"endlinecolor\":\"#2a3f5f\",\"gridcolor\":\"white\",\"linecolor\":\"white\",\"minorgridcolor\":\"white\",\"startlinecolor\":\"#2a3f5f\"},\"type\":\"carpet\"}],\"table\":[{\"cells\":{\"fill\":{\"color\":\"#EBF0F8\"},\"line\":{\"color\":\"white\"}},\"header\":{\"fill\":{\"color\":\"#C8D4E3\"},\"line\":{\"color\":\"white\"}},\"type\":\"table\"}],\"barpolar\":[{\"marker\":{\"line\":{\"color\":\"#E5ECF6\",\"width\":0.5},\"pattern\":{\"fillmode\":\"overlay\",\"size\":10,\"solidity\":0.2}},\"type\":\"barpolar\"}],\"pie\":[{\"automargin\":true,\"type\":\"pie\"}]},\"layout\":{\"autotypenumbers\":\"strict\",\"colorway\":[\"#636efa\",\"#EF553B\",\"#00cc96\",\"#ab63fa\",\"#FFA15A\",\"#19d3f3\",\"#FF6692\",\"#B6E880\",\"#FF97FF\",\"#FECB52\"],\"font\":{\"color\":\"#2a3f5f\"},\"hovermode\":\"closest\",\"hoverlabel\":{\"align\":\"left\"},\"paper_bgcolor\":\"white\",\"plot_bgcolor\":\"#E5ECF6\",\"polar\":{\"bgcolor\":\"#E5ECF6\",\"angularaxis\":{\"gridcolor\":\"white\",\"linecolor\":\"white\",\"ticks\":\"\"},\"radialaxis\":{\"gridcolor\":\"white\",\"linecolor\":\"white\",\"ticks\":\"\"}},\"ternary\":{\"bgcolor\":\"#E5ECF6\",\"aaxis\":{\"gridcolor\":\"white\",\"linecolor\":\"white\",\"ticks\":\"\"},\"baxis\":{\"gridcolor\":\"white\",\"linecolor\":\"white\",\"ticks\":\"\"},\"caxis\":{\"gridcolor\":\"white\",\"linecolor\":\"white\",\"ticks\":\"\"}},\"coloraxis\":{\"colorbar\":{\"outlinewidth\":0,\"ticks\":\"\"}},\"colorscale\":{\"sequential\":[[0.0,\"#0d0887\"],[0.1111111111111111,\"#46039f\"],[0.2222222222222222,\"#7201a8\"],[0.3333333333333333,\"#9c179e\"],[0.4444444444444444,\"#bd3786\"],[0.5555555555555556,\"#d8576b\"],[0.6666666666666666,\"#ed7953\"],[0.7777777777777778,\"#fb9f3a\"],[0.8888888888888888,\"#fdca26\"],[1.0,\"#f0f921\"]],\"sequentialminus\":[[0.0,\"#0d0887\"],[0.1111111111111111,\"#46039f\"],[0.2222222222222222,\"#7201a8\"],[0.3333333333333333,\"#9c179e\"],[0.4444444444444444,\"#bd3786\"],[0.5555555555555556,\"#d8576b\"],[0.6666666666666666,\"#ed7953\"],[0.7777777777777778,\"#fb9f3a\"],[0.8888888888888888,\"#fdca26\"],[1.0,\"#f0f921\"]],\"diverging\":[[0,\"#8e0152\"],[0.1,\"#c51b7d\"],[0.2,\"#de77ae\"],[0.3,\"#f1b6da\"],[0.4,\"#fde0ef\"],[0.5,\"#f7f7f7\"],[0.6,\"#e6f5d0\"],[0.7,\"#b8e186\"],[0.8,\"#7fbc41\"],[0.9,\"#4d9221\"],[1,\"#276419\"]]},\"xaxis\":{\"gridcolor\":\"white\",\"linecolor\":\"white\",\"ticks\":\"\",\"title\":{\"standoff\":15},\"zerolinecolor\":\"white\",\"automargin\":true,\"zerolinewidth\":2},\"yaxis\":{\"gridcolor\":\"white\",\"linecolor\":\"white\",\"ticks\":\"\",\"title\":{\"standoff\":15},\"zerolinecolor\":\"white\",\"automargin\":true,\"zerolinewidth\":2},\"scene\":{\"xaxis\":{\"backgroundcolor\":\"#E5ECF6\",\"gridcolor\":\"white\",\"linecolor\":\"white\",\"showbackground\":true,\"ticks\":\"\",\"zerolinecolor\":\"white\",\"gridwidth\":2},\"yaxis\":{\"backgroundcolor\":\"#E5ECF6\",\"gridcolor\":\"white\",\"linecolor\":\"white\",\"showbackground\":true,\"ticks\":\"\",\"zerolinecolor\":\"white\",\"gridwidth\":2},\"zaxis\":{\"backgroundcolor\":\"#E5ECF6\",\"gridcolor\":\"white\",\"linecolor\":\"white\",\"showbackground\":true,\"ticks\":\"\",\"zerolinecolor\":\"white\",\"gridwidth\":2}},\"shapedefaults\":{\"line\":{\"color\":\"#2a3f5f\"}},\"annotationdefaults\":{\"arrowcolor\":\"#2a3f5f\",\"arrowhead\":0,\"arrowwidth\":1},\"geo\":{\"bgcolor\":\"white\",\"landcolor\":\"#E5ECF6\",\"subunitcolor\":\"white\",\"showland\":true,\"showlakes\":true,\"lakecolor\":\"white\"},\"title\":{\"x\":0.05},\"mapbox\":{\"style\":\"light\"}}},\"xaxis\":{\"anchor\":\"y\",\"domain\":[0.0,1.0],\"scaleanchor\":\"y\",\"constrain\":\"domain\"},\"yaxis\":{\"anchor\":\"x\",\"domain\":[0.0,1.0],\"autorange\":\"reversed\",\"constrain\":\"domain\"},\"coloraxis\":{\"colorscale\":[[0.0,\"#0d0887\"],[0.1111111111111111,\"#46039f\"],[0.2222222222222222,\"#7201a8\"],[0.3333333333333333,\"#9c179e\"],[0.4444444444444444,\"#bd3786\"],[0.5555555555555556,\"#d8576b\"],[0.6666666666666666,\"#ed7953\"],[0.7777777777777778,\"#fb9f3a\"],[0.8888888888888888,\"#fdca26\"],[1.0,\"#f0f921\"]]},\"title\":{\"text\":\"Correlation Plot for the  cancer surgery dataset\"}},                        {\"responsive\": true}                    ).then(function(){\n",
       "                            \n",
       "var gd = document.getElementById('6a705c10-42a9-49a2-bcf1-2b8643787ff0');\n",
       "var x = new MutationObserver(function (mutations, observer) {{\n",
       "        var display = window.getComputedStyle(gd).display;\n",
       "        if (!display || display === 'none') {{\n",
       "            console.log([gd, 'removed!']);\n",
       "            Plotly.purge(gd);\n",
       "            observer.disconnect();\n",
       "        }}\n",
       "}});\n",
       "\n",
       "// Listen for the removal of the full notebook cells\n",
       "var notebookContainer = gd.closest('#notebook-container');\n",
       "if (notebookContainer) {{\n",
       "    x.observe(notebookContainer, {childList: true});\n",
       "}}\n",
       "\n",
       "// Listen for the clearing of the current output cell\n",
       "var outputEl = gd.closest('.output');\n",
       "if (outputEl) {{\n",
       "    x.observe(outputEl, {childList: true});\n",
       "}}\n",
       "\n",
       "                        })                };                });            </script>        </div>"
      ]
     },
     "metadata": {},
     "output_type": "display_data"
    }
   ],
   "source": [
    "px.imshow(data.corr(), title=\"Correlation Plot for the  cancer surgery dataset\")\n"
   ]
  },
  {
   "cell_type": "markdown",
   "id": "8d7653d1",
   "metadata": {
    "papermill": {
     "duration": 0.027981,
     "end_time": "2022-11-26T15:14:33.253494",
     "exception": false,
     "start_time": "2022-11-26T15:14:33.225513",
     "status": "completed"
    },
    "tags": []
   },
   "source": [
    "\n",
    "<div style=\"color:white;\n",
    "           display:fill;\n",
    "           border-radius:5px;\n",
    "           background-color:red;\n",
    "           font-size:110%;\n",
    "           font-family:Verdana;\n",
    "           letter-spacing:0.5px\">\n",
    "\n",
    "<p style=\"padding: 10px;\n",
    "              color:white;\">    Insight: We can see that we have we no important correlation from our data\n",
    "\n",
    "    \n",
    "   \n",
    "</p>\n",
    "</div>\n"
   ]
  },
  {
   "cell_type": "markdown",
   "id": "9b550aeb",
   "metadata": {
    "papermill": {
     "duration": 0.025078,
     "end_time": "2022-11-26T15:14:33.303651",
     "exception": false,
     "start_time": "2022-11-26T15:14:33.278573",
     "status": "completed"
    },
    "tags": []
   },
   "source": [
    "<div style=\"color:white;\n",
    "           display:fill;\n",
    "           border-radius:5px;\n",
    "           background-color:#5642C5;\n",
    "           font-size:110%;\n",
    "           font-family:Verdana;\n",
    "           letter-spacing:0.5px\">\n",
    "\n",
    "<p style=\"padding: 20px;\n",
    "              color:white;\">\n",
    "IMPORT \"missingno\" LIBRARY TO SHOW THE DISTRIBUTION OF MISSING VALUES IN THE DATAFRAME\n",
    "</p>"
   ]
  },
  {
   "cell_type": "code",
   "execution_count": 13,
   "id": "2f5daed5",
   "metadata": {
    "execution": {
     "iopub.execute_input": "2022-11-26T15:14:33.349598Z",
     "iopub.status.busy": "2022-11-26T15:14:33.348419Z",
     "iopub.status.idle": "2022-11-26T15:14:34.096690Z",
     "shell.execute_reply": "2022-11-26T15:14:34.095567Z"
    },
    "papermill": {
     "duration": 0.773612,
     "end_time": "2022-11-26T15:14:34.099018",
     "exception": false,
     "start_time": "2022-11-26T15:14:33.325406",
     "status": "completed"
    },
    "tags": []
   },
   "outputs": [
    {
     "data": {
      "text/plain": [
       "<AxesSubplot:>"
      ]
     },
     "execution_count": 13,
     "metadata": {},
     "output_type": "execute_result"
    },
    {
     "data": {
      "image/png": "[encoded data removed]",
      "text/plain": [
       "<Figure size 1800x720 with 2 Axes>"
      ]
     },
     "metadata": {
      "needs_background": "light"
     },
     "output_type": "display_data"
    }
   ],
   "source": [
    "import missingno as mn\n",
    "mn.matrix(data)"
   ]
  },
  {
   "cell_type": "markdown",
   "id": "71ba5c87",
   "metadata": {
    "papermill": {
     "duration": 0.021719,
     "end_time": "2022-11-26T15:14:34.142790",
     "exception": false,
     "start_time": "2022-11-26T15:14:34.121071",
     "status": "completed"
    },
    "tags": []
   },
   "source": [
    "<div style=\"color:white;\n",
    "           display:fill;\n",
    "           border-radius:5px;\n",
    "           background-color:red;\n",
    "           font-size:110%;\n",
    "           font-family:Verdana;\n",
    "           letter-spacing:0.5px\">\n",
    "\n",
    "<p style=\"padding: 10px;\n",
    "              color:white;\">    Insight1: We have equal numbers(88) that are missing in the [\"County\"] and [\"OSHPD_ID\"] columns respectively. Similarly, the [\"LONGITUDE\"] AND [\"LATITUDE\"] columns have the same values(95) that are missing. While for the no of cases columns, we have unequal missing digits.\n",
    "    \n",
    "   \n",
    "</p>\n",
    "</div>\n"
   ]
  },
  {
   "cell_type": "markdown",
   "id": "ce8ec059",
   "metadata": {
    "papermill": {
     "duration": 0.02141,
     "end_time": "2022-11-26T15:14:34.185903",
     "exception": false,
     "start_time": "2022-11-26T15:14:34.164493",
     "status": "completed"
    },
    "tags": []
   },
   "source": [
    "<div style=\"color:white;\n",
    "           display:fill;\n",
    "           border-radius:5px;\n",
    "           background-color:red;\n",
    "           font-size:110%;\n",
    "           font-family:Verdana;\n",
    "           letter-spacing:0.5px\">\n",
    "\n",
    "<p style=\"padding: 10px;\n",
    "              color:white;\"> Insight2: When we look closely to the above missing matrix map, we can see that the thin lines drawn on the missing values for the above mentioned columns[\"County\" and \"OSHPD_ID\"] are on the the same plane, hence each pair of column mentioned above are linearly correlated.\n",
    "\n",
    "   \n",
    "</p>\n",
    "</div>"
   ]
  },
  {
   "cell_type": "markdown",
   "id": "530e757a",
   "metadata": {
    "papermill": {
     "duration": 0.021611,
     "end_time": "2022-11-26T15:14:34.229249",
     "exception": false,
     "start_time": "2022-11-26T15:14:34.207638",
     "status": "completed"
    },
    "tags": []
   },
   "source": [
    "<div style=\"color:white;\n",
    "           display:fill;\n",
    "           border-radius:5px;\n",
    "           background-color:red;\n",
    "           font-size:110%;\n",
    "           font-family:Verdana;\n",
    "           letter-spacing:0.5px\">\n",
    "\n",
    "<p style=\"padding: 10px;\n",
    "              color:white;\">    Insight3: For the number of cases 1 and 2 columnns, we can see that both columns are inversely related, so therefore we               can conclude that when a particular value is given in case 1, then case 2 value will be missing and vuce versa.\n",
    "\n",
    "    \n",
    "   \n",
    "</p>\n",
    "</div>"
   ]
  },
  {
   "cell_type": "markdown",
   "id": "f3fc7821",
   "metadata": {
    "papermill": {
     "duration": 0.021383,
     "end_time": "2022-11-26T15:14:34.272409",
     "exception": false,
     "start_time": "2022-11-26T15:14:34.251026",
     "status": "completed"
    },
    "tags": []
   },
   "source": [
    "WE CAN SEE THAT THE COLUMNS COUNTY AND OSPHDID HAVE THE SAME MISSING VALUES(88). SIMILARLY, THE COLUMNS FOR LONGITUDE\n",
    "LATITUDE HAVE SIMILAR TREND(95). LET US SEE IF THERE IS A CORRELATION. Before then, let us fill null data."
   ]
  },
  {
   "cell_type": "code",
   "execution_count": 14,
   "id": "147eb705",
   "metadata": {
    "execution": {
     "iopub.execute_input": "2022-11-26T15:14:34.317848Z",
     "iopub.status.busy": "2022-11-26T15:14:34.317419Z",
     "iopub.status.idle": "2022-11-26T15:14:34.350775Z",
     "shell.execute_reply": "2022-11-26T15:14:34.349599Z"
    },
    "papermill": {
     "duration": 0.059088,
     "end_time": "2022-11-26T15:14:34.353161",
     "exception": false,
     "start_time": "2022-11-26T15:14:34.294073",
     "status": "completed"
    },
    "tags": []
   },
   "outputs": [
    {
     "data": {
      "text/html": [
       "<div>\n",
       "<style scoped>\n",
       "    .dataframe tbody tr th:only-of-type {\n",
       "        vertical-align: middle;\n",
       "    }\n",
       "\n",
       "    .dataframe tbody tr th {\n",
       "        vertical-align: top;\n",
       "    }\n",
       "\n",
       "    .dataframe thead th {\n",
       "        text-align: right;\n",
       "    }\n",
       "</style>\n",
       "<table border=\"1\" class=\"dataframe\">\n",
       "  <thead>\n",
       "    <tr style=\"text-align: right;\">\n",
       "      <th></th>\n",
       "      <th>Year</th>\n",
       "      <th>County</th>\n",
       "      <th>Hospital</th>\n",
       "      <th>OSHPD_ID</th>\n",
       "      <th>Surgery</th>\n",
       "      <th>No_of_cases1</th>\n",
       "      <th>No_of_cases2</th>\n",
       "      <th>LONGITUDE</th>\n",
       "      <th>LATITUDE</th>\n",
       "    </tr>\n",
       "  </thead>\n",
       "  <tbody>\n",
       "    <tr>\n",
       "      <th>0</th>\n",
       "      <td>2013</td>\n",
       "      <td>Empty</td>\n",
       "      <td>Statewide</td>\n",
       "      <td>Empty</td>\n",
       "      <td>Colon</td>\n",
       "      <td>7128.0</td>\n",
       "      <td>Empty</td>\n",
       "      <td>Empty</td>\n",
       "      <td>Empty</td>\n",
       "    </tr>\n",
       "    <tr>\n",
       "      <th>1</th>\n",
       "      <td>2013</td>\n",
       "      <td>Empty</td>\n",
       "      <td>Statewide</td>\n",
       "      <td>Empty</td>\n",
       "      <td>Bladder</td>\n",
       "      <td>892.0</td>\n",
       "      <td>Empty</td>\n",
       "      <td>Empty</td>\n",
       "      <td>Empty</td>\n",
       "    </tr>\n",
       "    <tr>\n",
       "      <th>2</th>\n",
       "      <td>2013</td>\n",
       "      <td>Empty</td>\n",
       "      <td>Statewide</td>\n",
       "      <td>Empty</td>\n",
       "      <td>Rectum</td>\n",
       "      <td>2128.0</td>\n",
       "      <td>Empty</td>\n",
       "      <td>Empty</td>\n",
       "      <td>Empty</td>\n",
       "    </tr>\n",
       "    <tr>\n",
       "      <th>3</th>\n",
       "      <td>2013</td>\n",
       "      <td>Empty</td>\n",
       "      <td>Statewide</td>\n",
       "      <td>Empty</td>\n",
       "      <td>Breast</td>\n",
       "      <td>25829.0</td>\n",
       "      <td>Empty</td>\n",
       "      <td>Empty</td>\n",
       "      <td>Empty</td>\n",
       "    </tr>\n",
       "    <tr>\n",
       "      <th>4</th>\n",
       "      <td>2013</td>\n",
       "      <td>Empty</td>\n",
       "      <td>Statewide</td>\n",
       "      <td>Empty</td>\n",
       "      <td>Brain</td>\n",
       "      <td>2719.0</td>\n",
       "      <td>Empty</td>\n",
       "      <td>Empty</td>\n",
       "      <td>Empty</td>\n",
       "    </tr>\n",
       "    <tr>\n",
       "      <th>...</th>\n",
       "      <td>...</td>\n",
       "      <td>...</td>\n",
       "      <td>...</td>\n",
       "      <td>...</td>\n",
       "      <td>...</td>\n",
       "      <td>...</td>\n",
       "      <td>...</td>\n",
       "      <td>...</td>\n",
       "      <td>...</td>\n",
       "    </tr>\n",
       "    <tr>\n",
       "      <th>15694</th>\n",
       "      <td>2020</td>\n",
       "      <td>Yuba</td>\n",
       "      <td>Adventist Health and Rideout</td>\n",
       "      <td>106580996.0</td>\n",
       "      <td>Rectum</td>\n",
       "      <td>Empty</td>\n",
       "      <td>6.0</td>\n",
       "      <td>-121.593602</td>\n",
       "      <td>39.138805</td>\n",
       "    </tr>\n",
       "    <tr>\n",
       "      <th>15695</th>\n",
       "      <td>2020</td>\n",
       "      <td>Yuba</td>\n",
       "      <td>Adventist Health and Rideout</td>\n",
       "      <td>106580996.0</td>\n",
       "      <td>Prostate</td>\n",
       "      <td>Empty</td>\n",
       "      <td>5.0</td>\n",
       "      <td>-121.593602</td>\n",
       "      <td>39.138805</td>\n",
       "    </tr>\n",
       "    <tr>\n",
       "      <th>15696</th>\n",
       "      <td>2020</td>\n",
       "      <td>Yuba</td>\n",
       "      <td>Adventist Health and Rideout</td>\n",
       "      <td>106580996.0</td>\n",
       "      <td>Lung</td>\n",
       "      <td>Empty</td>\n",
       "      <td>8.0</td>\n",
       "      <td>-121.593602</td>\n",
       "      <td>39.138805</td>\n",
       "    </tr>\n",
       "    <tr>\n",
       "      <th>15697</th>\n",
       "      <td>2020</td>\n",
       "      <td>Yuba</td>\n",
       "      <td>Adventist Health and Rideout</td>\n",
       "      <td>106580996.0</td>\n",
       "      <td>Colon</td>\n",
       "      <td>Empty</td>\n",
       "      <td>20.0</td>\n",
       "      <td>-121.593602</td>\n",
       "      <td>39.138805</td>\n",
       "    </tr>\n",
       "    <tr>\n",
       "      <th>15698</th>\n",
       "      <td>2020</td>\n",
       "      <td>Yuba</td>\n",
       "      <td>Adventist Health and Rideout</td>\n",
       "      <td>106580996.0</td>\n",
       "      <td>Breast</td>\n",
       "      <td>Empty</td>\n",
       "      <td>25.0</td>\n",
       "      <td>-121.593602</td>\n",
       "      <td>39.138805</td>\n",
       "    </tr>\n",
       "  </tbody>\n",
       "</table>\n",
       "<p>15699 rows × 9 columns</p>\n",
       "</div>"
      ],
      "text/plain": [
       "       Year County                      Hospital     OSHPD_ID   Surgery  \\\n",
       "0      2013  Empty                     Statewide        Empty     Colon   \n",
       "1      2013  Empty                     Statewide        Empty   Bladder   \n",
       "2      2013  Empty                     Statewide        Empty    Rectum   \n",
       "3      2013  Empty                     Statewide        Empty    Breast   \n",
       "4      2013  Empty                     Statewide        Empty     Brain   \n",
       "...     ...    ...                           ...          ...       ...   \n",
       "15694  2020   Yuba  Adventist Health and Rideout  106580996.0    Rectum   \n",
       "15695  2020   Yuba  Adventist Health and Rideout  106580996.0  Prostate   \n",
       "15696  2020   Yuba  Adventist Health and Rideout  106580996.0      Lung   \n",
       "15697  2020   Yuba  Adventist Health and Rideout  106580996.0     Colon   \n",
       "15698  2020   Yuba  Adventist Health and Rideout  106580996.0    Breast   \n",
       "\n",
       "      No_of_cases1 No_of_cases2   LONGITUDE   LATITUDE  \n",
       "0           7128.0        Empty       Empty      Empty  \n",
       "1            892.0        Empty       Empty      Empty  \n",
       "2           2128.0        Empty       Empty      Empty  \n",
       "3          25829.0        Empty       Empty      Empty  \n",
       "4           2719.0        Empty       Empty      Empty  \n",
       "...            ...          ...         ...        ...  \n",
       "15694        Empty          6.0 -121.593602  39.138805  \n",
       "15695        Empty          5.0 -121.593602  39.138805  \n",
       "15696        Empty          8.0 -121.593602  39.138805  \n",
       "15697        Empty         20.0 -121.593602  39.138805  \n",
       "15698        Empty         25.0 -121.593602  39.138805  \n",
       "\n",
       "[15699 rows x 9 columns]"
      ]
     },
     "execution_count": 14,
     "metadata": {},
     "output_type": "execute_result"
    }
   ],
   "source": [
    "#fill missing values\n",
    "data=data.fillna(\"Empty\")\n",
    "data"
   ]
  },
  {
   "cell_type": "code",
   "execution_count": 15,
   "id": "038c901f",
   "metadata": {
    "execution": {
     "iopub.execute_input": "2022-11-26T15:14:34.400860Z",
     "iopub.status.busy": "2022-11-26T15:14:34.400408Z",
     "iopub.status.idle": "2022-11-26T15:14:34.421427Z",
     "shell.execute_reply": "2022-11-26T15:14:34.420396Z"
    },
    "papermill": {
     "duration": 0.047354,
     "end_time": "2022-11-26T15:14:34.423608",
     "exception": false,
     "start_time": "2022-11-26T15:14:34.376254",
     "status": "completed"
    },
    "tags": []
   },
   "outputs": [
    {
     "data": {
      "text/html": [
       "<div>\n",
       "<style scoped>\n",
       "    .dataframe tbody tr th:only-of-type {\n",
       "        vertical-align: middle;\n",
       "    }\n",
       "\n",
       "    .dataframe tbody tr th {\n",
       "        vertical-align: top;\n",
       "    }\n",
       "\n",
       "    .dataframe thead th {\n",
       "        text-align: right;\n",
       "    }\n",
       "</style>\n",
       "<table border=\"1\" class=\"dataframe\">\n",
       "  <thead>\n",
       "    <tr style=\"text-align: right;\">\n",
       "      <th></th>\n",
       "      <th>Year</th>\n",
       "      <th>County</th>\n",
       "      <th>Hospital</th>\n",
       "      <th>OSHPD_ID</th>\n",
       "      <th>Surgery</th>\n",
       "      <th>No_of_cases1</th>\n",
       "      <th>No_of_cases2</th>\n",
       "      <th>LONGITUDE</th>\n",
       "      <th>LATITUDE</th>\n",
       "    </tr>\n",
       "  </thead>\n",
       "  <tbody>\n",
       "    <tr>\n",
       "      <th>0</th>\n",
       "      <td>2013</td>\n",
       "      <td>Empty</td>\n",
       "      <td>Statewide</td>\n",
       "      <td>Empty</td>\n",
       "      <td>Colon</td>\n",
       "      <td>7128.0</td>\n",
       "      <td>Empty</td>\n",
       "      <td>Empty</td>\n",
       "      <td>Empty</td>\n",
       "    </tr>\n",
       "    <tr>\n",
       "      <th>1</th>\n",
       "      <td>2013</td>\n",
       "      <td>Empty</td>\n",
       "      <td>Statewide</td>\n",
       "      <td>Empty</td>\n",
       "      <td>Bladder</td>\n",
       "      <td>892.0</td>\n",
       "      <td>Empty</td>\n",
       "      <td>Empty</td>\n",
       "      <td>Empty</td>\n",
       "    </tr>\n",
       "    <tr>\n",
       "      <th>2</th>\n",
       "      <td>2013</td>\n",
       "      <td>Empty</td>\n",
       "      <td>Statewide</td>\n",
       "      <td>Empty</td>\n",
       "      <td>Rectum</td>\n",
       "      <td>2128.0</td>\n",
       "      <td>Empty</td>\n",
       "      <td>Empty</td>\n",
       "      <td>Empty</td>\n",
       "    </tr>\n",
       "    <tr>\n",
       "      <th>3</th>\n",
       "      <td>2013</td>\n",
       "      <td>Empty</td>\n",
       "      <td>Statewide</td>\n",
       "      <td>Empty</td>\n",
       "      <td>Breast</td>\n",
       "      <td>25829.0</td>\n",
       "      <td>Empty</td>\n",
       "      <td>Empty</td>\n",
       "      <td>Empty</td>\n",
       "    </tr>\n",
       "    <tr>\n",
       "      <th>4</th>\n",
       "      <td>2013</td>\n",
       "      <td>Empty</td>\n",
       "      <td>Statewide</td>\n",
       "      <td>Empty</td>\n",
       "      <td>Brain</td>\n",
       "      <td>2719.0</td>\n",
       "      <td>Empty</td>\n",
       "      <td>Empty</td>\n",
       "      <td>Empty</td>\n",
       "    </tr>\n",
       "    <tr>\n",
       "      <th>...</th>\n",
       "      <td>...</td>\n",
       "      <td>...</td>\n",
       "      <td>...</td>\n",
       "      <td>...</td>\n",
       "      <td>...</td>\n",
       "      <td>...</td>\n",
       "      <td>...</td>\n",
       "      <td>...</td>\n",
       "      <td>...</td>\n",
       "    </tr>\n",
       "    <tr>\n",
       "      <th>15694</th>\n",
       "      <td>2020</td>\n",
       "      <td>Yuba</td>\n",
       "      <td>Adventist Health and Rideout</td>\n",
       "      <td>106580996.0</td>\n",
       "      <td>Rectum</td>\n",
       "      <td>Empty</td>\n",
       "      <td>6.0</td>\n",
       "      <td>-121.593602</td>\n",
       "      <td>39.138805</td>\n",
       "    </tr>\n",
       "    <tr>\n",
       "      <th>15695</th>\n",
       "      <td>2020</td>\n",
       "      <td>Yuba</td>\n",
       "      <td>Adventist Health and Rideout</td>\n",
       "      <td>106580996.0</td>\n",
       "      <td>Prostate</td>\n",
       "      <td>Empty</td>\n",
       "      <td>5.0</td>\n",
       "      <td>-121.593602</td>\n",
       "      <td>39.138805</td>\n",
       "    </tr>\n",
       "    <tr>\n",
       "      <th>15696</th>\n",
       "      <td>2020</td>\n",
       "      <td>Yuba</td>\n",
       "      <td>Adventist Health and Rideout</td>\n",
       "      <td>106580996.0</td>\n",
       "      <td>Lung</td>\n",
       "      <td>Empty</td>\n",
       "      <td>8.0</td>\n",
       "      <td>-121.593602</td>\n",
       "      <td>39.138805</td>\n",
       "    </tr>\n",
       "    <tr>\n",
       "      <th>15697</th>\n",
       "      <td>2020</td>\n",
       "      <td>Yuba</td>\n",
       "      <td>Adventist Health and Rideout</td>\n",
       "      <td>106580996.0</td>\n",
       "      <td>Colon</td>\n",
       "      <td>Empty</td>\n",
       "      <td>20.0</td>\n",
       "      <td>-121.593602</td>\n",
       "      <td>39.138805</td>\n",
       "    </tr>\n",
       "    <tr>\n",
       "      <th>15698</th>\n",
       "      <td>2020</td>\n",
       "      <td>Yuba</td>\n",
       "      <td>Adventist Health and Rideout</td>\n",
       "      <td>106580996.0</td>\n",
       "      <td>Breast</td>\n",
       "      <td>Empty</td>\n",
       "      <td>25.0</td>\n",
       "      <td>-121.593602</td>\n",
       "      <td>39.138805</td>\n",
       "    </tr>\n",
       "  </tbody>\n",
       "</table>\n",
       "<p>15699 rows × 9 columns</p>\n",
       "</div>"
      ],
      "text/plain": [
       "       Year County                      Hospital     OSHPD_ID   Surgery  \\\n",
       "0      2013  Empty                     Statewide        Empty     Colon   \n",
       "1      2013  Empty                     Statewide        Empty   Bladder   \n",
       "2      2013  Empty                     Statewide        Empty    Rectum   \n",
       "3      2013  Empty                     Statewide        Empty    Breast   \n",
       "4      2013  Empty                     Statewide        Empty     Brain   \n",
       "...     ...    ...                           ...          ...       ...   \n",
       "15694  2020   Yuba  Adventist Health and Rideout  106580996.0    Rectum   \n",
       "15695  2020   Yuba  Adventist Health and Rideout  106580996.0  Prostate   \n",
       "15696  2020   Yuba  Adventist Health and Rideout  106580996.0      Lung   \n",
       "15697  2020   Yuba  Adventist Health and Rideout  106580996.0     Colon   \n",
       "15698  2020   Yuba  Adventist Health and Rideout  106580996.0    Breast   \n",
       "\n",
       "      No_of_cases1 No_of_cases2   LONGITUDE   LATITUDE  \n",
       "0           7128.0        Empty       Empty      Empty  \n",
       "1            892.0        Empty       Empty      Empty  \n",
       "2           2128.0        Empty       Empty      Empty  \n",
       "3          25829.0        Empty       Empty      Empty  \n",
       "4           2719.0        Empty       Empty      Empty  \n",
       "...            ...          ...         ...        ...  \n",
       "15694        Empty          6.0 -121.593602  39.138805  \n",
       "15695        Empty          5.0 -121.593602  39.138805  \n",
       "15696        Empty          8.0 -121.593602  39.138805  \n",
       "15697        Empty         20.0 -121.593602  39.138805  \n",
       "15698        Empty         25.0 -121.593602  39.138805  \n",
       "\n",
       "[15699 rows x 9 columns]"
      ]
     },
     "execution_count": 15,
     "metadata": {},
     "output_type": "execute_result"
    }
   ],
   "source": [
    "data"
   ]
  },
  {
   "cell_type": "code",
   "execution_count": 16,
   "id": "862dc7d0",
   "metadata": {
    "execution": {
     "iopub.execute_input": "2022-11-26T15:14:34.470342Z",
     "iopub.status.busy": "2022-11-26T15:14:34.469906Z",
     "iopub.status.idle": "2022-11-26T15:14:34.827233Z",
     "shell.execute_reply": "2022-11-26T15:14:34.825547Z"
    },
    "papermill": {
     "duration": 0.383471,
     "end_time": "2022-11-26T15:14:34.829679",
     "exception": false,
     "start_time": "2022-11-26T15:14:34.446208",
     "status": "completed"
    },
    "tags": []
   },
   "outputs": [
    {
     "data": {
      "text/plain": [
       "[]"
      ]
     },
     "execution_count": 16,
     "metadata": {},
     "output_type": "execute_result"
    },
    {
     "data": {
      "text/plain": [
       "<Figure size 1080x720 with 0 Axes>"
      ]
     },
     "metadata": {},
     "output_type": "display_data"
    },
    {
     "data": {
      "image/png": "[encoded data removed]",
      "text/plain": [
       "<Figure size 180x180 with 2 Axes>"
      ]
     },
     "metadata": {
      "needs_background": "light"
     },
     "output_type": "display_data"
    }
   ],
   "source": [
    "\"\"\"\n",
    "To plot multiple pairwise bivariate distributions in a dataset, you can use the pairplot() function. \n",
    "This shows the relationship for (n, 2) combination of variable in a DataFrame as a matrix of plots \n",
    "and the diagonal plots are the univariate plots\n",
    "\"\"\" \n",
    "plt.figure(figsize=(15,10))\n",
    "sns.pairplot(data)\n",
    "plt.title(\"Looking for Insights in Data\")\n",
    "plt.tight_layout()\n",
    "plt.plot()"
   ]
  },
  {
   "cell_type": "markdown",
   "id": "c62487fa",
   "metadata": {
    "papermill": {
     "duration": 0.023113,
     "end_time": "2022-11-26T15:14:34.876526",
     "exception": false,
     "start_time": "2022-11-26T15:14:34.853413",
     "status": "completed"
    },
    "tags": []
   },
   "source": [
    "\n",
    "<div style=\"color:white;\n",
    "           display:fill;\n",
    "           border-radius:5px;\n",
    "           background-color:red;\n",
    "           font-size:110%;\n",
    "           font-family:Verdana;\n",
    "           letter-spacing:0.5px\">\n",
    "\n",
    "<p style=\"padding: 10px;\n",
    "              color:white;\">    Insight: We can see that that for the x column(Year) the number of cases for 1 and 2 are similar. The cases are more distributed below 10000, with the high number of cases being far from this point.\n",
    "Insight: The longitude and latitude sections are inversely proportion, this implies that the entries for these columns were correct.\n",
    "\n",
    "    \n",
    "   \n",
    "</p>\n",
    "</div>\n",
    "\n",
    "\n",
    "\n",
    "\n"
   ]
  },
  {
   "cell_type": "code",
   "execution_count": 17,
   "id": "43079060",
   "metadata": {
    "execution": {
     "iopub.execute_input": "2022-11-26T15:14:34.924357Z",
     "iopub.status.busy": "2022-11-26T15:14:34.923568Z",
     "iopub.status.idle": "2022-11-26T15:14:34.946086Z",
     "shell.execute_reply": "2022-11-26T15:14:34.944963Z"
    },
    "papermill": {
     "duration": 0.048781,
     "end_time": "2022-11-26T15:14:34.948317",
     "exception": false,
     "start_time": "2022-11-26T15:14:34.899536",
     "status": "completed"
    },
    "tags": []
   },
   "outputs": [
    {
     "data": {
      "text/html": [
       "<div>\n",
       "<style scoped>\n",
       "    .dataframe tbody tr th:only-of-type {\n",
       "        vertical-align: middle;\n",
       "    }\n",
       "\n",
       "    .dataframe tbody tr th {\n",
       "        vertical-align: top;\n",
       "    }\n",
       "\n",
       "    .dataframe thead th {\n",
       "        text-align: right;\n",
       "    }\n",
       "</style>\n",
       "<table border=\"1\" class=\"dataframe\">\n",
       "  <thead>\n",
       "    <tr style=\"text-align: right;\">\n",
       "      <th></th>\n",
       "      <th>Year</th>\n",
       "      <th>County</th>\n",
       "      <th>Hospital</th>\n",
       "      <th>OSHPD_ID</th>\n",
       "      <th>Surgery</th>\n",
       "      <th>No_of_cases1</th>\n",
       "      <th>No_of_cases2</th>\n",
       "    </tr>\n",
       "  </thead>\n",
       "  <tbody>\n",
       "    <tr>\n",
       "      <th>0</th>\n",
       "      <td>2013</td>\n",
       "      <td>Empty</td>\n",
       "      <td>Statewide</td>\n",
       "      <td>Empty</td>\n",
       "      <td>Colon</td>\n",
       "      <td>7128.0</td>\n",
       "      <td>Empty</td>\n",
       "    </tr>\n",
       "    <tr>\n",
       "      <th>1</th>\n",
       "      <td>2013</td>\n",
       "      <td>Empty</td>\n",
       "      <td>Statewide</td>\n",
       "      <td>Empty</td>\n",
       "      <td>Bladder</td>\n",
       "      <td>892.0</td>\n",
       "      <td>Empty</td>\n",
       "    </tr>\n",
       "    <tr>\n",
       "      <th>2</th>\n",
       "      <td>2013</td>\n",
       "      <td>Empty</td>\n",
       "      <td>Statewide</td>\n",
       "      <td>Empty</td>\n",
       "      <td>Rectum</td>\n",
       "      <td>2128.0</td>\n",
       "      <td>Empty</td>\n",
       "    </tr>\n",
       "    <tr>\n",
       "      <th>3</th>\n",
       "      <td>2013</td>\n",
       "      <td>Empty</td>\n",
       "      <td>Statewide</td>\n",
       "      <td>Empty</td>\n",
       "      <td>Breast</td>\n",
       "      <td>25829.0</td>\n",
       "      <td>Empty</td>\n",
       "    </tr>\n",
       "    <tr>\n",
       "      <th>4</th>\n",
       "      <td>2013</td>\n",
       "      <td>Empty</td>\n",
       "      <td>Statewide</td>\n",
       "      <td>Empty</td>\n",
       "      <td>Brain</td>\n",
       "      <td>2719.0</td>\n",
       "      <td>Empty</td>\n",
       "    </tr>\n",
       "    <tr>\n",
       "      <th>...</th>\n",
       "      <td>...</td>\n",
       "      <td>...</td>\n",
       "      <td>...</td>\n",
       "      <td>...</td>\n",
       "      <td>...</td>\n",
       "      <td>...</td>\n",
       "      <td>...</td>\n",
       "    </tr>\n",
       "    <tr>\n",
       "      <th>15694</th>\n",
       "      <td>2020</td>\n",
       "      <td>Yuba</td>\n",
       "      <td>Adventist Health and Rideout</td>\n",
       "      <td>106580996.0</td>\n",
       "      <td>Rectum</td>\n",
       "      <td>Empty</td>\n",
       "      <td>6.0</td>\n",
       "    </tr>\n",
       "    <tr>\n",
       "      <th>15695</th>\n",
       "      <td>2020</td>\n",
       "      <td>Yuba</td>\n",
       "      <td>Adventist Health and Rideout</td>\n",
       "      <td>106580996.0</td>\n",
       "      <td>Prostate</td>\n",
       "      <td>Empty</td>\n",
       "      <td>5.0</td>\n",
       "    </tr>\n",
       "    <tr>\n",
       "      <th>15696</th>\n",
       "      <td>2020</td>\n",
       "      <td>Yuba</td>\n",
       "      <td>Adventist Health and Rideout</td>\n",
       "      <td>106580996.0</td>\n",
       "      <td>Lung</td>\n",
       "      <td>Empty</td>\n",
       "      <td>8.0</td>\n",
       "    </tr>\n",
       "    <tr>\n",
       "      <th>15697</th>\n",
       "      <td>2020</td>\n",
       "      <td>Yuba</td>\n",
       "      <td>Adventist Health and Rideout</td>\n",
       "      <td>106580996.0</td>\n",
       "      <td>Colon</td>\n",
       "      <td>Empty</td>\n",
       "      <td>20.0</td>\n",
       "    </tr>\n",
       "    <tr>\n",
       "      <th>15698</th>\n",
       "      <td>2020</td>\n",
       "      <td>Yuba</td>\n",
       "      <td>Adventist Health and Rideout</td>\n",
       "      <td>106580996.0</td>\n",
       "      <td>Breast</td>\n",
       "      <td>Empty</td>\n",
       "      <td>25.0</td>\n",
       "    </tr>\n",
       "  </tbody>\n",
       "</table>\n",
       "<p>15699 rows × 7 columns</p>\n",
       "</div>"
      ],
      "text/plain": [
       "       Year County                      Hospital     OSHPD_ID   Surgery  \\\n",
       "0      2013  Empty                     Statewide        Empty     Colon   \n",
       "1      2013  Empty                     Statewide        Empty   Bladder   \n",
       "2      2013  Empty                     Statewide        Empty    Rectum   \n",
       "3      2013  Empty                     Statewide        Empty    Breast   \n",
       "4      2013  Empty                     Statewide        Empty     Brain   \n",
       "...     ...    ...                           ...          ...       ...   \n",
       "15694  2020   Yuba  Adventist Health and Rideout  106580996.0    Rectum   \n",
       "15695  2020   Yuba  Adventist Health and Rideout  106580996.0  Prostate   \n",
       "15696  2020   Yuba  Adventist Health and Rideout  106580996.0      Lung   \n",
       "15697  2020   Yuba  Adventist Health and Rideout  106580996.0     Colon   \n",
       "15698  2020   Yuba  Adventist Health and Rideout  106580996.0    Breast   \n",
       "\n",
       "      No_of_cases1 No_of_cases2  \n",
       "0           7128.0        Empty  \n",
       "1            892.0        Empty  \n",
       "2           2128.0        Empty  \n",
       "3          25829.0        Empty  \n",
       "4           2719.0        Empty  \n",
       "...            ...          ...  \n",
       "15694        Empty          6.0  \n",
       "15695        Empty          5.0  \n",
       "15696        Empty          8.0  \n",
       "15697        Empty         20.0  \n",
       "15698        Empty         25.0  \n",
       "\n",
       "[15699 rows x 7 columns]"
      ]
     },
     "execution_count": 17,
     "metadata": {},
     "output_type": "execute_result"
    }
   ],
   "source": [
    "# We do not need some columns\n",
    "data=data.drop([\"LONGITUDE\", \"LATITUDE\"], axis=1)\n",
    "data"
   ]
  },
  {
   "cell_type": "markdown",
   "id": "24a7dc9f",
   "metadata": {
    "papermill": {
     "duration": 0.022724,
     "end_time": "2022-11-26T15:14:34.994082",
     "exception": false,
     "start_time": "2022-11-26T15:14:34.971358",
     "status": "completed"
    },
    "tags": []
   },
   "source": [
    "<div style=\"color:white;\n",
    "           display:fill;\n",
    "           border-radius:5px;\n",
    "           background-color:red;\n",
    "           font-size:110%;\n",
    "           font-family:Verdana;\n",
    "           letter-spacing:0.5px\">\n",
    "\n",
    "<p style=\"padding: 10px;\n",
    "              color:white;\">    Insight: \n",
    "from the above output, it seems like the [\"Hospital\"] titled \"Statewide\" corresponds to empty cells in the [\"County\"]'s column. Let us confirm to be sure.\n",
    "</p>\n",
    "</div>\n",
    "\n",
    "\n"
   ]
  },
  {
   "cell_type": "code",
   "execution_count": 18,
   "id": "066d6479",
   "metadata": {
    "execution": {
     "iopub.execute_input": "2022-11-26T15:14:35.043837Z",
     "iopub.status.busy": "2022-11-26T15:14:35.043393Z",
     "iopub.status.idle": "2022-11-26T15:14:35.058098Z",
     "shell.execute_reply": "2022-11-26T15:14:35.056659Z"
    },
    "papermill": {
     "duration": 0.04324,
     "end_time": "2022-11-26T15:14:35.060455",
     "exception": false,
     "start_time": "2022-11-26T15:14:35.017215",
     "status": "completed"
    },
    "tags": []
   },
   "outputs": [
    {
     "name": "stdout",
     "output_type": "stream",
     "text": [
      "The shape of empty cells in county column (88, 7)\n",
      "The shape of Hospital named Statewide:  (88, 7)\n"
     ]
    }
   ],
   "source": [
    "# Check if statewide hospital==empty in the county column\n",
    "check1=data[((data[\"Hospital\"]==\"Statewide\")&(data[\"County\"]==\"Empty\"))]\n",
    "print(\"The shape of empty cells in county column\",check1.shape)\n",
    "check2=data[((data[\"County\"]==\"Empty\") & (data[\"OSHPD_ID\"]==\"Empty\"))]\n",
    "print(\"The shape of Hospital named Statewide: \",check2.shape)"
   ]
  },
  {
   "cell_type": "markdown",
   "id": "ff107785",
   "metadata": {
    "papermill": {
     "duration": 0.022919,
     "end_time": "2022-11-26T15:14:35.106497",
     "exception": false,
     "start_time": "2022-11-26T15:14:35.083578",
     "status": "completed"
    },
    "tags": []
   },
   "source": [
    "<div style=\"color:white;\n",
    "           display:fill;\n",
    "           border-radius:5px;\n",
    "           background-color:blue;\n",
    "           font-size:110%;\n",
    "           font-family:Verdana;\n",
    "           letter-spacing:0.5px\">\n",
    "\n",
    "<p style=\"padding: 10px;\n",
    "              color:white;\">    Insight: The assumption is confirmed, so we actually do not know which country and ID #(OSHPD_ID) Statewide hospital\n",
    "belongs to, we can call the unknown \n",
    "country \"state\" and generate a unique id(OSHPDID) from the mean of other countries ID\n",
    "\n",
    "\n",
    "\n",
    "</p>\n",
    "</div>\n",
    "\n",
    "\n",
    "\n",
    "."
   ]
  },
  {
   "cell_type": "code",
   "execution_count": 19,
   "id": "38b7f5bc",
   "metadata": {
    "execution": {
     "iopub.execute_input": "2022-11-26T15:14:35.155190Z",
     "iopub.status.busy": "2022-11-26T15:14:35.154031Z",
     "iopub.status.idle": "2022-11-26T15:14:35.181847Z",
     "shell.execute_reply": "2022-11-26T15:14:35.180501Z"
    },
    "papermill": {
     "duration": 0.054837,
     "end_time": "2022-11-26T15:14:35.184453",
     "exception": false,
     "start_time": "2022-11-26T15:14:35.129616",
     "status": "completed"
    },
    "tags": []
   },
   "outputs": [
    {
     "data": {
      "text/html": [
       "<div>\n",
       "<style scoped>\n",
       "    .dataframe tbody tr th:only-of-type {\n",
       "        vertical-align: middle;\n",
       "    }\n",
       "\n",
       "    .dataframe tbody tr th {\n",
       "        vertical-align: top;\n",
       "    }\n",
       "\n",
       "    .dataframe thead th {\n",
       "        text-align: right;\n",
       "    }\n",
       "</style>\n",
       "<table border=\"1\" class=\"dataframe\">\n",
       "  <thead>\n",
       "    <tr style=\"text-align: right;\">\n",
       "      <th></th>\n",
       "      <th>Year</th>\n",
       "      <th>County</th>\n",
       "      <th>Hospital</th>\n",
       "      <th>OSHPD_ID</th>\n",
       "      <th>Surgery</th>\n",
       "      <th>No_of_cases1</th>\n",
       "      <th>No_of_cases2</th>\n",
       "    </tr>\n",
       "  </thead>\n",
       "  <tbody>\n",
       "    <tr>\n",
       "      <th>0</th>\n",
       "      <td>2013</td>\n",
       "      <td>State</td>\n",
       "      <td>Statewide</td>\n",
       "      <td>0.0</td>\n",
       "      <td>Colon</td>\n",
       "      <td>7128.0</td>\n",
       "      <td>Empty</td>\n",
       "    </tr>\n",
       "    <tr>\n",
       "      <th>1</th>\n",
       "      <td>2013</td>\n",
       "      <td>State</td>\n",
       "      <td>Statewide</td>\n",
       "      <td>0.0</td>\n",
       "      <td>Bladder</td>\n",
       "      <td>892.0</td>\n",
       "      <td>Empty</td>\n",
       "    </tr>\n",
       "    <tr>\n",
       "      <th>2</th>\n",
       "      <td>2013</td>\n",
       "      <td>State</td>\n",
       "      <td>Statewide</td>\n",
       "      <td>0.0</td>\n",
       "      <td>Rectum</td>\n",
       "      <td>2128.0</td>\n",
       "      <td>Empty</td>\n",
       "    </tr>\n",
       "    <tr>\n",
       "      <th>3</th>\n",
       "      <td>2013</td>\n",
       "      <td>State</td>\n",
       "      <td>Statewide</td>\n",
       "      <td>0.0</td>\n",
       "      <td>Breast</td>\n",
       "      <td>25829.0</td>\n",
       "      <td>Empty</td>\n",
       "    </tr>\n",
       "    <tr>\n",
       "      <th>4</th>\n",
       "      <td>2013</td>\n",
       "      <td>State</td>\n",
       "      <td>Statewide</td>\n",
       "      <td>0.0</td>\n",
       "      <td>Brain</td>\n",
       "      <td>2719.0</td>\n",
       "      <td>Empty</td>\n",
       "    </tr>\n",
       "    <tr>\n",
       "      <th>...</th>\n",
       "      <td>...</td>\n",
       "      <td>...</td>\n",
       "      <td>...</td>\n",
       "      <td>...</td>\n",
       "      <td>...</td>\n",
       "      <td>...</td>\n",
       "      <td>...</td>\n",
       "    </tr>\n",
       "    <tr>\n",
       "      <th>15694</th>\n",
       "      <td>2020</td>\n",
       "      <td>Yuba</td>\n",
       "      <td>Adventist Health and Rideout</td>\n",
       "      <td>106580996.0</td>\n",
       "      <td>Rectum</td>\n",
       "      <td>Empty</td>\n",
       "      <td>6.0</td>\n",
       "    </tr>\n",
       "    <tr>\n",
       "      <th>15695</th>\n",
       "      <td>2020</td>\n",
       "      <td>Yuba</td>\n",
       "      <td>Adventist Health and Rideout</td>\n",
       "      <td>106580996.0</td>\n",
       "      <td>Prostate</td>\n",
       "      <td>Empty</td>\n",
       "      <td>5.0</td>\n",
       "    </tr>\n",
       "    <tr>\n",
       "      <th>15696</th>\n",
       "      <td>2020</td>\n",
       "      <td>Yuba</td>\n",
       "      <td>Adventist Health and Rideout</td>\n",
       "      <td>106580996.0</td>\n",
       "      <td>Lung</td>\n",
       "      <td>Empty</td>\n",
       "      <td>8.0</td>\n",
       "    </tr>\n",
       "    <tr>\n",
       "      <th>15697</th>\n",
       "      <td>2020</td>\n",
       "      <td>Yuba</td>\n",
       "      <td>Adventist Health and Rideout</td>\n",
       "      <td>106580996.0</td>\n",
       "      <td>Colon</td>\n",
       "      <td>Empty</td>\n",
       "      <td>20.0</td>\n",
       "    </tr>\n",
       "    <tr>\n",
       "      <th>15698</th>\n",
       "      <td>2020</td>\n",
       "      <td>Yuba</td>\n",
       "      <td>Adventist Health and Rideout</td>\n",
       "      <td>106580996.0</td>\n",
       "      <td>Breast</td>\n",
       "      <td>Empty</td>\n",
       "      <td>25.0</td>\n",
       "    </tr>\n",
       "  </tbody>\n",
       "</table>\n",
       "<p>15699 rows × 7 columns</p>\n",
       "</div>"
      ],
      "text/plain": [
       "       Year County                      Hospital     OSHPD_ID   Surgery  \\\n",
       "0      2013  State                     Statewide          0.0     Colon   \n",
       "1      2013  State                     Statewide          0.0   Bladder   \n",
       "2      2013  State                     Statewide          0.0    Rectum   \n",
       "3      2013  State                     Statewide          0.0    Breast   \n",
       "4      2013  State                     Statewide          0.0     Brain   \n",
       "...     ...    ...                           ...          ...       ...   \n",
       "15694  2020   Yuba  Adventist Health and Rideout  106580996.0    Rectum   \n",
       "15695  2020   Yuba  Adventist Health and Rideout  106580996.0  Prostate   \n",
       "15696  2020   Yuba  Adventist Health and Rideout  106580996.0      Lung   \n",
       "15697  2020   Yuba  Adventist Health and Rideout  106580996.0     Colon   \n",
       "15698  2020   Yuba  Adventist Health and Rideout  106580996.0    Breast   \n",
       "\n",
       "      No_of_cases1 No_of_cases2  \n",
       "0           7128.0        Empty  \n",
       "1            892.0        Empty  \n",
       "2           2128.0        Empty  \n",
       "3          25829.0        Empty  \n",
       "4           2719.0        Empty  \n",
       "...            ...          ...  \n",
       "15694        Empty          6.0  \n",
       "15695        Empty          5.0  \n",
       "15696        Empty          8.0  \n",
       "15697        Empty         20.0  \n",
       "15698        Empty         25.0  \n",
       "\n",
       "[15699 rows x 7 columns]"
      ]
     },
     "execution_count": 19,
     "metadata": {},
     "output_type": "execute_result"
    }
   ],
   "source": [
    "data[\"County\"]=data[\"County\"].replace(to_replace=[\"Empty\"],value= \"State\")\n",
    "data[\"OSHPD_ID\"]=data[\"OSHPD_ID\"].replace(to_replace=[\"Empty\"],value= 0)\n",
    "data\n",
    "\n"
   ]
  },
  {
   "cell_type": "code",
   "execution_count": 20,
   "id": "1401a3b9",
   "metadata": {
    "execution": {
     "iopub.execute_input": "2022-11-26T15:14:35.234428Z",
     "iopub.status.busy": "2022-11-26T15:14:35.233386Z",
     "iopub.status.idle": "2022-11-26T15:14:35.241542Z",
     "shell.execute_reply": "2022-11-26T15:14:35.240594Z"
    },
    "papermill": {
     "duration": 0.034933,
     "end_time": "2022-11-26T15:14:35.243590",
     "exception": false,
     "start_time": "2022-11-26T15:14:35.208657",
     "status": "completed"
    },
    "tags": []
   },
   "outputs": [
    {
     "data": {
      "text/plain": [
       "105687003"
      ]
     },
     "execution_count": 20,
     "metadata": {},
     "output_type": "execute_result"
    }
   ],
   "source": [
    "#taking the mean of OSHPDID as the new ID for the Statewide Hospital\n",
    "IDmean=data[\"OSHPD_ID\"].mean()\n",
    "IDmean=round(IDmean)\n",
    "IDmean"
   ]
  },
  {
   "cell_type": "code",
   "execution_count": 21,
   "id": "2a616a16",
   "metadata": {
    "execution": {
     "iopub.execute_input": "2022-11-26T15:14:35.292878Z",
     "iopub.status.busy": "2022-11-26T15:14:35.292160Z",
     "iopub.status.idle": "2022-11-26T15:14:35.313837Z",
     "shell.execute_reply": "2022-11-26T15:14:35.312742Z"
    },
    "papermill": {
     "duration": 0.049316,
     "end_time": "2022-11-26T15:14:35.316443",
     "exception": false,
     "start_time": "2022-11-26T15:14:35.267127",
     "status": "completed"
    },
    "tags": []
   },
   "outputs": [
    {
     "data": {
      "text/html": [
       "<div>\n",
       "<style scoped>\n",
       "    .dataframe tbody tr th:only-of-type {\n",
       "        vertical-align: middle;\n",
       "    }\n",
       "\n",
       "    .dataframe tbody tr th {\n",
       "        vertical-align: top;\n",
       "    }\n",
       "\n",
       "    .dataframe thead th {\n",
       "        text-align: right;\n",
       "    }\n",
       "</style>\n",
       "<table border=\"1\" class=\"dataframe\">\n",
       "  <thead>\n",
       "    <tr style=\"text-align: right;\">\n",
       "      <th></th>\n",
       "      <th>Year</th>\n",
       "      <th>County</th>\n",
       "      <th>Hospital</th>\n",
       "      <th>OSHPD_ID</th>\n",
       "      <th>Surgery</th>\n",
       "      <th>No_of_cases1</th>\n",
       "      <th>No_of_cases2</th>\n",
       "      <th>OSHPDID</th>\n",
       "    </tr>\n",
       "  </thead>\n",
       "  <tbody>\n",
       "    <tr>\n",
       "      <th>0</th>\n",
       "      <td>2013</td>\n",
       "      <td>State</td>\n",
       "      <td>Statewide</td>\n",
       "      <td>0.0</td>\n",
       "      <td>Colon</td>\n",
       "      <td>7128.0</td>\n",
       "      <td>Empty</td>\n",
       "      <td>105687003.0</td>\n",
       "    </tr>\n",
       "    <tr>\n",
       "      <th>1</th>\n",
       "      <td>2013</td>\n",
       "      <td>State</td>\n",
       "      <td>Statewide</td>\n",
       "      <td>0.0</td>\n",
       "      <td>Bladder</td>\n",
       "      <td>892.0</td>\n",
       "      <td>Empty</td>\n",
       "      <td>105687003.0</td>\n",
       "    </tr>\n",
       "    <tr>\n",
       "      <th>2</th>\n",
       "      <td>2013</td>\n",
       "      <td>State</td>\n",
       "      <td>Statewide</td>\n",
       "      <td>0.0</td>\n",
       "      <td>Rectum</td>\n",
       "      <td>2128.0</td>\n",
       "      <td>Empty</td>\n",
       "      <td>105687003.0</td>\n",
       "    </tr>\n",
       "    <tr>\n",
       "      <th>3</th>\n",
       "      <td>2013</td>\n",
       "      <td>State</td>\n",
       "      <td>Statewide</td>\n",
       "      <td>0.0</td>\n",
       "      <td>Breast</td>\n",
       "      <td>25829.0</td>\n",
       "      <td>Empty</td>\n",
       "      <td>105687003.0</td>\n",
       "    </tr>\n",
       "    <tr>\n",
       "      <th>4</th>\n",
       "      <td>2013</td>\n",
       "      <td>State</td>\n",
       "      <td>Statewide</td>\n",
       "      <td>0.0</td>\n",
       "      <td>Brain</td>\n",
       "      <td>2719.0</td>\n",
       "      <td>Empty</td>\n",
       "      <td>105687003.0</td>\n",
       "    </tr>\n",
       "    <tr>\n",
       "      <th>...</th>\n",
       "      <td>...</td>\n",
       "      <td>...</td>\n",
       "      <td>...</td>\n",
       "      <td>...</td>\n",
       "      <td>...</td>\n",
       "      <td>...</td>\n",
       "      <td>...</td>\n",
       "      <td>...</td>\n",
       "    </tr>\n",
       "    <tr>\n",
       "      <th>15694</th>\n",
       "      <td>2020</td>\n",
       "      <td>Yuba</td>\n",
       "      <td>Adventist Health and Rideout</td>\n",
       "      <td>106580996.0</td>\n",
       "      <td>Rectum</td>\n",
       "      <td>Empty</td>\n",
       "      <td>6.0</td>\n",
       "      <td>106580996.0</td>\n",
       "    </tr>\n",
       "    <tr>\n",
       "      <th>15695</th>\n",
       "      <td>2020</td>\n",
       "      <td>Yuba</td>\n",
       "      <td>Adventist Health and Rideout</td>\n",
       "      <td>106580996.0</td>\n",
       "      <td>Prostate</td>\n",
       "      <td>Empty</td>\n",
       "      <td>5.0</td>\n",
       "      <td>106580996.0</td>\n",
       "    </tr>\n",
       "    <tr>\n",
       "      <th>15696</th>\n",
       "      <td>2020</td>\n",
       "      <td>Yuba</td>\n",
       "      <td>Adventist Health and Rideout</td>\n",
       "      <td>106580996.0</td>\n",
       "      <td>Lung</td>\n",
       "      <td>Empty</td>\n",
       "      <td>8.0</td>\n",
       "      <td>106580996.0</td>\n",
       "    </tr>\n",
       "    <tr>\n",
       "      <th>15697</th>\n",
       "      <td>2020</td>\n",
       "      <td>Yuba</td>\n",
       "      <td>Adventist Health and Rideout</td>\n",
       "      <td>106580996.0</td>\n",
       "      <td>Colon</td>\n",
       "      <td>Empty</td>\n",
       "      <td>20.0</td>\n",
       "      <td>106580996.0</td>\n",
       "    </tr>\n",
       "    <tr>\n",
       "      <th>15698</th>\n",
       "      <td>2020</td>\n",
       "      <td>Yuba</td>\n",
       "      <td>Adventist Health and Rideout</td>\n",
       "      <td>106580996.0</td>\n",
       "      <td>Breast</td>\n",
       "      <td>Empty</td>\n",
       "      <td>25.0</td>\n",
       "      <td>106580996.0</td>\n",
       "    </tr>\n",
       "  </tbody>\n",
       "</table>\n",
       "<p>15699 rows × 8 columns</p>\n",
       "</div>"
      ],
      "text/plain": [
       "       Year County                      Hospital     OSHPD_ID   Surgery  \\\n",
       "0      2013  State                     Statewide          0.0     Colon   \n",
       "1      2013  State                     Statewide          0.0   Bladder   \n",
       "2      2013  State                     Statewide          0.0    Rectum   \n",
       "3      2013  State                     Statewide          0.0    Breast   \n",
       "4      2013  State                     Statewide          0.0     Brain   \n",
       "...     ...    ...                           ...          ...       ...   \n",
       "15694  2020   Yuba  Adventist Health and Rideout  106580996.0    Rectum   \n",
       "15695  2020   Yuba  Adventist Health and Rideout  106580996.0  Prostate   \n",
       "15696  2020   Yuba  Adventist Health and Rideout  106580996.0      Lung   \n",
       "15697  2020   Yuba  Adventist Health and Rideout  106580996.0     Colon   \n",
       "15698  2020   Yuba  Adventist Health and Rideout  106580996.0    Breast   \n",
       "\n",
       "      No_of_cases1 No_of_cases2      OSHPDID  \n",
       "0           7128.0        Empty  105687003.0  \n",
       "1            892.0        Empty  105687003.0  \n",
       "2           2128.0        Empty  105687003.0  \n",
       "3          25829.0        Empty  105687003.0  \n",
       "4           2719.0        Empty  105687003.0  \n",
       "...            ...          ...          ...  \n",
       "15694        Empty          6.0  106580996.0  \n",
       "15695        Empty          5.0  106580996.0  \n",
       "15696        Empty          8.0  106580996.0  \n",
       "15697        Empty         20.0  106580996.0  \n",
       "15698        Empty         25.0  106580996.0  \n",
       "\n",
       "[15699 rows x 8 columns]"
      ]
     },
     "execution_count": 21,
     "metadata": {},
     "output_type": "execute_result"
    }
   ],
   "source": [
    "# replacing \n",
    "data[\"OSHPDID\"]=data[\"OSHPD_ID\"].replace(to_replace=[0],value= IDmean)\n",
    "data"
   ]
  },
  {
   "cell_type": "code",
   "execution_count": 22,
   "id": "1a85f89c",
   "metadata": {
    "execution": {
     "iopub.execute_input": "2022-11-26T15:14:35.367073Z",
     "iopub.status.busy": "2022-11-26T15:14:35.366310Z",
     "iopub.status.idle": "2022-11-26T15:14:35.375506Z",
     "shell.execute_reply": "2022-11-26T15:14:35.374202Z"
    },
    "papermill": {
     "duration": 0.037695,
     "end_time": "2022-11-26T15:14:35.378390",
     "exception": false,
     "start_time": "2022-11-26T15:14:35.340695",
     "status": "completed"
    },
    "tags": []
   },
   "outputs": [
    {
     "name": "stdout",
     "output_type": "stream",
     "text": [
      "333\n",
      "383\n"
     ]
    }
   ],
   "source": [
    "print(data[\"OSHPD_ID\"].nunique())\n",
    "print(data[\"Hospital\"].nunique())\n"
   ]
  },
  {
   "cell_type": "code",
   "execution_count": 23,
   "id": "7703c67c",
   "metadata": {
    "execution": {
     "iopub.execute_input": "2022-11-26T15:14:35.429258Z",
     "iopub.status.busy": "2022-11-26T15:14:35.428868Z",
     "iopub.status.idle": "2022-11-26T15:14:35.451551Z",
     "shell.execute_reply": "2022-11-26T15:14:35.450432Z"
    },
    "papermill": {
     "duration": 0.050895,
     "end_time": "2022-11-26T15:14:35.453928",
     "exception": false,
     "start_time": "2022-11-26T15:14:35.403033",
     "status": "completed"
    },
    "tags": []
   },
   "outputs": [
    {
     "data": {
      "text/html": [
       "<div>\n",
       "<style scoped>\n",
       "    .dataframe tbody tr th:only-of-type {\n",
       "        vertical-align: middle;\n",
       "    }\n",
       "\n",
       "    .dataframe tbody tr th {\n",
       "        vertical-align: top;\n",
       "    }\n",
       "\n",
       "    .dataframe thead th {\n",
       "        text-align: right;\n",
       "    }\n",
       "</style>\n",
       "<table border=\"1\" class=\"dataframe\">\n",
       "  <thead>\n",
       "    <tr style=\"text-align: right;\">\n",
       "      <th></th>\n",
       "      <th>Year</th>\n",
       "      <th>County</th>\n",
       "      <th>Hospital</th>\n",
       "      <th>Surgery</th>\n",
       "      <th>No_of_cases1</th>\n",
       "      <th>No_of_cases2</th>\n",
       "      <th>OSHPDID</th>\n",
       "    </tr>\n",
       "  </thead>\n",
       "  <tbody>\n",
       "    <tr>\n",
       "      <th>0</th>\n",
       "      <td>2013</td>\n",
       "      <td>State</td>\n",
       "      <td>Statewide</td>\n",
       "      <td>Colon</td>\n",
       "      <td>7128.0</td>\n",
       "      <td>Empty</td>\n",
       "      <td>105687003.0</td>\n",
       "    </tr>\n",
       "    <tr>\n",
       "      <th>1</th>\n",
       "      <td>2013</td>\n",
       "      <td>State</td>\n",
       "      <td>Statewide</td>\n",
       "      <td>Bladder</td>\n",
       "      <td>892.0</td>\n",
       "      <td>Empty</td>\n",
       "      <td>105687003.0</td>\n",
       "    </tr>\n",
       "    <tr>\n",
       "      <th>2</th>\n",
       "      <td>2013</td>\n",
       "      <td>State</td>\n",
       "      <td>Statewide</td>\n",
       "      <td>Rectum</td>\n",
       "      <td>2128.0</td>\n",
       "      <td>Empty</td>\n",
       "      <td>105687003.0</td>\n",
       "    </tr>\n",
       "    <tr>\n",
       "      <th>3</th>\n",
       "      <td>2013</td>\n",
       "      <td>State</td>\n",
       "      <td>Statewide</td>\n",
       "      <td>Breast</td>\n",
       "      <td>25829.0</td>\n",
       "      <td>Empty</td>\n",
       "      <td>105687003.0</td>\n",
       "    </tr>\n",
       "    <tr>\n",
       "      <th>4</th>\n",
       "      <td>2013</td>\n",
       "      <td>State</td>\n",
       "      <td>Statewide</td>\n",
       "      <td>Brain</td>\n",
       "      <td>2719.0</td>\n",
       "      <td>Empty</td>\n",
       "      <td>105687003.0</td>\n",
       "    </tr>\n",
       "    <tr>\n",
       "      <th>...</th>\n",
       "      <td>...</td>\n",
       "      <td>...</td>\n",
       "      <td>...</td>\n",
       "      <td>...</td>\n",
       "      <td>...</td>\n",
       "      <td>...</td>\n",
       "      <td>...</td>\n",
       "    </tr>\n",
       "    <tr>\n",
       "      <th>15694</th>\n",
       "      <td>2020</td>\n",
       "      <td>Yuba</td>\n",
       "      <td>Adventist Health and Rideout</td>\n",
       "      <td>Rectum</td>\n",
       "      <td>Empty</td>\n",
       "      <td>6.0</td>\n",
       "      <td>106580996.0</td>\n",
       "    </tr>\n",
       "    <tr>\n",
       "      <th>15695</th>\n",
       "      <td>2020</td>\n",
       "      <td>Yuba</td>\n",
       "      <td>Adventist Health and Rideout</td>\n",
       "      <td>Prostate</td>\n",
       "      <td>Empty</td>\n",
       "      <td>5.0</td>\n",
       "      <td>106580996.0</td>\n",
       "    </tr>\n",
       "    <tr>\n",
       "      <th>15696</th>\n",
       "      <td>2020</td>\n",
       "      <td>Yuba</td>\n",
       "      <td>Adventist Health and Rideout</td>\n",
       "      <td>Lung</td>\n",
       "      <td>Empty</td>\n",
       "      <td>8.0</td>\n",
       "      <td>106580996.0</td>\n",
       "    </tr>\n",
       "    <tr>\n",
       "      <th>15697</th>\n",
       "      <td>2020</td>\n",
       "      <td>Yuba</td>\n",
       "      <td>Adventist Health and Rideout</td>\n",
       "      <td>Colon</td>\n",
       "      <td>Empty</td>\n",
       "      <td>20.0</td>\n",
       "      <td>106580996.0</td>\n",
       "    </tr>\n",
       "    <tr>\n",
       "      <th>15698</th>\n",
       "      <td>2020</td>\n",
       "      <td>Yuba</td>\n",
       "      <td>Adventist Health and Rideout</td>\n",
       "      <td>Breast</td>\n",
       "      <td>Empty</td>\n",
       "      <td>25.0</td>\n",
       "      <td>106580996.0</td>\n",
       "    </tr>\n",
       "  </tbody>\n",
       "</table>\n",
       "<p>15699 rows × 7 columns</p>\n",
       "</div>"
      ],
      "text/plain": [
       "       Year County                      Hospital   Surgery No_of_cases1  \\\n",
       "0      2013  State                     Statewide     Colon       7128.0   \n",
       "1      2013  State                     Statewide   Bladder        892.0   \n",
       "2      2013  State                     Statewide    Rectum       2128.0   \n",
       "3      2013  State                     Statewide    Breast      25829.0   \n",
       "4      2013  State                     Statewide     Brain       2719.0   \n",
       "...     ...    ...                           ...       ...          ...   \n",
       "15694  2020   Yuba  Adventist Health and Rideout    Rectum        Empty   \n",
       "15695  2020   Yuba  Adventist Health and Rideout  Prostate        Empty   \n",
       "15696  2020   Yuba  Adventist Health and Rideout      Lung        Empty   \n",
       "15697  2020   Yuba  Adventist Health and Rideout     Colon        Empty   \n",
       "15698  2020   Yuba  Adventist Health and Rideout    Breast        Empty   \n",
       "\n",
       "      No_of_cases2      OSHPDID  \n",
       "0            Empty  105687003.0  \n",
       "1            Empty  105687003.0  \n",
       "2            Empty  105687003.0  \n",
       "3            Empty  105687003.0  \n",
       "4            Empty  105687003.0  \n",
       "...            ...          ...  \n",
       "15694          6.0  106580996.0  \n",
       "15695          5.0  106580996.0  \n",
       "15696          8.0  106580996.0  \n",
       "15697         20.0  106580996.0  \n",
       "15698         25.0  106580996.0  \n",
       "\n",
       "[15699 rows x 7 columns]"
      ]
     },
     "execution_count": 23,
     "metadata": {},
     "output_type": "execute_result"
    }
   ],
   "source": [
    "data=data.drop([\"OSHPD_ID\"], axis=\"columns\")\n",
    "data"
   ]
  },
  {
   "cell_type": "markdown",
   "id": "5b935676",
   "metadata": {
    "papermill": {
     "duration": 0.024524,
     "end_time": "2022-11-26T15:14:35.502659",
     "exception": false,
     "start_time": "2022-11-26T15:14:35.478135",
     "status": "completed"
    },
    "tags": []
   },
   "source": [
    "# explore the no_of_cases, and check for correlation"
   ]
  },
  {
   "cell_type": "code",
   "execution_count": 24,
   "id": "da23b023",
   "metadata": {
    "execution": {
     "iopub.execute_input": "2022-11-26T15:14:35.554599Z",
     "iopub.status.busy": "2022-11-26T15:14:35.553843Z",
     "iopub.status.idle": "2022-11-26T15:14:35.584652Z",
     "shell.execute_reply": "2022-11-26T15:14:35.583500Z"
    },
    "papermill": {
     "duration": 0.058864,
     "end_time": "2022-11-26T15:14:35.586982",
     "exception": false,
     "start_time": "2022-11-26T15:14:35.528118",
     "status": "completed"
    },
    "tags": []
   },
   "outputs": [
    {
     "data": {
      "text/html": [
       "<div>\n",
       "<style scoped>\n",
       "    .dataframe tbody tr th:only-of-type {\n",
       "        vertical-align: middle;\n",
       "    }\n",
       "\n",
       "    .dataframe tbody tr th {\n",
       "        vertical-align: top;\n",
       "    }\n",
       "\n",
       "    .dataframe thead th {\n",
       "        text-align: right;\n",
       "    }\n",
       "</style>\n",
       "<table border=\"1\" class=\"dataframe\">\n",
       "  <thead>\n",
       "    <tr style=\"text-align: right;\">\n",
       "      <th></th>\n",
       "      <th>Year</th>\n",
       "      <th>County</th>\n",
       "      <th>Hospital</th>\n",
       "      <th>Surgery</th>\n",
       "      <th>No_of_cases1</th>\n",
       "      <th>No_of_cases2</th>\n",
       "      <th>OSHPDID</th>\n",
       "    </tr>\n",
       "  </thead>\n",
       "  <tbody>\n",
       "    <tr>\n",
       "      <th>0</th>\n",
       "      <td>2013</td>\n",
       "      <td>State</td>\n",
       "      <td>Statewide</td>\n",
       "      <td>Colon</td>\n",
       "      <td>7128.0</td>\n",
       "      <td>0.0</td>\n",
       "      <td>105687003.0</td>\n",
       "    </tr>\n",
       "    <tr>\n",
       "      <th>1</th>\n",
       "      <td>2013</td>\n",
       "      <td>State</td>\n",
       "      <td>Statewide</td>\n",
       "      <td>Bladder</td>\n",
       "      <td>892.0</td>\n",
       "      <td>0.0</td>\n",
       "      <td>105687003.0</td>\n",
       "    </tr>\n",
       "    <tr>\n",
       "      <th>2</th>\n",
       "      <td>2013</td>\n",
       "      <td>State</td>\n",
       "      <td>Statewide</td>\n",
       "      <td>Rectum</td>\n",
       "      <td>2128.0</td>\n",
       "      <td>0.0</td>\n",
       "      <td>105687003.0</td>\n",
       "    </tr>\n",
       "    <tr>\n",
       "      <th>3</th>\n",
       "      <td>2013</td>\n",
       "      <td>State</td>\n",
       "      <td>Statewide</td>\n",
       "      <td>Breast</td>\n",
       "      <td>25829.0</td>\n",
       "      <td>0.0</td>\n",
       "      <td>105687003.0</td>\n",
       "    </tr>\n",
       "    <tr>\n",
       "      <th>4</th>\n",
       "      <td>2013</td>\n",
       "      <td>State</td>\n",
       "      <td>Statewide</td>\n",
       "      <td>Brain</td>\n",
       "      <td>2719.0</td>\n",
       "      <td>0.0</td>\n",
       "      <td>105687003.0</td>\n",
       "    </tr>\n",
       "    <tr>\n",
       "      <th>...</th>\n",
       "      <td>...</td>\n",
       "      <td>...</td>\n",
       "      <td>...</td>\n",
       "      <td>...</td>\n",
       "      <td>...</td>\n",
       "      <td>...</td>\n",
       "      <td>...</td>\n",
       "    </tr>\n",
       "    <tr>\n",
       "      <th>15694</th>\n",
       "      <td>2020</td>\n",
       "      <td>Yuba</td>\n",
       "      <td>Adventist Health and Rideout</td>\n",
       "      <td>Rectum</td>\n",
       "      <td>0.0</td>\n",
       "      <td>6.0</td>\n",
       "      <td>106580996.0</td>\n",
       "    </tr>\n",
       "    <tr>\n",
       "      <th>15695</th>\n",
       "      <td>2020</td>\n",
       "      <td>Yuba</td>\n",
       "      <td>Adventist Health and Rideout</td>\n",
       "      <td>Prostate</td>\n",
       "      <td>0.0</td>\n",
       "      <td>5.0</td>\n",
       "      <td>106580996.0</td>\n",
       "    </tr>\n",
       "    <tr>\n",
       "      <th>15696</th>\n",
       "      <td>2020</td>\n",
       "      <td>Yuba</td>\n",
       "      <td>Adventist Health and Rideout</td>\n",
       "      <td>Lung</td>\n",
       "      <td>0.0</td>\n",
       "      <td>8.0</td>\n",
       "      <td>106580996.0</td>\n",
       "    </tr>\n",
       "    <tr>\n",
       "      <th>15697</th>\n",
       "      <td>2020</td>\n",
       "      <td>Yuba</td>\n",
       "      <td>Adventist Health and Rideout</td>\n",
       "      <td>Colon</td>\n",
       "      <td>0.0</td>\n",
       "      <td>20.0</td>\n",
       "      <td>106580996.0</td>\n",
       "    </tr>\n",
       "    <tr>\n",
       "      <th>15698</th>\n",
       "      <td>2020</td>\n",
       "      <td>Yuba</td>\n",
       "      <td>Adventist Health and Rideout</td>\n",
       "      <td>Breast</td>\n",
       "      <td>0.0</td>\n",
       "      <td>25.0</td>\n",
       "      <td>106580996.0</td>\n",
       "    </tr>\n",
       "  </tbody>\n",
       "</table>\n",
       "<p>15699 rows × 7 columns</p>\n",
       "</div>"
      ],
      "text/plain": [
       "       Year County                      Hospital   Surgery  No_of_cases1  \\\n",
       "0      2013  State                     Statewide     Colon        7128.0   \n",
       "1      2013  State                     Statewide   Bladder         892.0   \n",
       "2      2013  State                     Statewide    Rectum        2128.0   \n",
       "3      2013  State                     Statewide    Breast       25829.0   \n",
       "4      2013  State                     Statewide     Brain        2719.0   \n",
       "...     ...    ...                           ...       ...           ...   \n",
       "15694  2020   Yuba  Adventist Health and Rideout    Rectum           0.0   \n",
       "15695  2020   Yuba  Adventist Health and Rideout  Prostate           0.0   \n",
       "15696  2020   Yuba  Adventist Health and Rideout      Lung           0.0   \n",
       "15697  2020   Yuba  Adventist Health and Rideout     Colon           0.0   \n",
       "15698  2020   Yuba  Adventist Health and Rideout    Breast           0.0   \n",
       "\n",
       "       No_of_cases2      OSHPDID  \n",
       "0               0.0  105687003.0  \n",
       "1               0.0  105687003.0  \n",
       "2               0.0  105687003.0  \n",
       "3               0.0  105687003.0  \n",
       "4               0.0  105687003.0  \n",
       "...             ...          ...  \n",
       "15694           6.0  106580996.0  \n",
       "15695           5.0  106580996.0  \n",
       "15696           8.0  106580996.0  \n",
       "15697          20.0  106580996.0  \n",
       "15698          25.0  106580996.0  \n",
       "\n",
       "[15699 rows x 7 columns]"
      ]
     },
     "execution_count": 24,
     "metadata": {},
     "output_type": "execute_result"
    }
   ],
   "source": [
    "data[\"No_of_cases1\"]=data[\"No_of_cases1\"].replace(to_replace=[\"Empty\"],value= 0)\n",
    "data[\"No_of_cases2\"]=data[\"No_of_cases2\"].replace(to_replace=[\"Empty\"],value= 0)\n",
    "data"
   ]
  },
  {
   "cell_type": "code",
   "execution_count": 25,
   "id": "56eb12f8",
   "metadata": {
    "execution": {
     "iopub.execute_input": "2022-11-26T15:14:35.638053Z",
     "iopub.status.busy": "2022-11-26T15:14:35.637342Z",
     "iopub.status.idle": "2022-11-26T15:14:35.643538Z",
     "shell.execute_reply": "2022-11-26T15:14:35.642486Z"
    },
    "papermill": {
     "duration": 0.034141,
     "end_time": "2022-11-26T15:14:35.645771",
     "exception": false,
     "start_time": "2022-11-26T15:14:35.611630",
     "status": "completed"
    },
    "tags": []
   },
   "outputs": [
    {
     "name": "stdout",
     "output_type": "stream",
     "text": [
      "This is the shape of case1 column :  (15699,)\n",
      "This is the shape of case2 column :  (15699,)\n"
     ]
    }
   ],
   "source": [
    "print(\"This is the shape of case1 column : \", data[\"No_of_cases1\"].shape)\n",
    "print(\"This is the shape of case2 column : \", data[\"No_of_cases2\"].shape)\n"
   ]
  },
  {
   "cell_type": "code",
   "execution_count": 26,
   "id": "5c4e8873",
   "metadata": {
    "execution": {
     "iopub.execute_input": "2022-11-26T15:14:35.697909Z",
     "iopub.status.busy": "2022-11-26T15:14:35.696823Z",
     "iopub.status.idle": "2022-11-26T15:14:35.704767Z",
     "shell.execute_reply": "2022-11-26T15:14:35.703965Z"
    },
    "papermill": {
     "duration": 0.035725,
     "end_time": "2022-11-26T15:14:35.706702",
     "exception": false,
     "start_time": "2022-11-26T15:14:35.670977",
     "status": "completed"
    },
    "tags": []
   },
   "outputs": [
    {
     "data": {
      "text/plain": [
       "0            0\n",
       "1            1\n",
       "2            2\n",
       "3            3\n",
       "4            4\n",
       "         ...  \n",
       "15694    15694\n",
       "15695    15695\n",
       "15696    15696\n",
       "15697    15697\n",
       "15698    15698\n",
       "Length: 15699, dtype: int64"
      ]
     },
     "execution_count": 26,
     "metadata": {},
     "output_type": "execute_result"
    }
   ],
   "source": [
    "# we can create a series that from the size above. After creating that, we use it to plot our scatter plots\n",
    "series=pd.Series(range(15699))\n",
    "series"
   ]
  },
  {
   "cell_type": "markdown",
   "id": "787e6f78",
   "metadata": {
    "papermill": {
     "duration": 0.025272,
     "end_time": "2022-11-26T15:14:35.756720",
     "exception": false,
     "start_time": "2022-11-26T15:14:35.731448",
     "status": "completed"
    },
    "tags": []
   },
   "source": [
    " <h1 style=\"color:blue\"; font-size:100%\">INSPECT DATA:</h1> \n",
    "    \n",
    " <h2 style=\"color:blue; font-size:150%\">We create and join two scattered plots for the numbers of case 1 and 2 using the series(having a range 15699) we created above :</h2>"
   ]
  },
  {
   "cell_type": "code",
   "execution_count": 27,
   "id": "ab5522c6",
   "metadata": {
    "execution": {
     "iopub.execute_input": "2022-11-26T15:14:35.809294Z",
     "iopub.status.busy": "2022-11-26T15:14:35.808508Z",
     "iopub.status.idle": "2022-11-26T15:14:36.407900Z",
     "shell.execute_reply": "2022-11-26T15:14:36.406786Z"
    },
    "papermill": {
     "duration": 0.628292,
     "end_time": "2022-11-26T15:14:36.410474",
     "exception": false,
     "start_time": "2022-11-26T15:14:35.782182",
     "status": "completed"
    },
    "tags": []
   },
   "outputs": [
    {
     "data": {
      "text/plain": [
       "Text(0, 0.5, 'No of Cases(1 & 2)')"
      ]
     },
     "execution_count": 27,
     "metadata": {},
     "output_type": "execute_result"
    },
    {
     "data": {
      "image/png": "[encoded data removed]",
      "text/plain": [
       "<Figure size 720x720 with 1 Axes>"
      ]
     },
     "metadata": {
      "needs_background": "light"
     },
     "output_type": "display_data"
    }
   ],
   "source": [
    "fig=plt.figure(figsize=(10,10))\n",
    "ax1 = fig.add_subplot(111)\n",
    "ax1.scatter(data[\"No_of_cases1\"], series, label=\"No_of_cases1\")\n",
    "ax1.scatter(data[\"No_of_cases2\"], series, label=\"No_of_cases2\")\n",
    "plt.title(\"Scatter plot combining case 1 & 2\", fontsize=18, color=\"red\")\n",
    "plt.legend()\n",
    "plt.xlabel(\"Series(0 - 15699)\", color=\"red\", fontsize=15)\n",
    "plt.ylabel(\"No of Cases(1 & 2)\", color=\"red\", fontsize=15)"
   ]
  },
  {
   "cell_type": "markdown",
   "id": "659834b7",
   "metadata": {
    "papermill": {
     "duration": 0.026699,
     "end_time": "2022-11-26T15:14:36.462689",
     "exception": false,
     "start_time": "2022-11-26T15:14:36.435990",
     "status": "completed"
    },
    "tags": []
   },
   "source": [
    "<div style=\"color:white;\n",
    "           display:fill;\n",
    "           border-radius:5px;\n",
    "           background-color:red;\n",
    "           font-size:110%;\n",
    "           font-family:Verdana;\n",
    "           letter-spacing:0.5px\">\n",
    "\n",
    "<p style=\"padding: 10px;\n",
    "              color:white;\">    Insight: Most of the values are densely concentrated at 0(because, when a value is filled in case1, case2 is omitted and vice versa). Secondly, most values filled  were in column case2. And lastly, the values are roughly concentrated between 0 to 75000. \n",
    "</p>\n",
    "</div>\n"
   ]
  },
  {
   "cell_type": "code",
   "execution_count": 28,
   "id": "c53041d9",
   "metadata": {
    "execution": {
     "iopub.execute_input": "2022-11-26T15:14:36.517587Z",
     "iopub.status.busy": "2022-11-26T15:14:36.516321Z",
     "iopub.status.idle": "2022-11-26T15:14:36.528248Z",
     "shell.execute_reply": "2022-11-26T15:14:36.527166Z"
    },
    "papermill": {
     "duration": 0.04249,
     "end_time": "2022-11-26T15:14:36.530943",
     "exception": false,
     "start_time": "2022-11-26T15:14:36.488453",
     "status": "completed"
    },
    "tags": []
   },
   "outputs": [
    {
     "name": "stdout",
     "output_type": "stream",
     "text": [
      "The shape of the data is:  (0, 7)\n",
      "The correlation is:  -0.003298354393237935 \n",
      " and we can see we have no correlation \n"
     ]
    }
   ],
   "source": [
    "#Check for correllation\n",
    "check=data[((data[\"No_of_cases1\"]==\"Empty\") & (data[\"No_of_cases2\"]==\"Empty\"))]\n",
    "print(\"The shape of the data is: \", check.shape)\n",
    "col1, col2=data[\"No_of_cases1\"], data[\"No_of_cases2\"]\n",
    "col=col1.corr(col2)\n",
    "print(\"The correlation is: \" , col, \"\\n and we can see we have no correlation \")\n",
    "\n"
   ]
  },
  {
   "cell_type": "markdown",
   "id": "292ec0d9",
   "metadata": {
    "papermill": {
     "duration": 0.025151,
     "end_time": "2022-11-26T15:14:36.583065",
     "exception": false,
     "start_time": "2022-11-26T15:14:36.557914",
     "status": "completed"
    },
    "tags": []
   },
   "source": [
    "<div style=\"color:white;\n",
    "           display:fill;\n",
    "           border-radius:5px;\n",
    "           background-color:red;\n",
    "           font-size:110%;\n",
    "           font-family:Verdana;\n",
    "           letter-spacing:0.5px\">\n",
    "\n",
    "<p style=\"padding: 10px;\n",
    "              color:white;\">    Insight: \n",
    "we can see that there is no instance where we had both columns for cases empty. Therefore, we will form a new column that will join columns for case1 and case2 and deleting the cells 0 values. We use the mask() function to achieve this\n",
    "</p>\n",
    "</div>\n"
   ]
  },
  {
   "cell_type": "code",
   "execution_count": 29,
   "id": "f84c7dfd",
   "metadata": {
    "execution": {
     "iopub.execute_input": "2022-11-26T15:14:36.636924Z",
     "iopub.status.busy": "2022-11-26T15:14:36.636285Z",
     "iopub.status.idle": "2022-11-26T15:14:36.659315Z",
     "shell.execute_reply": "2022-11-26T15:14:36.658074Z"
    },
    "papermill": {
     "duration": 0.053344,
     "end_time": "2022-11-26T15:14:36.662065",
     "exception": false,
     "start_time": "2022-11-26T15:14:36.608721",
     "status": "completed"
    },
    "tags": []
   },
   "outputs": [
    {
     "data": {
      "text/html": [
       "<div>\n",
       "<style scoped>\n",
       "    .dataframe tbody tr th:only-of-type {\n",
       "        vertical-align: middle;\n",
       "    }\n",
       "\n",
       "    .dataframe tbody tr th {\n",
       "        vertical-align: top;\n",
       "    }\n",
       "\n",
       "    .dataframe thead th {\n",
       "        text-align: right;\n",
       "    }\n",
       "</style>\n",
       "<table border=\"1\" class=\"dataframe\">\n",
       "  <thead>\n",
       "    <tr style=\"text-align: right;\">\n",
       "      <th></th>\n",
       "      <th>Year</th>\n",
       "      <th>County</th>\n",
       "      <th>Hospital</th>\n",
       "      <th>Surgery</th>\n",
       "      <th>No_of_cases1</th>\n",
       "      <th>No_of_cases2</th>\n",
       "      <th>OSHPDID</th>\n",
       "    </tr>\n",
       "  </thead>\n",
       "  <tbody>\n",
       "    <tr>\n",
       "      <th>0</th>\n",
       "      <td>2013</td>\n",
       "      <td>State</td>\n",
       "      <td>Statewide</td>\n",
       "      <td>Colon</td>\n",
       "      <td>7128.0</td>\n",
       "      <td>0.0</td>\n",
       "      <td>105687003.0</td>\n",
       "    </tr>\n",
       "    <tr>\n",
       "      <th>1</th>\n",
       "      <td>2013</td>\n",
       "      <td>State</td>\n",
       "      <td>Statewide</td>\n",
       "      <td>Bladder</td>\n",
       "      <td>892.0</td>\n",
       "      <td>0.0</td>\n",
       "      <td>105687003.0</td>\n",
       "    </tr>\n",
       "    <tr>\n",
       "      <th>2</th>\n",
       "      <td>2013</td>\n",
       "      <td>State</td>\n",
       "      <td>Statewide</td>\n",
       "      <td>Rectum</td>\n",
       "      <td>2128.0</td>\n",
       "      <td>0.0</td>\n",
       "      <td>105687003.0</td>\n",
       "    </tr>\n",
       "    <tr>\n",
       "      <th>3</th>\n",
       "      <td>2013</td>\n",
       "      <td>State</td>\n",
       "      <td>Statewide</td>\n",
       "      <td>Breast</td>\n",
       "      <td>25829.0</td>\n",
       "      <td>0.0</td>\n",
       "      <td>105687003.0</td>\n",
       "    </tr>\n",
       "    <tr>\n",
       "      <th>4</th>\n",
       "      <td>2013</td>\n",
       "      <td>State</td>\n",
       "      <td>Statewide</td>\n",
       "      <td>Brain</td>\n",
       "      <td>2719.0</td>\n",
       "      <td>0.0</td>\n",
       "      <td>105687003.0</td>\n",
       "    </tr>\n",
       "    <tr>\n",
       "      <th>...</th>\n",
       "      <td>...</td>\n",
       "      <td>...</td>\n",
       "      <td>...</td>\n",
       "      <td>...</td>\n",
       "      <td>...</td>\n",
       "      <td>...</td>\n",
       "      <td>...</td>\n",
       "    </tr>\n",
       "    <tr>\n",
       "      <th>15694</th>\n",
       "      <td>2020</td>\n",
       "      <td>Yuba</td>\n",
       "      <td>Adventist Health and Rideout</td>\n",
       "      <td>Rectum</td>\n",
       "      <td>6.0</td>\n",
       "      <td>6.0</td>\n",
       "      <td>106580996.0</td>\n",
       "    </tr>\n",
       "    <tr>\n",
       "      <th>15695</th>\n",
       "      <td>2020</td>\n",
       "      <td>Yuba</td>\n",
       "      <td>Adventist Health and Rideout</td>\n",
       "      <td>Prostate</td>\n",
       "      <td>5.0</td>\n",
       "      <td>5.0</td>\n",
       "      <td>106580996.0</td>\n",
       "    </tr>\n",
       "    <tr>\n",
       "      <th>15696</th>\n",
       "      <td>2020</td>\n",
       "      <td>Yuba</td>\n",
       "      <td>Adventist Health and Rideout</td>\n",
       "      <td>Lung</td>\n",
       "      <td>8.0</td>\n",
       "      <td>8.0</td>\n",
       "      <td>106580996.0</td>\n",
       "    </tr>\n",
       "    <tr>\n",
       "      <th>15697</th>\n",
       "      <td>2020</td>\n",
       "      <td>Yuba</td>\n",
       "      <td>Adventist Health and Rideout</td>\n",
       "      <td>Colon</td>\n",
       "      <td>20.0</td>\n",
       "      <td>20.0</td>\n",
       "      <td>106580996.0</td>\n",
       "    </tr>\n",
       "    <tr>\n",
       "      <th>15698</th>\n",
       "      <td>2020</td>\n",
       "      <td>Yuba</td>\n",
       "      <td>Adventist Health and Rideout</td>\n",
       "      <td>Breast</td>\n",
       "      <td>25.0</td>\n",
       "      <td>25.0</td>\n",
       "      <td>106580996.0</td>\n",
       "    </tr>\n",
       "  </tbody>\n",
       "</table>\n",
       "<p>15699 rows × 7 columns</p>\n",
       "</div>"
      ],
      "text/plain": [
       "       Year County                      Hospital   Surgery  No_of_cases1  \\\n",
       "0      2013  State                     Statewide     Colon        7128.0   \n",
       "1      2013  State                     Statewide   Bladder         892.0   \n",
       "2      2013  State                     Statewide    Rectum        2128.0   \n",
       "3      2013  State                     Statewide    Breast       25829.0   \n",
       "4      2013  State                     Statewide     Brain        2719.0   \n",
       "...     ...    ...                           ...       ...           ...   \n",
       "15694  2020   Yuba  Adventist Health and Rideout    Rectum           6.0   \n",
       "15695  2020   Yuba  Adventist Health and Rideout  Prostate           5.0   \n",
       "15696  2020   Yuba  Adventist Health and Rideout      Lung           8.0   \n",
       "15697  2020   Yuba  Adventist Health and Rideout     Colon          20.0   \n",
       "15698  2020   Yuba  Adventist Health and Rideout    Breast          25.0   \n",
       "\n",
       "       No_of_cases2      OSHPDID  \n",
       "0               0.0  105687003.0  \n",
       "1               0.0  105687003.0  \n",
       "2               0.0  105687003.0  \n",
       "3               0.0  105687003.0  \n",
       "4               0.0  105687003.0  \n",
       "...             ...          ...  \n",
       "15694           6.0  106580996.0  \n",
       "15695           5.0  106580996.0  \n",
       "15696           8.0  106580996.0  \n",
       "15697          20.0  106580996.0  \n",
       "15698          25.0  106580996.0  \n",
       "\n",
       "[15699 rows x 7 columns]"
      ]
     },
     "execution_count": 29,
     "metadata": {},
     "output_type": "execute_result"
    }
   ],
   "source": [
    "# Using mask()\n",
    "data[\"No_of_cases1\"].mask(data[\"No_of_cases1\"]==0, data[\"No_of_cases2\"], inplace=True)\n",
    "data"
   ]
  },
  {
   "cell_type": "code",
   "execution_count": 30,
   "id": "deef4233",
   "metadata": {
    "execution": {
     "iopub.execute_input": "2022-11-26T15:14:36.717289Z",
     "iopub.status.busy": "2022-11-26T15:14:36.716892Z",
     "iopub.status.idle": "2022-11-26T15:14:36.737136Z",
     "shell.execute_reply": "2022-11-26T15:14:36.736257Z"
    },
    "papermill": {
     "duration": 0.04996,
     "end_time": "2022-11-26T15:14:36.739304",
     "exception": false,
     "start_time": "2022-11-26T15:14:36.689344",
     "status": "completed"
    },
    "tags": []
   },
   "outputs": [
    {
     "data": {
      "text/html": [
       "<div>\n",
       "<style scoped>\n",
       "    .dataframe tbody tr th:only-of-type {\n",
       "        vertical-align: middle;\n",
       "    }\n",
       "\n",
       "    .dataframe tbody tr th {\n",
       "        vertical-align: top;\n",
       "    }\n",
       "\n",
       "    .dataframe thead th {\n",
       "        text-align: right;\n",
       "    }\n",
       "</style>\n",
       "<table border=\"1\" class=\"dataframe\">\n",
       "  <thead>\n",
       "    <tr style=\"text-align: right;\">\n",
       "      <th></th>\n",
       "      <th>Year</th>\n",
       "      <th>County</th>\n",
       "      <th>Hospital</th>\n",
       "      <th>Surgery</th>\n",
       "      <th>No_of_cases1</th>\n",
       "      <th>OSHPDID</th>\n",
       "    </tr>\n",
       "  </thead>\n",
       "  <tbody>\n",
       "    <tr>\n",
       "      <th>0</th>\n",
       "      <td>2013</td>\n",
       "      <td>State</td>\n",
       "      <td>Statewide</td>\n",
       "      <td>Colon</td>\n",
       "      <td>7128.0</td>\n",
       "      <td>105687003.0</td>\n",
       "    </tr>\n",
       "    <tr>\n",
       "      <th>1</th>\n",
       "      <td>2013</td>\n",
       "      <td>State</td>\n",
       "      <td>Statewide</td>\n",
       "      <td>Bladder</td>\n",
       "      <td>892.0</td>\n",
       "      <td>105687003.0</td>\n",
       "    </tr>\n",
       "    <tr>\n",
       "      <th>2</th>\n",
       "      <td>2013</td>\n",
       "      <td>State</td>\n",
       "      <td>Statewide</td>\n",
       "      <td>Rectum</td>\n",
       "      <td>2128.0</td>\n",
       "      <td>105687003.0</td>\n",
       "    </tr>\n",
       "    <tr>\n",
       "      <th>3</th>\n",
       "      <td>2013</td>\n",
       "      <td>State</td>\n",
       "      <td>Statewide</td>\n",
       "      <td>Breast</td>\n",
       "      <td>25829.0</td>\n",
       "      <td>105687003.0</td>\n",
       "    </tr>\n",
       "    <tr>\n",
       "      <th>4</th>\n",
       "      <td>2013</td>\n",
       "      <td>State</td>\n",
       "      <td>Statewide</td>\n",
       "      <td>Brain</td>\n",
       "      <td>2719.0</td>\n",
       "      <td>105687003.0</td>\n",
       "    </tr>\n",
       "    <tr>\n",
       "      <th>...</th>\n",
       "      <td>...</td>\n",
       "      <td>...</td>\n",
       "      <td>...</td>\n",
       "      <td>...</td>\n",
       "      <td>...</td>\n",
       "      <td>...</td>\n",
       "    </tr>\n",
       "    <tr>\n",
       "      <th>15694</th>\n",
       "      <td>2020</td>\n",
       "      <td>Yuba</td>\n",
       "      <td>Adventist Health and Rideout</td>\n",
       "      <td>Rectum</td>\n",
       "      <td>6.0</td>\n",
       "      <td>106580996.0</td>\n",
       "    </tr>\n",
       "    <tr>\n",
       "      <th>15695</th>\n",
       "      <td>2020</td>\n",
       "      <td>Yuba</td>\n",
       "      <td>Adventist Health and Rideout</td>\n",
       "      <td>Prostate</td>\n",
       "      <td>5.0</td>\n",
       "      <td>106580996.0</td>\n",
       "    </tr>\n",
       "    <tr>\n",
       "      <th>15696</th>\n",
       "      <td>2020</td>\n",
       "      <td>Yuba</td>\n",
       "      <td>Adventist Health and Rideout</td>\n",
       "      <td>Lung</td>\n",
       "      <td>8.0</td>\n",
       "      <td>106580996.0</td>\n",
       "    </tr>\n",
       "    <tr>\n",
       "      <th>15697</th>\n",
       "      <td>2020</td>\n",
       "      <td>Yuba</td>\n",
       "      <td>Adventist Health and Rideout</td>\n",
       "      <td>Colon</td>\n",
       "      <td>20.0</td>\n",
       "      <td>106580996.0</td>\n",
       "    </tr>\n",
       "    <tr>\n",
       "      <th>15698</th>\n",
       "      <td>2020</td>\n",
       "      <td>Yuba</td>\n",
       "      <td>Adventist Health and Rideout</td>\n",
       "      <td>Breast</td>\n",
       "      <td>25.0</td>\n",
       "      <td>106580996.0</td>\n",
       "    </tr>\n",
       "  </tbody>\n",
       "</table>\n",
       "<p>15699 rows × 6 columns</p>\n",
       "</div>"
      ],
      "text/plain": [
       "       Year County                      Hospital   Surgery  No_of_cases1  \\\n",
       "0      2013  State                     Statewide     Colon        7128.0   \n",
       "1      2013  State                     Statewide   Bladder         892.0   \n",
       "2      2013  State                     Statewide    Rectum        2128.0   \n",
       "3      2013  State                     Statewide    Breast       25829.0   \n",
       "4      2013  State                     Statewide     Brain        2719.0   \n",
       "...     ...    ...                           ...       ...           ...   \n",
       "15694  2020   Yuba  Adventist Health and Rideout    Rectum           6.0   \n",
       "15695  2020   Yuba  Adventist Health and Rideout  Prostate           5.0   \n",
       "15696  2020   Yuba  Adventist Health and Rideout      Lung           8.0   \n",
       "15697  2020   Yuba  Adventist Health and Rideout     Colon          20.0   \n",
       "15698  2020   Yuba  Adventist Health and Rideout    Breast          25.0   \n",
       "\n",
       "           OSHPDID  \n",
       "0      105687003.0  \n",
       "1      105687003.0  \n",
       "2      105687003.0  \n",
       "3      105687003.0  \n",
       "4      105687003.0  \n",
       "...            ...  \n",
       "15694  106580996.0  \n",
       "15695  106580996.0  \n",
       "15696  106580996.0  \n",
       "15697  106580996.0  \n",
       "15698  106580996.0  \n",
       "\n",
       "[15699 rows x 6 columns]"
      ]
     },
     "execution_count": 30,
     "metadata": {},
     "output_type": "execute_result"
    }
   ],
   "source": [
    "# [\"No_of_cases1\"] is filled up, so we drop the [\"No_of_cases\"]\n",
    "data=data.drop([\"No_of_cases2\"], axis=1)\n",
    "data"
   ]
  },
  {
   "cell_type": "code",
   "execution_count": 31,
   "id": "24c4d82c",
   "metadata": {
    "execution": {
     "iopub.execute_input": "2022-11-26T15:14:36.794414Z",
     "iopub.status.busy": "2022-11-26T15:14:36.793699Z",
     "iopub.status.idle": "2022-11-26T15:14:36.805120Z",
     "shell.execute_reply": "2022-11-26T15:14:36.804078Z"
    },
    "papermill": {
     "duration": 0.041529,
     "end_time": "2022-11-26T15:14:36.807285",
     "exception": false,
     "start_time": "2022-11-26T15:14:36.765756",
     "status": "completed"
    },
    "tags": []
   },
   "outputs": [
    {
     "data": {
      "text/plain": [
       "Year            0\n",
       "County          0\n",
       "Hospital        0\n",
       "Surgery         0\n",
       "No_of_cases1    0\n",
       "OSHPDID         0\n",
       "dtype: int64"
      ]
     },
     "execution_count": 31,
     "metadata": {},
     "output_type": "execute_result"
    }
   ],
   "source": [
    "# recheck for null values\n",
    "data.isnull().sum()"
   ]
  },
  {
   "cell_type": "markdown",
   "id": "1739effb",
   "metadata": {
    "papermill": {
     "duration": 0.026094,
     "end_time": "2022-11-26T15:14:36.859932",
     "exception": false,
     "start_time": "2022-11-26T15:14:36.833838",
     "status": "completed"
    },
    "tags": []
   },
   "source": [
    "<h1 style=\"color:blue\"; font-size:100%\">CREATE HEATMAP</h1> \n"
   ]
  },
  {
   "cell_type": "code",
   "execution_count": 32,
   "id": "cfd815a8",
   "metadata": {
    "execution": {
     "iopub.execute_input": "2022-11-26T15:14:36.914871Z",
     "iopub.status.busy": "2022-11-26T15:14:36.914452Z",
     "iopub.status.idle": "2022-11-26T15:14:36.935614Z",
     "shell.execute_reply": "2022-11-26T15:14:36.934514Z"
    },
    "papermill": {
     "duration": 0.051582,
     "end_time": "2022-11-26T15:14:36.937979",
     "exception": false,
     "start_time": "2022-11-26T15:14:36.886397",
     "status": "completed"
    },
    "tags": []
   },
   "outputs": [
    {
     "data": {
      "text/html": [
       "<div>\n",
       "<style scoped>\n",
       "    .dataframe tbody tr th:only-of-type {\n",
       "        vertical-align: middle;\n",
       "    }\n",
       "\n",
       "    .dataframe tbody tr th {\n",
       "        vertical-align: top;\n",
       "    }\n",
       "\n",
       "    .dataframe thead th {\n",
       "        text-align: right;\n",
       "    }\n",
       "</style>\n",
       "<table border=\"1\" class=\"dataframe\">\n",
       "  <thead>\n",
       "    <tr style=\"text-align: right;\">\n",
       "      <th>Year</th>\n",
       "      <th>2013</th>\n",
       "      <th>2014</th>\n",
       "      <th>2015</th>\n",
       "      <th>2016</th>\n",
       "      <th>2017</th>\n",
       "      <th>2018</th>\n",
       "      <th>2019</th>\n",
       "      <th>2020</th>\n",
       "    </tr>\n",
       "    <tr>\n",
       "      <th>Surgery</th>\n",
       "      <th></th>\n",
       "      <th></th>\n",
       "      <th></th>\n",
       "      <th></th>\n",
       "      <th></th>\n",
       "      <th></th>\n",
       "      <th></th>\n",
       "      <th></th>\n",
       "    </tr>\n",
       "  </thead>\n",
       "  <tbody>\n",
       "    <tr>\n",
       "      <th>Bladder</th>\n",
       "      <td>132</td>\n",
       "      <td>125</td>\n",
       "      <td>102</td>\n",
       "      <td>134</td>\n",
       "      <td>125</td>\n",
       "      <td>117</td>\n",
       "      <td>105</td>\n",
       "      <td>112</td>\n",
       "    </tr>\n",
       "    <tr>\n",
       "      <th>Brain</th>\n",
       "      <td>143</td>\n",
       "      <td>139</td>\n",
       "      <td>138</td>\n",
       "      <td>141</td>\n",
       "      <td>135</td>\n",
       "      <td>140</td>\n",
       "      <td>143</td>\n",
       "      <td>135</td>\n",
       "    </tr>\n",
       "    <tr>\n",
       "      <th>Breast</th>\n",
       "      <td>292</td>\n",
       "      <td>299</td>\n",
       "      <td>287</td>\n",
       "      <td>286</td>\n",
       "      <td>285</td>\n",
       "      <td>282</td>\n",
       "      <td>282</td>\n",
       "      <td>267</td>\n",
       "    </tr>\n",
       "    <tr>\n",
       "      <th>Colon</th>\n",
       "      <td>298</td>\n",
       "      <td>303</td>\n",
       "      <td>286</td>\n",
       "      <td>294</td>\n",
       "      <td>290</td>\n",
       "      <td>288</td>\n",
       "      <td>286</td>\n",
       "      <td>280</td>\n",
       "    </tr>\n",
       "    <tr>\n",
       "      <th>Esophagus</th>\n",
       "      <td>83</td>\n",
       "      <td>85</td>\n",
       "      <td>66</td>\n",
       "      <td>88</td>\n",
       "      <td>82</td>\n",
       "      <td>73</td>\n",
       "      <td>84</td>\n",
       "      <td>77</td>\n",
       "    </tr>\n",
       "    <tr>\n",
       "      <th>Liver</th>\n",
       "      <td>112</td>\n",
       "      <td>107</td>\n",
       "      <td>93</td>\n",
       "      <td>168</td>\n",
       "      <td>165</td>\n",
       "      <td>153</td>\n",
       "      <td>152</td>\n",
       "      <td>141</td>\n",
       "    </tr>\n",
       "    <tr>\n",
       "      <th>Lung</th>\n",
       "      <td>187</td>\n",
       "      <td>194</td>\n",
       "      <td>183</td>\n",
       "      <td>173</td>\n",
       "      <td>167</td>\n",
       "      <td>172</td>\n",
       "      <td>159</td>\n",
       "      <td>154</td>\n",
       "    </tr>\n",
       "    <tr>\n",
       "      <th>Pancreas</th>\n",
       "      <td>99</td>\n",
       "      <td>111</td>\n",
       "      <td>95</td>\n",
       "      <td>140</td>\n",
       "      <td>132</td>\n",
       "      <td>120</td>\n",
       "      <td>125</td>\n",
       "      <td>126</td>\n",
       "    </tr>\n",
       "    <tr>\n",
       "      <th>Prostate</th>\n",
       "      <td>173</td>\n",
       "      <td>171</td>\n",
       "      <td>149</td>\n",
       "      <td>207</td>\n",
       "      <td>204</td>\n",
       "      <td>196</td>\n",
       "      <td>186</td>\n",
       "      <td>189</td>\n",
       "    </tr>\n",
       "    <tr>\n",
       "      <th>Rectum</th>\n",
       "      <td>231</td>\n",
       "      <td>251</td>\n",
       "      <td>228</td>\n",
       "      <td>263</td>\n",
       "      <td>258</td>\n",
       "      <td>256</td>\n",
       "      <td>258</td>\n",
       "      <td>249</td>\n",
       "    </tr>\n",
       "    <tr>\n",
       "      <th>Stomach</th>\n",
       "      <td>204</td>\n",
       "      <td>190</td>\n",
       "      <td>173</td>\n",
       "      <td>193</td>\n",
       "      <td>182</td>\n",
       "      <td>184</td>\n",
       "      <td>181</td>\n",
       "      <td>186</td>\n",
       "    </tr>\n",
       "  </tbody>\n",
       "</table>\n",
       "</div>"
      ],
      "text/plain": [
       "Year       2013  2014  2015  2016  2017  2018  2019  2020\n",
       "Surgery                                                  \n",
       "Bladder     132   125   102   134   125   117   105   112\n",
       "Brain       143   139   138   141   135   140   143   135\n",
       "Breast      292   299   287   286   285   282   282   267\n",
       "Colon       298   303   286   294   290   288   286   280\n",
       "Esophagus    83    85    66    88    82    73    84    77\n",
       "Liver       112   107    93   168   165   153   152   141\n",
       "Lung        187   194   183   173   167   172   159   154\n",
       "Pancreas     99   111    95   140   132   120   125   126\n",
       "Prostate    173   171   149   207   204   196   186   189\n",
       "Rectum      231   251   228   263   258   256   258   249\n",
       "Stomach     204   190   173   193   182   184   181   186"
      ]
     },
     "execution_count": 32,
     "metadata": {},
     "output_type": "execute_result"
    }
   ],
   "source": [
    "heatmap1=data.groupby(\"Surgery\").Year.value_counts().unstack()\n",
    "heatmap1"
   ]
  },
  {
   "cell_type": "code",
   "execution_count": 33,
   "id": "4b5051ba",
   "metadata": {
    "execution": {
     "iopub.execute_input": "2022-11-26T15:14:36.993757Z",
     "iopub.status.busy": "2022-11-26T15:14:36.992609Z",
     "iopub.status.idle": "2022-11-26T15:14:37.051470Z",
     "shell.execute_reply": "2022-11-26T15:14:37.050601Z"
    },
    "papermill": {
     "duration": 0.089201,
     "end_time": "2022-11-26T15:14:37.054014",
     "exception": false,
     "start_time": "2022-11-26T15:14:36.964813",
     "status": "completed"
    },
    "tags": []
   },
   "outputs": [
    {
     "data": {
      "application/vnd.plotly.v1+json": {
       "config": {
        "plotlyServerURL": "https://plot.ly"
       },
       "data": [
        {
         "coloraxis": "coloraxis",
         "hovertemplate": "Year: %{x}<br>Surgery: %{y}<br>color: %{z}<extra></extra>",
         "name": "0",
         "texttemplate": "%{z}",
         "type": "heatmap",
         "x": [
          2013,
          2014,
          2015,
          2016,
          2017,
          2018,
          2019,
          2020
         ],
         "xaxis": "x",
         "y": [
          "Bladder",
          "Brain",
          "Breast",
          "Colon",
          "Esophagus",
          "Liver",
          "Lung",
          "Pancreas",
          "Prostate",
          "Rectum",
          "Stomach"
         ],
         "yaxis": "y",
         "z": [
          [
           132,
           125,
           102,
           134,
           125,
           117,
           105,
           112
          ],
          [
           143,
           139,
           138,
           141,
           135,
           140,
           143,
           135
          ],
          [
           292,
           299,
           287,
           286,
           285,
           282,
           282,
           267
          ],
          [
           298,
           303,
           286,
           294,
           290,
           288,
           286,
           280
          ],
          [
           83,
           85,
           66,
           88,
           82,
           73,
           84,
           77
          ],
          [
           112,
           107,
           93,
           168,
           165,
           153,
           152,
           141
          ],
          [
           187,
           194,
           183,
           173,
           167,
           172,
           159,
           154
          ],
          [
           99,
           111,
           95,
           140,
           132,
           120,
           125,
           126
          ],
          [
           173,
           171,
           149,
           207,
           204,
           196,
           186,
           189
          ],
          [
           231,
           251,
           228,
           263,
           258,
           256,
           258,
           249
          ],
          [
           204,
           190,
           173,
           193,
           182,
           184,
           181,
           186
          ]
         ]
        }
       ],
       "layout": {
        "coloraxis": {
         "colorscale": [
          [
           0.0,
           "#0d0887"
          ],
          [
           0.1111111111111111,
           "#46039f"
          ],
          [
           0.2222222222222222,
           "#7201a8"
          ],
          [
           0.3333333333333333,
           "#9c179e"
          ],
          [
           0.4444444444444444,
           "#bd3786"
          ],
          [
           0.5555555555555556,
           "#d8576b"
          ],
          [
           0.6666666666666666,
           "#ed7953"
          ],
          [
           0.7777777777777778,
           "#fb9f3a"
          ],
          [
           0.8888888888888888,
           "#fdca26"
          ],
          [
           1.0,
           "#f0f921"
          ]
         ]
        },
        "margin": {
         "t": 60
        },
        "template": {
         "data": {
          "bar": [
           {
            "error_x": {
             "color": "#2a3f5f"
            },
            "error_y": {
             "color": "#2a3f5f"
            },
            "marker": {
             "line": {
              "color": "#E5ECF6",
              "width": 0.5
             },
             "pattern": {
              "fillmode": "overlay",
              "size": 10,
              "solidity": 0.2
             }
            },
            "type": "bar"
           }
          ],
          "barpolar": [
           {
            "marker": {
             "line": {
              "color": "#E5ECF6",
              "width": 0.5
             },
             "pattern": {
              "fillmode": "overlay",
              "size": 10,
              "solidity": 0.2
             }
            },
            "type": "barpolar"
           }
          ],
          "carpet": [
           {
            "aaxis": {
             "endlinecolor": "#2a3f5f",
             "gridcolor": "white",
             "linecolor": "white",
             "minorgridcolor": "white",
             "startlinecolor": "#2a3f5f"
            },
            "baxis": {
             "endlinecolor": "#2a3f5f",
             "gridcolor": "white",
             "linecolor": "white",
             "minorgridcolor": "white",
             "startlinecolor": "#2a3f5f"
            },
            "type": "carpet"
           }
          ],
          "choropleth": [
           {
            "colorbar": {
             "outlinewidth": 0,
             "ticks": ""
            },
            "type": "choropleth"
           }
          ],
          "contour": [
           {
            "colorbar": {
             "outlinewidth": 0,
             "ticks": ""
            },
            "colorscale": [
             [
              0.0,
              "#0d0887"
             ],
             [
              0.1111111111111111,
              "#46039f"
             ],
             [
              0.2222222222222222,
              "#7201a8"
             ],
             [
              0.3333333333333333,
              "#9c179e"
             ],
             [
              0.4444444444444444,
              "#bd3786"
             ],
             [
              0.5555555555555556,
              "#d8576b"
             ],
             [
              0.6666666666666666,
              "#ed7953"
             ],
             [
              0.7777777777777778,
              "#fb9f3a"
             ],
             [
              0.8888888888888888,
              "#fdca26"
             ],
             [
              1.0,
              "#f0f921"
             ]
            ],
            "type": "contour"
           }
          ],
          "contourcarpet": [
           {
            "colorbar": {
             "outlinewidth": 0,
             "ticks": ""
            },
            "type": "contourcarpet"
           }
          ],
          "heatmap": [
           {
            "colorbar": {
             "outlinewidth": 0,
             "ticks": ""
            },
            "colorscale": [
             [
              0.0,
              "#0d0887"
             ],
             [
              0.1111111111111111,
              "#46039f"
             ],
             [
              0.2222222222222222,
              "#7201a8"
             ],
             [
              0.3333333333333333,
              "#9c179e"
             ],
             [
              0.4444444444444444,
              "#bd3786"
             ],
             [
              0.5555555555555556,
              "#d8576b"
             ],
             [
              0.6666666666666666,
              "#ed7953"
             ],
             [
              0.7777777777777778,
              "#fb9f3a"
             ],
             [
              0.8888888888888888,
              "#fdca26"
             ],
             [
              1.0,
              "#f0f921"
             ]
            ],
            "type": "heatmap"
           }
          ],
          "heatmapgl": [
           {
            "colorbar": {
             "outlinewidth": 0,
             "ticks": ""
            },
            "colorscale": [
             [
              0.0,
              "#0d0887"
             ],
             [
              0.1111111111111111,
              "#46039f"
             ],
             [
              0.2222222222222222,
              "#7201a8"
             ],
             [
              0.3333333333333333,
              "#9c179e"
             ],
             [
              0.4444444444444444,
              "#bd3786"
             ],
             [
              0.5555555555555556,
              "#d8576b"
             ],
             [
              0.6666666666666666,
              "#ed7953"
             ],
             [
              0.7777777777777778,
              "#fb9f3a"
             ],
             [
              0.8888888888888888,
              "#fdca26"
             ],
             [
              1.0,
              "#f0f921"
             ]
            ],
            "type": "heatmapgl"
           }
          ],
          "histogram": [
           {
            "marker": {
             "pattern": {
              "fillmode": "overlay",
              "size": 10,
              "solidity": 0.2
             }
            },
            "type": "histogram"
           }
          ],
          "histogram2d": [
           {
            "colorbar": {
             "outlinewidth": 0,
             "ticks": ""
            },
            "colorscale": [
             [
              0.0,
              "#0d0887"
             ],
             [
              0.1111111111111111,
              "#46039f"
             ],
             [
              0.2222222222222222,
              "#7201a8"
             ],
             [
              0.3333333333333333,
              "#9c179e"
             ],
             [
              0.4444444444444444,
              "#bd3786"
             ],
             [
              0.5555555555555556,
              "#d8576b"
             ],
             [
              0.6666666666666666,
              "#ed7953"
             ],
             [
              0.7777777777777778,
              "#fb9f3a"
             ],
             [
              0.8888888888888888,
              "#fdca26"
             ],
             [
              1.0,
              "#f0f921"
             ]
            ],
            "type": "histogram2d"
           }
          ],
          "histogram2dcontour": [
           {
            "colorbar": {
             "outlinewidth": 0,
             "ticks": ""
            },
            "colorscale": [
             [
              0.0,
              "#0d0887"
             ],
             [
              0.1111111111111111,
              "#46039f"
             ],
             [
              0.2222222222222222,
              "#7201a8"
             ],
             [
              0.3333333333333333,
              "#9c179e"
             ],
             [
              0.4444444444444444,
              "#bd3786"
             ],
             [
              0.5555555555555556,
              "#d8576b"
             ],
             [
              0.6666666666666666,
              "#ed7953"
             ],
             [
              0.7777777777777778,
              "#fb9f3a"
             ],
             [
              0.8888888888888888,
              "#fdca26"
             ],
             [
              1.0,
              "#f0f921"
             ]
            ],
            "type": "histogram2dcontour"
           }
          ],
          "mesh3d": [
           {
            "colorbar": {
             "outlinewidth": 0,
             "ticks": ""
            },
            "type": "mesh3d"
           }
          ],
          "parcoords": [
           {
            "line": {
             "colorbar": {
              "outlinewidth": 0,
              "ticks": ""
             }
            },
            "type": "parcoords"
           }
          ],
          "pie": [
           {
            "automargin": true,
            "type": "pie"
           }
          ],
          "scatter": [
           {
            "fillpattern": {
             "fillmode": "overlay",
             "size": 10,
             "solidity": 0.2
            },
            "type": "scatter"
           }
          ],
          "scatter3d": [
           {
            "line": {
             "colorbar": {
              "outlinewidth": 0,
              "ticks": ""
             }
            },
            "marker": {
             "colorbar": {
              "outlinewidth": 0,
              "ticks": ""
             }
            },
            "type": "scatter3d"
           }
          ],
          "scattercarpet": [
           {
            "marker": {
             "colorbar": {
              "outlinewidth": 0,
              "ticks": ""
             }
            },
            "type": "scattercarpet"
           }
          ],
          "scattergeo": [
           {
            "marker": {
             "colorbar": {
              "outlinewidth": 0,
              "ticks": ""
             }
            },
            "type": "scattergeo"
           }
          ],
          "scattergl": [
           {
            "marker": {
             "colorbar": {
              "outlinewidth": 0,
              "ticks": ""
             }
            },
            "type": "scattergl"
           }
          ],
          "scattermapbox": [
           {
            "marker": {
             "colorbar": {
              "outlinewidth": 0,
              "ticks": ""
             }
            },
            "type": "scattermapbox"
           }
          ],
          "scatterpolar": [
           {
            "marker": {
             "colorbar": {
              "outlinewidth": 0,
              "ticks": ""
             }
            },
            "type": "scatterpolar"
           }
          ],
          "scatterpolargl": [
           {
            "marker": {
             "colorbar": {
              "outlinewidth": 0,
              "ticks": ""
             }
            },
            "type": "scatterpolargl"
           }
          ],
          "scatterternary": [
           {
            "marker": {
             "colorbar": {
              "outlinewidth": 0,
              "ticks": ""
             }
            },
            "type": "scatterternary"
           }
          ],
          "surface": [
           {
            "colorbar": {
             "outlinewidth": 0,
             "ticks": ""
            },
            "colorscale": [
             [
              0.0,
              "#0d0887"
             ],
             [
              0.1111111111111111,
              "#46039f"
             ],
             [
              0.2222222222222222,
              "#7201a8"
             ],
             [
              0.3333333333333333,
              "#9c179e"
             ],
             [
              0.4444444444444444,
              "#bd3786"
             ],
             [
              0.5555555555555556,
              "#d8576b"
             ],
             [
              0.6666666666666666,
              "#ed7953"
             ],
             [
              0.7777777777777778,
              "#fb9f3a"
             ],
             [
              0.8888888888888888,
              "#fdca26"
             ],
             [
              1.0,
              "#f0f921"
             ]
            ],
            "type": "surface"
           }
          ],
          "table": [
           {
            "cells": {
             "fill": {
              "color": "#EBF0F8"
             },
             "line": {
              "color": "white"
             }
            },
            "header": {
             "fill": {
              "color": "#C8D4E3"
             },
             "line": {
              "color": "white"
             }
            },
            "type": "table"
           }
          ]
         },
         "layout": {
          "annotationdefaults": {
           "arrowcolor": "#2a3f5f",
           "arrowhead": 0,
           "arrowwidth": 1
          },
          "autotypenumbers": "strict",
          "coloraxis": {
           "colorbar": {
            "outlinewidth": 0,
            "ticks": ""
           }
          },
          "colorscale": {
           "diverging": [
            [
             0,
             "#8e0152"
            ],
            [
             0.1,
             "#c51b7d"
            ],
            [
             0.2,
             "#de77ae"
            ],
            [
             0.3,
             "#f1b6da"
            ],
            [
             0.4,
             "#fde0ef"
            ],
            [
             0.5,
             "#f7f7f7"
            ],
            [
             0.6,
             "#e6f5d0"
            ],
            [
             0.7,
             "#b8e186"
            ],
            [
             0.8,
             "#7fbc41"
            ],
            [
             0.9,
             "#4d9221"
            ],
            [
             1,
             "#276419"
            ]
           ],
           "sequential": [
            [
             0.0,
             "#0d0887"
            ],
            [
             0.1111111111111111,
             "#46039f"
            ],
            [
             0.2222222222222222,
             "#7201a8"
            ],
            [
             0.3333333333333333,
             "#9c179e"
            ],
            [
             0.4444444444444444,
             "#bd3786"
            ],
            [
             0.5555555555555556,
             "#d8576b"
            ],
            [
             0.6666666666666666,
             "#ed7953"
            ],
            [
             0.7777777777777778,
             "#fb9f3a"
            ],
            [
             0.8888888888888888,
             "#fdca26"
            ],
            [
             1.0,
             "#f0f921"
            ]
           ],
           "sequentialminus": [
            [
             0.0,
             "#0d0887"
            ],
            [
             0.1111111111111111,
             "#46039f"
            ],
            [
             0.2222222222222222,
             "#7201a8"
            ],
            [
             0.3333333333333333,
             "#9c179e"
            ],
            [
             0.4444444444444444,
             "#bd3786"
            ],
            [
             0.5555555555555556,
             "#d8576b"
            ],
            [
             0.6666666666666666,
             "#ed7953"
            ],
            [
             0.7777777777777778,
             "#fb9f3a"
            ],
            [
             0.8888888888888888,
             "#fdca26"
            ],
            [
             1.0,
             "#f0f921"
            ]
           ]
          },
          "colorway": [
           "#636efa",
           "#EF553B",
           "#00cc96",
           "#ab63fa",
           "#FFA15A",
           "#19d3f3",
           "#FF6692",
           "#B6E880",
           "#FF97FF",
           "#FECB52"
          ],
          "font": {
           "color": "#2a3f5f"
          },
          "geo": {
           "bgcolor": "white",
           "lakecolor": "white",
           "landcolor": "#E5ECF6",
           "showlakes": true,
           "showland": true,
           "subunitcolor": "white"
          },
          "hoverlabel": {
           "align": "left"
          },
          "hovermode": "closest",
          "mapbox": {
           "style": "light"
          },
          "paper_bgcolor": "white",
          "plot_bgcolor": "#E5ECF6",
          "polar": {
           "angularaxis": {
            "gridcolor": "white",
            "linecolor": "white",
            "ticks": ""
           },
           "bgcolor": "#E5ECF6",
           "radialaxis": {
            "gridcolor": "white",
            "linecolor": "white",
            "ticks": ""
           }
          },
          "scene": {
           "xaxis": {
            "backgroundcolor": "#E5ECF6",
            "gridcolor": "white",
            "gridwidth": 2,
            "linecolor": "white",
            "showbackground": true,
            "ticks": "",
            "zerolinecolor": "white"
           },
           "yaxis": {
            "backgroundcolor": "#E5ECF6",
            "gridcolor": "white",
            "gridwidth": 2,
            "linecolor": "white",
            "showbackground": true,
            "ticks": "",
            "zerolinecolor": "white"
           },
           "zaxis": {
            "backgroundcolor": "#E5ECF6",
            "gridcolor": "white",
            "gridwidth": 2,
            "linecolor": "white",
            "showbackground": true,
            "ticks": "",
            "zerolinecolor": "white"
           }
          },
          "shapedefaults": {
           "line": {
            "color": "#2a3f5f"
           }
          },
          "ternary": {
           "aaxis": {
            "gridcolor": "white",
            "linecolor": "white",
            "ticks": ""
           },
           "baxis": {
            "gridcolor": "white",
            "linecolor": "white",
            "ticks": ""
           },
           "bgcolor": "#E5ECF6",
           "caxis": {
            "gridcolor": "white",
            "linecolor": "white",
            "ticks": ""
           }
          },
          "title": {
           "x": 0.05
          },
          "xaxis": {
           "automargin": true,
           "gridcolor": "white",
           "linecolor": "white",
           "ticks": "",
           "title": {
            "standoff": 15
           },
           "zerolinecolor": "white",
           "zerolinewidth": 2
          },
          "yaxis": {
           "automargin": true,
           "gridcolor": "white",
           "linecolor": "white",
           "ticks": "",
           "title": {
            "standoff": 15
           },
           "zerolinecolor": "white",
           "zerolinewidth": 2
          }
         }
        },
        "xaxis": {
         "anchor": "y",
         "constrain": "domain",
         "domain": [
          0.0,
          1.0
         ],
         "scaleanchor": "y",
         "title": {
          "text": "Year"
         }
        },
        "yaxis": {
         "anchor": "x",
         "autorange": "reversed",
         "constrain": "domain",
         "domain": [
          0.0,
          1.0
         ],
         "title": {
          "text": "Surgery"
         }
        }
       }
      },
      "text/html": [
       "<div>                            <div id=\"17189296-77fa-43d0-873c-bacdbe1b5ac6\" class=\"plotly-graph-div\" style=\"height:525px; width:100%;\"></div>            <script type=\"text/javascript\">                require([\"plotly\"], function(Plotly) {                    window.PLOTLYENV=window.PLOTLYENV || {};                                    if (document.getElementById(\"17189296-77fa-43d0-873c-bacdbe1b5ac6\")) {                    Plotly.newPlot(                        \"17189296-77fa-43d0-873c-bacdbe1b5ac6\",                        [{\"coloraxis\":\"coloraxis\",\"name\":\"0\",\"texttemplate\":\"%{z}\",\"x\":[2013,2014,2015,2016,2017,2018,2019,2020],\"y\":[\"Bladder\",\"Brain\",\"Breast\",\"Colon\",\"Esophagus\",\"Liver\",\"Lung\",\"Pancreas\",\"Prostate\",\"Rectum\",\"Stomach\"],\"z\":[[132,125,102,134,125,117,105,112],[143,139,138,141,135,140,143,135],[292,299,287,286,285,282,282,267],[298,303,286,294,290,288,286,280],[83,85,66,88,82,73,84,77],[112,107,93,168,165,153,152,141],[187,194,183,173,167,172,159,154],[99,111,95,140,132,120,125,126],[173,171,149,207,204,196,186,189],[231,251,228,263,258,256,258,249],[204,190,173,193,182,184,181,186]],\"type\":\"heatmap\",\"xaxis\":\"x\",\"yaxis\":\"y\",\"hovertemplate\":\"Year: %{x}<br>Surgery: %{y}<br>color: %{z}<extra></extra>\"}],                        {\"template\":{\"data\":{\"histogram2dcontour\":[{\"type\":\"histogram2dcontour\",\"colorbar\":{\"outlinewidth\":0,\"ticks\":\"\"},\"colorscale\":[[0.0,\"#0d0887\"],[0.1111111111111111,\"#46039f\"],[0.2222222222222222,\"#7201a8\"],[0.3333333333333333,\"#9c179e\"],[0.4444444444444444,\"#bd3786\"],[0.5555555555555556,\"#d8576b\"],[0.6666666666666666,\"#ed7953\"],[0.7777777777777778,\"#fb9f3a\"],[0.8888888888888888,\"#fdca26\"],[1.0,\"#f0f921\"]]}],\"choropleth\":[{\"type\":\"choropleth\",\"colorbar\":{\"outlinewidth\":0,\"ticks\":\"\"}}],\"histogram2d\":[{\"type\":\"histogram2d\",\"colorbar\":{\"outlinewidth\":0,\"ticks\":\"\"},\"colorscale\":[[0.0,\"#0d0887\"],[0.1111111111111111,\"#46039f\"],[0.2222222222222222,\"#7201a8\"],[0.3333333333333333,\"#9c179e\"],[0.4444444444444444,\"#bd3786\"],[0.5555555555555556,\"#d8576b\"],[0.6666666666666666,\"#ed7953\"],[0.7777777777777778,\"#fb9f3a\"],[0.8888888888888888,\"#fdca26\"],[1.0,\"#f0f921\"]]}],\"heatmap\":[{\"type\":\"heatmap\",\"colorbar\":{\"outlinewidth\":0,\"ticks\":\"\"},\"colorscale\":[[0.0,\"#0d0887\"],[0.1111111111111111,\"#46039f\"],[0.2222222222222222,\"#7201a8\"],[0.3333333333333333,\"#9c179e\"],[0.4444444444444444,\"#bd3786\"],[0.5555555555555556,\"#d8576b\"],[0.6666666666666666,\"#ed7953\"],[0.7777777777777778,\"#fb9f3a\"],[0.8888888888888888,\"#fdca26\"],[1.0,\"#f0f921\"]]}],\"heatmapgl\":[{\"type\":\"heatmapgl\",\"colorbar\":{\"outlinewidth\":0,\"ticks\":\"\"},\"colorscale\":[[0.0,\"#0d0887\"],[0.1111111111111111,\"#46039f\"],[0.2222222222222222,\"#7201a8\"],[0.3333333333333333,\"#9c179e\"],[0.4444444444444444,\"#bd3786\"],[0.5555555555555556,\"#d8576b\"],[0.6666666666666666,\"#ed7953\"],[0.7777777777777778,\"#fb9f3a\"],[0.8888888888888888,\"#fdca26\"],[1.0,\"#f0f921\"]]}],\"contourcarpet\":[{\"type\":\"contourcarpet\",\"colorbar\":{\"outlinewidth\":0,\"ticks\":\"\"}}],\"contour\":[{\"type\":\"contour\",\"colorbar\":{\"outlinewidth\":0,\"ticks\":\"\"},\"colorscale\":[[0.0,\"#0d0887\"],[0.1111111111111111,\"#46039f\"],[0.2222222222222222,\"#7201a8\"],[0.3333333333333333,\"#9c179e\"],[0.4444444444444444,\"#bd3786\"],[0.5555555555555556,\"#d8576b\"],[0.6666666666666666,\"#ed7953\"],[0.7777777777777778,\"#fb9f3a\"],[0.8888888888888888,\"#fdca26\"],[1.0,\"#f0f921\"]]}],\"surface\":[{\"type\":\"surface\",\"colorbar\":{\"outlinewidth\":0,\"ticks\":\"\"},\"colorscale\":[[0.0,\"#0d0887\"],[0.1111111111111111,\"#46039f\"],[0.2222222222222222,\"#7201a8\"],[0.3333333333333333,\"#9c179e\"],[0.4444444444444444,\"#bd3786\"],[0.5555555555555556,\"#d8576b\"],[0.6666666666666666,\"#ed7953\"],[0.7777777777777778,\"#fb9f3a\"],[0.8888888888888888,\"#fdca26\"],[1.0,\"#f0f921\"]]}],\"mesh3d\":[{\"type\":\"mesh3d\",\"colorbar\":{\"outlinewidth\":0,\"ticks\":\"\"}}],\"scatter\":[{\"fillpattern\":{\"fillmode\":\"overlay\",\"size\":10,\"solidity\":0.2},\"type\":\"scatter\"}],\"parcoords\":[{\"type\":\"parcoords\",\"line\":{\"colorbar\":{\"outlinewidth\":0,\"ticks\":\"\"}}}],\"scatterpolargl\":[{\"type\":\"scatterpolargl\",\"marker\":{\"colorbar\":{\"outlinewidth\":0,\"ticks\":\"\"}}}],\"bar\":[{\"error_x\":{\"color\":\"#2a3f5f\"},\"error_y\":{\"color\":\"#2a3f5f\"},\"marker\":{\"line\":{\"color\":\"#E5ECF6\",\"width\":0.5},\"pattern\":{\"fillmode\":\"overlay\",\"size\":10,\"solidity\":0.2}},\"type\":\"bar\"}],\"scattergeo\":[{\"type\":\"scattergeo\",\"marker\":{\"colorbar\":{\"outlinewidth\":0,\"ticks\":\"\"}}}],\"scatterpolar\":[{\"type\":\"scatterpolar\",\"marker\":{\"colorbar\":{\"outlinewidth\":0,\"ticks\":\"\"}}}],\"histogram\":[{\"marker\":{\"pattern\":{\"fillmode\":\"overlay\",\"size\":10,\"solidity\":0.2}},\"type\":\"histogram\"}],\"scattergl\":[{\"type\":\"scattergl\",\"marker\":{\"colorbar\":{\"outlinewidth\":0,\"ticks\":\"\"}}}],\"scatter3d\":[{\"type\":\"scatter3d\",\"line\":{\"colorbar\":{\"outlinewidth\":0,\"ticks\":\"\"}},\"marker\":{\"colorbar\":{\"outlinewidth\":0,\"ticks\":\"\"}}}],\"scattermapbox\":[{\"type\":\"scattermapbox\",\"marker\":{\"colorbar\":{\"outlinewidth\":0,\"ticks\":\"\"}}}],\"scatterternary\":[{\"type\":\"scatterternary\",\"marker\":{\"colorbar\":{\"outlinewidth\":0,\"ticks\":\"\"}}}],\"scattercarpet\":[{\"type\":\"scattercarpet\",\"marker\":{\"colorbar\":{\"outlinewidth\":0,\"ticks\":\"\"}}}],\"carpet\":[{\"aaxis\":{\"endlinecolor\":\"#2a3f5f\",\"gridcolor\":\"white\",\"linecolor\":\"white\",\"minorgridcolor\":\"white\",\"startlinecolor\":\"#2a3f5f\"},\"baxis\":{\"endlinecolor\":\"#2a3f5f\",\"gridcolor\":\"white\",\"linecolor\":\"white\",\"minorgridcolor\":\"white\",\"startlinecolor\":\"#2a3f5f\"},\"type\":\"carpet\"}],\"table\":[{\"cells\":{\"fill\":{\"color\":\"#EBF0F8\"},\"line\":{\"color\":\"white\"}},\"header\":{\"fill\":{\"color\":\"#C8D4E3\"},\"line\":{\"color\":\"white\"}},\"type\":\"table\"}],\"barpolar\":[{\"marker\":{\"line\":{\"color\":\"#E5ECF6\",\"width\":0.5},\"pattern\":{\"fillmode\":\"overlay\",\"size\":10,\"solidity\":0.2}},\"type\":\"barpolar\"}],\"pie\":[{\"automargin\":true,\"type\":\"pie\"}]},\"layout\":{\"autotypenumbers\":\"strict\",\"colorway\":[\"#636efa\",\"#EF553B\",\"#00cc96\",\"#ab63fa\",\"#FFA15A\",\"#19d3f3\",\"#FF6692\",\"#B6E880\",\"#FF97FF\",\"#FECB52\"],\"font\":{\"color\":\"#2a3f5f\"},\"hovermode\":\"closest\",\"hoverlabel\":{\"align\":\"left\"},\"paper_bgcolor\":\"white\",\"plot_bgcolor\":\"#E5ECF6\",\"polar\":{\"bgcolor\":\"#E5ECF6\",\"angularaxis\":{\"gridcolor\":\"white\",\"linecolor\":\"white\",\"ticks\":\"\"},\"radialaxis\":{\"gridcolor\":\"white\",\"linecolor\":\"white\",\"ticks\":\"\"}},\"ternary\":{\"bgcolor\":\"#E5ECF6\",\"aaxis\":{\"gridcolor\":\"white\",\"linecolor\":\"white\",\"ticks\":\"\"},\"baxis\":{\"gridcolor\":\"white\",\"linecolor\":\"white\",\"ticks\":\"\"},\"caxis\":{\"gridcolor\":\"white\",\"linecolor\":\"white\",\"ticks\":\"\"}},\"coloraxis\":{\"colorbar\":{\"outlinewidth\":0,\"ticks\":\"\"}},\"colorscale\":{\"sequential\":[[0.0,\"#0d0887\"],[0.1111111111111111,\"#46039f\"],[0.2222222222222222,\"#7201a8\"],[0.3333333333333333,\"#9c179e\"],[0.4444444444444444,\"#bd3786\"],[0.5555555555555556,\"#d8576b\"],[0.6666666666666666,\"#ed7953\"],[0.7777777777777778,\"#fb9f3a\"],[0.8888888888888888,\"#fdca26\"],[1.0,\"#f0f921\"]],\"sequentialminus\":[[0.0,\"#0d0887\"],[0.1111111111111111,\"#46039f\"],[0.2222222222222222,\"#7201a8\"],[0.3333333333333333,\"#9c179e\"],[0.4444444444444444,\"#bd3786\"],[0.5555555555555556,\"#d8576b\"],[0.6666666666666666,\"#ed7953\"],[0.7777777777777778,\"#fb9f3a\"],[0.8888888888888888,\"#fdca26\"],[1.0,\"#f0f921\"]],\"diverging\":[[0,\"#8e0152\"],[0.1,\"#c51b7d\"],[0.2,\"#de77ae\"],[0.3,\"#f1b6da\"],[0.4,\"#fde0ef\"],[0.5,\"#f7f7f7\"],[0.6,\"#e6f5d0\"],[0.7,\"#b8e186\"],[0.8,\"#7fbc41\"],[0.9,\"#4d9221\"],[1,\"#276419\"]]},\"xaxis\":{\"gridcolor\":\"white\",\"linecolor\":\"white\",\"ticks\":\"\",\"title\":{\"standoff\":15},\"zerolinecolor\":\"white\",\"automargin\":true,\"zerolinewidth\":2},\"yaxis\":{\"gridcolor\":\"white\",\"linecolor\":\"white\",\"ticks\":\"\",\"title\":{\"standoff\":15},\"zerolinecolor\":\"white\",\"automargin\":true,\"zerolinewidth\":2},\"scene\":{\"xaxis\":{\"backgroundcolor\":\"#E5ECF6\",\"gridcolor\":\"white\",\"linecolor\":\"white\",\"showbackground\":true,\"ticks\":\"\",\"zerolinecolor\":\"white\",\"gridwidth\":2},\"yaxis\":{\"backgroundcolor\":\"#E5ECF6\",\"gridcolor\":\"white\",\"linecolor\":\"white\",\"showbackground\":true,\"ticks\":\"\",\"zerolinecolor\":\"white\",\"gridwidth\":2},\"zaxis\":{\"backgroundcolor\":\"#E5ECF6\",\"gridcolor\":\"white\",\"linecolor\":\"white\",\"showbackground\":true,\"ticks\":\"\",\"zerolinecolor\":\"white\",\"gridwidth\":2}},\"shapedefaults\":{\"line\":{\"color\":\"#2a3f5f\"}},\"annotationdefaults\":{\"arrowcolor\":\"#2a3f5f\",\"arrowhead\":0,\"arrowwidth\":1},\"geo\":{\"bgcolor\":\"white\",\"landcolor\":\"#E5ECF6\",\"subunitcolor\":\"white\",\"showland\":true,\"showlakes\":true,\"lakecolor\":\"white\"},\"title\":{\"x\":0.05},\"mapbox\":{\"style\":\"light\"}}},\"xaxis\":{\"anchor\":\"y\",\"domain\":[0.0,1.0],\"scaleanchor\":\"y\",\"constrain\":\"domain\",\"title\":{\"text\":\"Year\"}},\"yaxis\":{\"anchor\":\"x\",\"domain\":[0.0,1.0],\"autorange\":\"reversed\",\"constrain\":\"domain\",\"title\":{\"text\":\"Surgery\"}},\"coloraxis\":{\"colorscale\":[[0.0,\"#0d0887\"],[0.1111111111111111,\"#46039f\"],[0.2222222222222222,\"#7201a8\"],[0.3333333333333333,\"#9c179e\"],[0.4444444444444444,\"#bd3786\"],[0.5555555555555556,\"#d8576b\"],[0.6666666666666666,\"#ed7953\"],[0.7777777777777778,\"#fb9f3a\"],[0.8888888888888888,\"#fdca26\"],[1.0,\"#f0f921\"]]},\"margin\":{\"t\":60}},                        {\"responsive\": true}                    ).then(function(){\n",
       "                            \n",
       "var gd = document.getElementById('17189296-77fa-43d0-873c-bacdbe1b5ac6');\n",
       "var x = new MutationObserver(function (mutations, observer) {{\n",
       "        var display = window.getComputedStyle(gd).display;\n",
       "        if (!display || display === 'none') {{\n",
       "            console.log([gd, 'removed!']);\n",
       "            Plotly.purge(gd);\n",
       "            observer.disconnect();\n",
       "        }}\n",
       "}});\n",
       "\n",
       "// Listen for the removal of the full notebook cells\n",
       "var notebookContainer = gd.closest('#notebook-container');\n",
       "if (notebookContainer) {{\n",
       "    x.observe(notebookContainer, {childList: true});\n",
       "}}\n",
       "\n",
       "// Listen for the clearing of the current output cell\n",
       "var outputEl = gd.closest('.output');\n",
       "if (outputEl) {{\n",
       "    x.observe(outputEl, {childList: true});\n",
       "}}\n",
       "\n",
       "                        })                };                });            </script>        </div>"
      ]
     },
     "metadata": {},
     "output_type": "display_data"
    }
   ],
   "source": [
    "#Using plotly to make heatmap\n",
    "heat=px.imshow(heatmap1, text_auto=True)\n",
    "heat"
   ]
  },
  {
   "cell_type": "markdown",
   "id": "6a65a8f8",
   "metadata": {
    "papermill": {
     "duration": 0.032484,
     "end_time": "2022-11-26T15:14:37.119508",
     "exception": false,
     "start_time": "2022-11-26T15:14:37.087024",
     "status": "completed"
    },
    "tags": []
   },
   "source": [
    "<div style=\"color:white;\n",
    "           display:fill;\n",
    "           border-radius:5px;\n",
    "           background-color:red;\n",
    "           font-size:110%;\n",
    "           font-family:Verdana;\n",
    "           letter-spacing:0.5px\">\n",
    "\n",
    "<p style=\"padding: 10px;\n",
    "              color:white;\">    Insight: we can see that Colon and Breast surgeries were more common from 2013 to 2020, while Esophagus is the least.\n",
    "\n",
    "</div>\n"
   ]
  },
  {
   "cell_type": "markdown",
   "id": "b6726a33",
   "metadata": {
    "papermill": {
     "duration": 0.032475,
     "end_time": "2022-11-26T15:14:37.184880",
     "exception": false,
     "start_time": "2022-11-26T15:14:37.152405",
     "status": "completed"
    },
    "tags": []
   },
   "source": [
    "<h1 style=\"color:blue\"; font-size:100%\">GROUP EACH COLUMN BY NO OF CASES AND VISUALIZE</h1> "
   ]
  },
  {
   "cell_type": "code",
   "execution_count": 34,
   "id": "4adcd705",
   "metadata": {
    "execution": {
     "iopub.execute_input": "2022-11-26T15:14:37.253250Z",
     "iopub.status.busy": "2022-11-26T15:14:37.252472Z",
     "iopub.status.idle": "2022-11-26T15:14:37.286317Z",
     "shell.execute_reply": "2022-11-26T15:14:37.285094Z"
    },
    "papermill": {
     "duration": 0.071133,
     "end_time": "2022-11-26T15:14:37.289133",
     "exception": false,
     "start_time": "2022-11-26T15:14:37.218000",
     "status": "completed"
    },
    "tags": []
   },
   "outputs": [],
   "source": [
    "year_group=data.groupby([\"Year\"]).No_of_cases1.sum()\n",
    "year_group=pd.DataFrame(year_group.reset_index())\n",
    "year_group=year_group.sort_values(by=[\"No_of_cases1\"], ascending=[False])\n",
    "year_group=year_group.reset_index()\n",
    "year_group.columns=[\"index\", \"Year\",\"No_of_cases1\"]\n",
    "year_group=year_group.drop([\"index\"], axis=1)\n",
    "\n",
    "\n",
    "\n",
    "county_group=data.groupby([\"County\"]).No_of_cases1.sum()\n",
    "county_group=pd.DataFrame(county_group.reset_index())\n",
    "county_group=county_group.sort_values(by=[\"No_of_cases1\"], ascending=[False])\n",
    "county_group=county_group.reset_index()\n",
    "county_group.columns=[\"index\", \"Country\",\"No_of_cases1\"]\n",
    "county_group=county_group.drop([\"index\"], axis=1)\n",
    "\n",
    "\n",
    "hospital_group=data.groupby([\"Hospital\"]).No_of_cases1.sum()\n",
    "hospital_group=pd.DataFrame(hospital_group.reset_index())\n",
    "hospital_group=hospital_group.sort_values(by=[\"No_of_cases1\"], ascending=[False])\n",
    "hospital_group=hospital_group.reset_index()\n",
    "hospital_group.columns=[\"index\", \"Hospital\",\"No_of_cases1\"]\n",
    "hospital_group=hospital_group.drop([\"index\"], axis=1)\n",
    "\n",
    "\n",
    "\n",
    "surgery_group=data.groupby([\"Surgery\"]).No_of_cases1.sum()\n",
    "surgery_group=pd.DataFrame(surgery_group.reset_index())\n",
    "surgery_group=surgery_group.sort_values(by=[\"No_of_cases1\"], ascending=[False])\n",
    "surgery_group=surgery_group.reset_index()\n",
    "surgery_group.columns=[\"index\", \"Surgery\",\"No_of_cases1\"]\n",
    "surgery_group=surgery_group.drop([\"index\"], axis=1)\n",
    "\n"
   ]
  },
  {
   "cell_type": "code",
   "execution_count": 35,
   "id": "37a10197",
   "metadata": {
    "execution": {
     "iopub.execute_input": "2022-11-26T15:14:37.357553Z",
     "iopub.status.busy": "2022-11-26T15:14:37.357129Z",
     "iopub.status.idle": "2022-11-26T15:14:37.630211Z",
     "shell.execute_reply": "2022-11-26T15:14:37.629058Z"
    },
    "papermill": {
     "duration": 0.310172,
     "end_time": "2022-11-26T15:14:37.632535",
     "exception": false,
     "start_time": "2022-11-26T15:14:37.322363",
     "status": "completed"
    },
    "tags": []
   },
   "outputs": [
    {
     "data": {
      "image/png": "[encoded data removed]",
      "text/plain": [
       "<Figure size 1440x720 with 1 Axes>"
      ]
     },
     "metadata": {
      "needs_background": "light"
     },
     "output_type": "display_data"
    }
   ],
   "source": [
    "fig=plt.figure(figsize=(20,10))\n",
    "Cases=year_group[\"No_of_cases1\"]\n",
    "Year=year_group[\"Year\"]\n",
    "ax1=sns.barplot(x=Year, y=Cases, data=year_group, order=Year)\n",
    "ax1.bar_label(ax1.containers[0]);\n",
    "\n",
    "\n"
   ]
  },
  {
   "cell_type": "code",
   "execution_count": 36,
   "id": "39049b8a",
   "metadata": {
    "execution": {
     "iopub.execute_input": "2022-11-26T15:14:37.700988Z",
     "iopub.status.busy": "2022-11-26T15:14:37.699931Z",
     "iopub.status.idle": "2022-11-26T15:14:39.099633Z",
     "shell.execute_reply": "2022-11-26T15:14:39.098473Z"
    },
    "papermill": {
     "duration": 1.436779,
     "end_time": "2022-11-26T15:14:39.102303",
     "exception": false,
     "start_time": "2022-11-26T15:14:37.665524",
     "status": "completed"
    },
    "tags": []
   },
   "outputs": [
    {
     "data": {
      "image/png": "[encoded data removed]",
      "text/plain": [
       "<Figure size 1440x720 with 1 Axes>"
      ]
     },
     "metadata": {
      "needs_background": "light"
     },
     "output_type": "display_data"
    }
   ],
   "source": [
    "fig=plt.figure(figsize=(20,10))\n",
    "Cases=county_group[\"No_of_cases1\"]\n",
    "County=county_group[\"Country\"]\n",
    "ax=sns.barplot(x=County, y=Cases, data=year_group)\n",
    "ax.bar_label(ax.containers[0])\n",
    "plt.xticks(rotation=90);\n"
   ]
  },
  {
   "cell_type": "markdown",
   "id": "70441eb8",
   "metadata": {
    "papermill": {
     "duration": 0.034128,
     "end_time": "2022-11-26T15:14:39.171055",
     "exception": false,
     "start_time": "2022-11-26T15:14:39.136927",
     "status": "completed"
    },
    "tags": []
   },
   "source": [
    "<div style=\"color:white;\n",
    "           display:fill;\n",
    "           border-radius:5px;\n",
    "           background-color:red;\n",
    "           font-size:110%;\n",
    "           font-family:Verdana;\n",
    "           letter-spacing:0.5px\">\n",
    "\n",
    "<p style=\"padding: 10px;\n",
    "              color:white;\">    <div style=\"color:white;\n",
    "           display:fill;\n",
    "           border-radius:5px;\n",
    "           background-color:red;\n",
    "           font-size:110%;\n",
    "           font-family:Verdana;\n",
    "           letter-spacing:0.5px\">\n",
    "\n",
    "<p style=\"padding: 10px;\n",
    "              color:white;\">    Insight: We can see that the county(province) that was empty at the beginning of this notebook which we replaced as \"state\" has the highest value of surgeries, followed by Los Angeles. On the other hand, Colusa has the mininum with a value of just 1.\n",
    "\n",
    "</div>\n",
    "\n",
    "\n",
    "</div>\n"
   ]
  },
  {
   "cell_type": "code",
   "execution_count": 37,
   "id": "660e5400",
   "metadata": {
    "execution": {
     "iopub.execute_input": "2022-11-26T15:14:39.240969Z",
     "iopub.status.busy": "2022-11-26T15:14:39.240538Z",
     "iopub.status.idle": "2022-11-26T15:14:39.503923Z",
     "shell.execute_reply": "2022-11-26T15:14:39.502736Z"
    },
    "papermill": {
     "duration": 0.301399,
     "end_time": "2022-11-26T15:14:39.506497",
     "exception": false,
     "start_time": "2022-11-26T15:14:39.205098",
     "status": "completed"
    },
    "tags": []
   },
   "outputs": [
    {
     "data": {
      "image/png": "[encoded data removed]",
      "text/plain": [
       "<Figure size 1440x720 with 1 Axes>"
      ]
     },
     "metadata": {
      "needs_background": "light"
     },
     "output_type": "display_data"
    }
   ],
   "source": [
    "fig=plt.figure(figsize=(20,10))\n",
    "Cases=surgery_group[\"No_of_cases1\"]\n",
    "Surgery=surgery_group[\"Surgery\"]\n",
    "ax=sns.barplot(x=Surgery, y=Cases, data=year_group)\n",
    "\n",
    "\n",
    "\n"
   ]
  },
  {
   "cell_type": "code",
   "execution_count": 38,
   "id": "11c767e1",
   "metadata": {
    "execution": {
     "iopub.execute_input": "2022-11-26T15:14:39.578736Z",
     "iopub.status.busy": "2022-11-26T15:14:39.577974Z",
     "iopub.status.idle": "2022-11-26T15:14:48.116620Z",
     "shell.execute_reply": "2022-11-26T15:14:48.115752Z"
    },
    "papermill": {
     "duration": 8.580348,
     "end_time": "2022-11-26T15:14:48.121979",
     "exception": false,
     "start_time": "2022-11-26T15:14:39.541631",
     "status": "completed"
    },
    "tags": []
   },
   "outputs": [
    {
     "data": {
      "image/png": "[encoded data removed]",
      "text/plain": [
       "<Figure size 1440x720 with 1 Axes>"
      ]
     },
     "metadata": {
      "needs_background": "light"
     },
     "output_type": "display_data"
    }
   ],
   "source": [
    "\n",
    "fig=plt.figure(figsize=(20,10))\n",
    "Cases=hospital_group[\"No_of_cases1\"]\n",
    "Hospital=hospital_group[\"Hospital\"]\n",
    "ax=sns.barplot(y=Hospital, x=Cases, data=year_group)\n",
    "plt.xticks(rotation=90, fontsize=10)\n",
    "\n",
    "plt.show()\n",
    "\n"
   ]
  },
  {
   "cell_type": "code",
   "execution_count": 39,
   "id": "d88afc82",
   "metadata": {
    "execution": {
     "iopub.execute_input": "2022-11-26T15:14:48.203467Z",
     "iopub.status.busy": "2022-11-26T15:14:48.202763Z",
     "iopub.status.idle": "2022-11-26T15:14:48.215279Z",
     "shell.execute_reply": "2022-11-26T15:14:48.214188Z"
    },
    "papermill": {
     "duration": 0.056219,
     "end_time": "2022-11-26T15:14:48.218044",
     "exception": false,
     "start_time": "2022-11-26T15:14:48.161825",
     "status": "completed"
    },
    "tags": []
   },
   "outputs": [
    {
     "data": {
      "text/html": [
       "<div>\n",
       "<style scoped>\n",
       "    .dataframe tbody tr th:only-of-type {\n",
       "        vertical-align: middle;\n",
       "    }\n",
       "\n",
       "    .dataframe tbody tr th {\n",
       "        vertical-align: top;\n",
       "    }\n",
       "\n",
       "    .dataframe thead th {\n",
       "        text-align: right;\n",
       "    }\n",
       "</style>\n",
       "<table border=\"1\" class=\"dataframe\">\n",
       "  <thead>\n",
       "    <tr style=\"text-align: right;\">\n",
       "      <th></th>\n",
       "      <th>Hospital</th>\n",
       "      <th>No_of_cases1</th>\n",
       "    </tr>\n",
       "  </thead>\n",
       "  <tbody>\n",
       "    <tr>\n",
       "      <th>0</th>\n",
       "      <td>Statewide</td>\n",
       "      <td>422259.0</td>\n",
       "    </tr>\n",
       "    <tr>\n",
       "      <th>1</th>\n",
       "      <td>UC San Francisco Medical Center</td>\n",
       "      <td>11814.0</td>\n",
       "    </tr>\n",
       "    <tr>\n",
       "      <th>2</th>\n",
       "      <td>City of Hope Helford Clinical Research Hospital</td>\n",
       "      <td>8961.0</td>\n",
       "    </tr>\n",
       "    <tr>\n",
       "      <th>3</th>\n",
       "      <td>Hoag Memorial Hospital Presbyterian</td>\n",
       "      <td>8937.0</td>\n",
       "    </tr>\n",
       "    <tr>\n",
       "      <th>4</th>\n",
       "      <td>Stanford Health Care</td>\n",
       "      <td>7501.0</td>\n",
       "    </tr>\n",
       "    <tr>\n",
       "      <th>5</th>\n",
       "      <td>Keck Hospital of University of Southern Califo...</td>\n",
       "      <td>7293.0</td>\n",
       "    </tr>\n",
       "    <tr>\n",
       "      <th>6</th>\n",
       "      <td>UC San Diego Health System  Hillcrest Medical...</td>\n",
       "      <td>7089.0</td>\n",
       "    </tr>\n",
       "    <tr>\n",
       "      <th>7</th>\n",
       "      <td>Cedars Sinai Medical Center</td>\n",
       "      <td>7075.0</td>\n",
       "    </tr>\n",
       "    <tr>\n",
       "      <th>8</th>\n",
       "      <td>Ronald Reagan UCLA Medical Center</td>\n",
       "      <td>6871.0</td>\n",
       "    </tr>\n",
       "    <tr>\n",
       "      <th>9</th>\n",
       "      <td>Kaiser Foundation Hospital  Fontana</td>\n",
       "      <td>6758.0</td>\n",
       "    </tr>\n",
       "  </tbody>\n",
       "</table>\n",
       "</div>"
      ],
      "text/plain": [
       "                                            Hospital  No_of_cases1\n",
       "0                                          Statewide      422259.0\n",
       "1                    UC San Francisco Medical Center       11814.0\n",
       "2    City of Hope Helford Clinical Research Hospital        8961.0\n",
       "3                Hoag Memorial Hospital Presbyterian        8937.0\n",
       "4                               Stanford Health Care        7501.0\n",
       "5  Keck Hospital of University of Southern Califo...        7293.0\n",
       "6  UC San Diego Health System  Hillcrest Medical...        7089.0\n",
       "7                        Cedars Sinai Medical Center        7075.0\n",
       "8                  Ronald Reagan UCLA Medical Center        6871.0\n",
       "9               Kaiser Foundation Hospital  Fontana        6758.0"
      ]
     },
     "execution_count": 39,
     "metadata": {},
     "output_type": "execute_result"
    }
   ],
   "source": [
    "# The data from the hospital column above is too noisy, we can choose the first ten hospitals with the higest number of cases\n",
    "\n",
    "hospital_group_10=hospital_group.head(10)\n",
    "hospital_group_10"
   ]
  },
  {
   "cell_type": "code",
   "execution_count": 40,
   "id": "8969a10b",
   "metadata": {
    "execution": {
     "iopub.execute_input": "2022-11-26T15:14:48.300134Z",
     "iopub.status.busy": "2022-11-26T15:14:48.299694Z",
     "iopub.status.idle": "2022-11-26T15:14:48.779196Z",
     "shell.execute_reply": "2022-11-26T15:14:48.778037Z"
    },
    "papermill": {
     "duration": 0.524456,
     "end_time": "2022-11-26T15:14:48.783037",
     "exception": false,
     "start_time": "2022-11-26T15:14:48.258581",
     "status": "completed"
    },
    "tags": []
   },
   "outputs": [
    {
     "data": {
      "image/png": "[encoded data removed]",
      "text/plain": [
       "<Figure size 1440x720 with 1 Axes>"
      ]
     },
     "metadata": {
      "needs_background": "light"
     },
     "output_type": "display_data"
    }
   ],
   "source": [
    "\n",
    "fig=plt.figure(figsize=(20,10))\n",
    "Cases=hospital_group_10[\"No_of_cases1\"]\n",
    "Hospital=hospital_group_10[\"Hospital\"]\n",
    "ax=sns.barplot(x=Hospital, y=Cases, data=hospital_group_10)\n",
    "ax.bar_label(ax.containers[0])\n",
    "plt.xticks(rotation=90, fontsize=20)\n",
    "plt.legend(Hospital, fontsize=15 )\n",
    "plt.show()"
   ]
  },
  {
   "cell_type": "code",
   "execution_count": 41,
   "id": "1e593217",
   "metadata": {
    "execution": {
     "iopub.execute_input": "2022-11-26T15:14:48.870151Z",
     "iopub.status.busy": "2022-11-26T15:14:48.869051Z",
     "iopub.status.idle": "2022-11-26T15:14:49.105909Z",
     "shell.execute_reply": "2022-11-26T15:14:49.104708Z"
    },
    "papermill": {
     "duration": 0.282865,
     "end_time": "2022-11-26T15:14:49.108399",
     "exception": false,
     "start_time": "2022-11-26T15:14:48.825534",
     "status": "completed"
    },
    "tags": []
   },
   "outputs": [
    {
     "data": {
      "text/plain": [
       "<AxesSubplot:xlabel='Year', ylabel='No_of_cases1'>"
      ]
     },
     "execution_count": 41,
     "metadata": {},
     "output_type": "execute_result"
    },
    {
     "data": {
      "image/png": "[encoded data removed]",
      "text/plain": [
       "<Figure size 432x288 with 1 Axes>"
      ]
     },
     "metadata": {
      "needs_background": "light"
     },
     "output_type": "display_data"
    }
   ],
   "source": [
    "# Check the trend over the years\n",
    "x=year_group[\"Year\"]\n",
    "y=year_group[\"No_of_cases1\"]\n",
    "sns.lineplot(data=year_group,x=x, y=y)"
   ]
  },
  {
   "cell_type": "code",
   "execution_count": 42,
   "id": "7531079b",
   "metadata": {
    "execution": {
     "iopub.execute_input": "2022-11-26T15:14:49.195126Z",
     "iopub.status.busy": "2022-11-26T15:14:49.194341Z",
     "iopub.status.idle": "2022-11-26T15:14:49.214318Z",
     "shell.execute_reply": "2022-11-26T15:14:49.213100Z"
    },
    "papermill": {
     "duration": 0.066185,
     "end_time": "2022-11-26T15:14:49.216743",
     "exception": false,
     "start_time": "2022-11-26T15:14:49.150558",
     "status": "completed"
    },
    "tags": []
   },
   "outputs": [
    {
     "data": {
      "text/html": [
       "<div>\n",
       "<style scoped>\n",
       "    .dataframe tbody tr th:only-of-type {\n",
       "        vertical-align: middle;\n",
       "    }\n",
       "\n",
       "    .dataframe tbody tr th {\n",
       "        vertical-align: top;\n",
       "    }\n",
       "\n",
       "    .dataframe thead th {\n",
       "        text-align: right;\n",
       "    }\n",
       "</style>\n",
       "<table border=\"1\" class=\"dataframe\">\n",
       "  <thead>\n",
       "    <tr style=\"text-align: right;\">\n",
       "      <th></th>\n",
       "      <th>Year</th>\n",
       "      <th>County</th>\n",
       "      <th>Hospital</th>\n",
       "      <th>Surgery</th>\n",
       "      <th>No_of_cases1</th>\n",
       "      <th>OSHPDID</th>\n",
       "    </tr>\n",
       "  </thead>\n",
       "  <tbody>\n",
       "    <tr>\n",
       "      <th>0</th>\n",
       "      <td>2013</td>\n",
       "      <td>State</td>\n",
       "      <td>Statewide</td>\n",
       "      <td>Colon</td>\n",
       "      <td>7128.0</td>\n",
       "      <td>105687003.0</td>\n",
       "    </tr>\n",
       "    <tr>\n",
       "      <th>1</th>\n",
       "      <td>2013</td>\n",
       "      <td>State</td>\n",
       "      <td>Statewide</td>\n",
       "      <td>Bladder</td>\n",
       "      <td>892.0</td>\n",
       "      <td>105687003.0</td>\n",
       "    </tr>\n",
       "    <tr>\n",
       "      <th>2</th>\n",
       "      <td>2013</td>\n",
       "      <td>State</td>\n",
       "      <td>Statewide</td>\n",
       "      <td>Rectum</td>\n",
       "      <td>2128.0</td>\n",
       "      <td>105687003.0</td>\n",
       "    </tr>\n",
       "    <tr>\n",
       "      <th>3</th>\n",
       "      <td>2013</td>\n",
       "      <td>State</td>\n",
       "      <td>Statewide</td>\n",
       "      <td>Breast</td>\n",
       "      <td>25829.0</td>\n",
       "      <td>105687003.0</td>\n",
       "    </tr>\n",
       "    <tr>\n",
       "      <th>4</th>\n",
       "      <td>2013</td>\n",
       "      <td>State</td>\n",
       "      <td>Statewide</td>\n",
       "      <td>Brain</td>\n",
       "      <td>2719.0</td>\n",
       "      <td>105687003.0</td>\n",
       "    </tr>\n",
       "    <tr>\n",
       "      <th>...</th>\n",
       "      <td>...</td>\n",
       "      <td>...</td>\n",
       "      <td>...</td>\n",
       "      <td>...</td>\n",
       "      <td>...</td>\n",
       "      <td>...</td>\n",
       "    </tr>\n",
       "    <tr>\n",
       "      <th>15694</th>\n",
       "      <td>2020</td>\n",
       "      <td>Yuba</td>\n",
       "      <td>Adventist Health and Rideout</td>\n",
       "      <td>Rectum</td>\n",
       "      <td>6.0</td>\n",
       "      <td>106580996.0</td>\n",
       "    </tr>\n",
       "    <tr>\n",
       "      <th>15695</th>\n",
       "      <td>2020</td>\n",
       "      <td>Yuba</td>\n",
       "      <td>Adventist Health and Rideout</td>\n",
       "      <td>Prostate</td>\n",
       "      <td>5.0</td>\n",
       "      <td>106580996.0</td>\n",
       "    </tr>\n",
       "    <tr>\n",
       "      <th>15696</th>\n",
       "      <td>2020</td>\n",
       "      <td>Yuba</td>\n",
       "      <td>Adventist Health and Rideout</td>\n",
       "      <td>Lung</td>\n",
       "      <td>8.0</td>\n",
       "      <td>106580996.0</td>\n",
       "    </tr>\n",
       "    <tr>\n",
       "      <th>15697</th>\n",
       "      <td>2020</td>\n",
       "      <td>Yuba</td>\n",
       "      <td>Adventist Health and Rideout</td>\n",
       "      <td>Colon</td>\n",
       "      <td>20.0</td>\n",
       "      <td>106580996.0</td>\n",
       "    </tr>\n",
       "    <tr>\n",
       "      <th>15698</th>\n",
       "      <td>2020</td>\n",
       "      <td>Yuba</td>\n",
       "      <td>Adventist Health and Rideout</td>\n",
       "      <td>Breast</td>\n",
       "      <td>25.0</td>\n",
       "      <td>106580996.0</td>\n",
       "    </tr>\n",
       "  </tbody>\n",
       "</table>\n",
       "<p>15699 rows × 6 columns</p>\n",
       "</div>"
      ],
      "text/plain": [
       "       Year County                      Hospital   Surgery  No_of_cases1  \\\n",
       "0      2013  State                     Statewide     Colon        7128.0   \n",
       "1      2013  State                     Statewide   Bladder         892.0   \n",
       "2      2013  State                     Statewide    Rectum        2128.0   \n",
       "3      2013  State                     Statewide    Breast       25829.0   \n",
       "4      2013  State                     Statewide     Brain        2719.0   \n",
       "...     ...    ...                           ...       ...           ...   \n",
       "15694  2020   Yuba  Adventist Health and Rideout    Rectum           6.0   \n",
       "15695  2020   Yuba  Adventist Health and Rideout  Prostate           5.0   \n",
       "15696  2020   Yuba  Adventist Health and Rideout      Lung           8.0   \n",
       "15697  2020   Yuba  Adventist Health and Rideout     Colon          20.0   \n",
       "15698  2020   Yuba  Adventist Health and Rideout    Breast          25.0   \n",
       "\n",
       "           OSHPDID  \n",
       "0      105687003.0  \n",
       "1      105687003.0  \n",
       "2      105687003.0  \n",
       "3      105687003.0  \n",
       "4      105687003.0  \n",
       "...            ...  \n",
       "15694  106580996.0  \n",
       "15695  106580996.0  \n",
       "15696  106580996.0  \n",
       "15697  106580996.0  \n",
       "15698  106580996.0  \n",
       "\n",
       "[15699 rows x 6 columns]"
      ]
     },
     "execution_count": 42,
     "metadata": {},
     "output_type": "execute_result"
    }
   ],
   "source": [
    "# our final cleaned dataset is presented below\n",
    "data"
   ]
  }
 ],
 "metadata": {
  "kernelspec": {
   "display_name": "Python 3",
   "language": "python",
   "name": "python3"
  },
  "language_info": {
   "codemirror_mode": {
    "name": "ipython",
    "version": 3
   },
   "file_extension": ".py",
   "mimetype": "text/x-python",
   "name": "python",
   "nbconvert_exporter": "python",
   "pygments_lexer": "ipython3",
   "version": "3.7.12"
  },
  "papermill": {
   "default_parameters": {},
   "duration": 29.04248,
   "end_time": "2022-11-26T15:14:50.182109",
   "environment_variables": {},
   "exception": null,
   "input_path": "__notebook__.ipynb",
   "output_path": "__notebook__.ipynb",
   "parameters": {},
   "start_time": "2022-11-26T15:14:21.139629",
   "version": "2.3.4"
  }
 },
 "nbformat": 4,
 "nbformat_minor": 5
}
